{
 "cells": [
  {
   "cell_type": "markdown",
   "id": "15a3655c",
   "metadata": {},
   "source": [
    "#### Control Structures: Conditionals and Loops"
   ]
  },
  {
   "cell_type": "markdown",
   "id": "ca108bc6",
   "metadata": {},
   "source": [
    "#### Conditional Statements: are set a block to code runs if a condition is treu or false\n",
    "##### 'if' Statement: if true, runs the code inside\n",
    "##### 'elif' statement: check for another condition and run code inside if the first is false\n",
    "##### 'esle' Statement: runs code if all other conditions are false\n"
   ]
  },
  {
   "cell_type": "code",
   "execution_count": null,
   "id": "4b45c09d",
   "metadata": {},
   "outputs": [
    {
     "name": "stdout",
     "output_type": "stream",
     "text": [
      "x is 10 and less it is less than 20\n"
     ]
    }
   ],
   "source": [
    "# if condition \n",
    "x = 10\n",
    "if x < 20:\n",
    "    print(f'x is {x} and less it is less than 20')\n"
   ]
  },
  {
   "cell_type": "code",
   "execution_count": 12,
   "id": "d3c40bd9",
   "metadata": {},
   "outputs": [
    {
     "name": "stdout",
     "output_type": "stream",
     "text": [
      " x is 5 or less\n"
     ]
    }
   ],
   "source": [
    "# if else condition\n",
    "x = 5\n",
    "if x > 7:\n",
    "    print(f' x is {x} and less than 7')\n",
    "else:\n",
    "    print(f' x is {x} or less')\n",
    "\n"
   ]
  },
  {
   "cell_type": "code",
   "execution_count": 14,
   "id": "d35ea6d3",
   "metadata": {},
   "outputs": [
    {
     "name": "stdout",
     "output_type": "stream",
     "text": [
      "x is 10\n"
     ]
    }
   ],
   "source": [
    "# if, elif, and else\n",
    "x = 10\n",
    "if x < 5:\n",
    "    print(f' x is {x} and less than 5')\n",
    "elif x == 7:\n",
    "     print('x is {x} and not equal 7')\n",
    "else:\n",
    "    print(f'x is {x}')\n"
   ]
  },
  {
   "cell_type": "code",
   "execution_count": null,
   "id": "db7a8764",
   "metadata": {},
   "outputs": [
    {
     "name": "stdout",
     "output_type": "stream",
     "text": [
      "Wallet is Medium Balance\n"
     ]
    }
   ],
   "source": [
    "# More example\n",
    "WB = 1500\n",
    "if WB < 1500:\n",
    "    print('Low Wallet Balance')\n",
    "elif WB == 1500:\n",
    "    print(\"Wallet is Medium Balance\")\n",
    "else:\n",
    "    print('High Wallet Balance')"
   ]
  },
  {
   "cell_type": "code",
   "execution_count": 27,
   "id": "18c5fc70",
   "metadata": {},
   "outputs": [
    {
     "name": "stdout",
     "output_type": "stream",
     "text": [
      "High Balance\n"
     ]
    }
   ],
   "source": [
    "# More than 1 'elif' \n",
    "\n",
    "WB = 2500\n",
    "if WB < 1000:\n",
    "    print(\"Very Low Balance\")\n",
    "elif WB < 1500:\n",
    "    print(\"Low Balance\")\n",
    "elif WB < 2000:\n",
    "    print(\"Medium Balance\")\n",
    "elif WB < 3000:\n",
    "    print(\"High Balance\")\n",
    "else:\n",
    "    print(\"Very High Balance\")\n"
   ]
  },
  {
   "cell_type": "markdown",
   "id": "c2d8b1aa",
   "metadata": {},
   "source": [
    "#### Logical Operators combine or invert Conditions.\n",
    "\n"
   ]
  },
  {
   "cell_type": "code",
   "execution_count": null,
   "id": "36819b71",
   "metadata": {},
   "outputs": [
    {
     "name": "stdout",
     "output_type": "stream",
     "text": [
      "High Balance and Verified\n"
     ]
    }
   ],
   "source": [
    "# AND Operator returns True if both conditions are met\n",
    "Wallet = 5000\n",
    "Verified = True\n",
    "\n",
    "if Wallet > 4000 and Verified:\n",
    "    print('High Balance and Verified')\n"
   ]
  },
  {
   "cell_type": "code",
   "execution_count": 32,
   "id": "5b8b3730",
   "metadata": {},
   "outputs": [
    {
     "name": "stdout",
     "output_type": "stream",
     "text": [
      "Passes atleast one check\n"
     ]
    }
   ],
   "source": [
    "# OR Operator returns true if either condition is true\n",
    "Wallet = 5000\n",
    "Verified = False\n",
    "\n",
    "if Wallet == 5000 or Verified:\n",
    "    print('Passes atleast one check')\n",
    "else:\n",
    "    print( 'Fails both check')\n"
   ]
  },
  {
   "cell_type": "code",
   "execution_count": 34,
   "id": "3a2b7f43",
   "metadata": {},
   "outputs": [
    {
     "name": "stdout",
     "output_type": "stream",
     "text": [
      "Fails both check\n"
     ]
    }
   ],
   "source": [
    "# More example\n",
    "Wallet = 5000\n",
    "Verified = False\n",
    "\n",
    "if Wallet < 5000 or Verified:\n",
    "    print('Passes atleast one check')\n",
    "else:\n",
    "    print( 'Fails both check')\n"
   ]
  },
  {
   "cell_type": "code",
   "execution_count": null,
   "id": "e35db8c3",
   "metadata": {},
   "outputs": [
    {
     "name": "stdout",
     "output_type": "stream",
     "text": [
      " x is grether than 0 and less than 200\n"
     ]
    }
   ],
   "source": [
    "# More example\n",
    "X = 1000\n",
    "if x > 0 and x < 200:\n",
    "    print(\" x is grether than 0 and less than 200\")\n",
    "elif x > 0 and x == 1000:\n",
    "    print('x is within range')\n",
    "elif x > 0 or x < 200:\n",
    "    print(' x is either great than 0 or less than 200')\n",
    "else:\n",
    "    Print('x is not within the range')"
   ]
  },
  {
   "cell_type": "code",
   "execution_count": 50,
   "id": "787dfcf7",
   "metadata": {},
   "outputs": [
    {
     "name": "stdout",
     "output_type": "stream",
     "text": [
      "Wallet is Verified\n"
     ]
    }
   ],
   "source": [
    "#### NOT operator reverse the condition\n",
    "is_blacklisted = False\n",
    "if not is_blacklisted:\n",
    "    print('Wallet is Verified')\n",
    "\n",
    "\n"
   ]
  },
  {
   "cell_type": "markdown",
   "id": "14114192",
   "metadata": {},
   "source": [
    "### Practice examples:\n",
    "#### 1-Check if a user is over 18 and verified to proceed.\n",
    "#### 2-Print 'Access granted' if age is over 18 and has parent permission.\n",
    "#### 3-Use not to check if a wallet is not blackliested.\n"
   ]
  },
  {
   "cell_type": "code",
   "execution_count": 65,
   "id": "8993c034",
   "metadata": {},
   "outputs": [
    {
     "name": "stdout",
     "output_type": "stream",
     "text": [
      "Proceed\n"
     ]
    }
   ],
   "source": [
    "# Check if a user is over 18 and verified to proceed\n",
    "Age = 30\n",
    "Verified = False\n",
    "if Age > 18 and not Verified:\n",
    "    print('Proceed')\n",
    "else:\n",
    "    Print('Denied')\n"
   ]
  },
  {
   "cell_type": "code",
   "execution_count": 69,
   "id": "f04d3469",
   "metadata": {},
   "outputs": [
    {
     "name": "stdout",
     "output_type": "stream",
     "text": [
      "Access Granted\n"
     ]
    }
   ],
   "source": [
    "# Print 'Access granted' if age is over 18 and has parent permission\n",
    "Age = 20\n",
    "Parents_Permission = True\n",
    "if Age > 18 or Age == 20 and Parents_Permission:\n",
    "    print('Access Granted')\n",
    "else:\n",
    "    print('Access Denied')\n",
    "\n"
   ]
  },
  {
   "cell_type": "code",
   "execution_count": null,
   "id": "443e945c",
   "metadata": {},
   "outputs": [
    {
     "name": "stdout",
     "output_type": "stream",
     "text": [
      "Wallet is not blacklested\n"
     ]
    }
   ],
   "source": [
    "# Use not to check if a wallet is not blackliested.\n",
    "Is_Blacklisted_Wallet = False\n",
    "if not Is_Blacklisted_Wallet:\n",
    "    print('Wallet is not blacklisted')\n",
    "else:\n",
    "    print('wallet is Blacklisted')\n"
   ]
  },
  {
   "cell_type": "code",
   "execution_count": 90,
   "id": "24a94365",
   "metadata": {},
   "outputs": [
    {
     "name": "stdout",
     "output_type": "stream",
     "text": [
      "Access fully granted\n"
     ]
    }
   ],
   "source": [
    "#Combined Example\n",
    "age = 30\n",
    "parent_permission = True\n",
    "is_blacklisted = False\n",
    "if age > 18 and parent_permission == True and not is_blacklisted == False:\n",
    "   print('Access granted but wallet blacklisted')\n",
    "elif age > 18 and parent_permission == True and not is_blacklisted == True:\n",
    "    print('Access fully granted')\n",
    "elif age > 18 and parent_permission == False and not is_blacklisted == True:\n",
    "    print('Access denied but Wallet not blacklisted')\n",
    "else:\n",
    "    print('Access Denied')"
   ]
  }
 ],
 "metadata": {
  "kernelspec": {
   "display_name": "PythonTut",
   "language": "python",
   "name": "python3"
  },
  "language_info": {
   "codemirror_mode": {
    "name": "ipython",
    "version": 3
   },
   "file_extension": ".py",
   "mimetype": "text/x-python",
   "name": "python",
   "nbconvert_exporter": "python",
   "pygments_lexer": "ipython3",
   "version": "3.13.1"
  }
 },
 "nbformat": 4,
 "nbformat_minor": 5
}
