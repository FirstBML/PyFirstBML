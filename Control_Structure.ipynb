{
 "cells": [
  {
   "cell_type": "markdown",
   "id": "15a3655c",
   "metadata": {},
   "source": [
    "#### Control Structures: Conditionals and Loops"
   ]
  },
  {
   "cell_type": "markdown",
   "id": "ca108bc6",
   "metadata": {},
   "source": [
    "#### Conditional Statements: are set a block to code runs if a condition is treu or false\n",
    "##### 'if' Statement: if true, runs the code inside\n",
    "##### 'elif' statement: check for another condition and run code inside if the first is false\n",
    "##### 'esle' Statement: runs code if all other conditions are false\n"
   ]
  },
  {
   "cell_type": "code",
   "execution_count": 1,
   "id": "4b45c09d",
   "metadata": {},
   "outputs": [
    {
     "name": "stdout",
     "output_type": "stream",
     "text": [
      "x is 10 and less it is less than 20\n"
     ]
    }
   ],
   "source": [
    "# if condition \n",
    "x = 10\n",
    "if x < 20:\n",
    "    print(f'x is {x} and less it is less than 20')\n"
   ]
  },
  {
   "cell_type": "code",
   "execution_count": 2,
   "id": "d3c40bd9",
   "metadata": {},
   "outputs": [
    {
     "name": "stdout",
     "output_type": "stream",
     "text": [
      " x is 5 or less\n"
     ]
    }
   ],
   "source": [
    "# if else condition\n",
    "x = 5\n",
    "if x > 7:\n",
    "    print(f' x is {x} and less than 7')\n",
    "else:\n",
    "    print(f' x is {x} or less')\n",
    "\n"
   ]
  },
  {
   "cell_type": "code",
   "execution_count": 3,
   "id": "d35ea6d3",
   "metadata": {},
   "outputs": [
    {
     "name": "stdout",
     "output_type": "stream",
     "text": [
      "x is 10\n"
     ]
    }
   ],
   "source": [
    "# if, elif, and else\n",
    "x = 10\n",
    "if x < 5:\n",
    "    print(f' x is {x} and less than 5')\n",
    "elif x == 7:\n",
    "     print('x is {x} and not equal 7')\n",
    "else:\n",
    "    print(f'x is {x}')\n"
   ]
  },
  {
   "cell_type": "code",
   "execution_count": 4,
   "id": "db7a8764",
   "metadata": {},
   "outputs": [
    {
     "name": "stdout",
     "output_type": "stream",
     "text": [
      "Wallet is Medium Balance\n"
     ]
    }
   ],
   "source": [
    "# More example\n",
    "WB = 1500\n",
    "if WB < 1500:\n",
    "    print('Low Wallet Balance')\n",
    "elif WB == 1500:\n",
    "    print(\"Wallet is Medium Balance\")\n",
    "else:\n",
    "    print('High Wallet Balance')"
   ]
  },
  {
   "cell_type": "code",
   "execution_count": 5,
   "id": "18c5fc70",
   "metadata": {},
   "outputs": [
    {
     "name": "stdout",
     "output_type": "stream",
     "text": [
      "High Balance\n"
     ]
    }
   ],
   "source": [
    "# More than 1 'elif' \n",
    "\n",
    "WB = 2500\n",
    "if WB < 1000:\n",
    "    print(\"Very Low Balance\")\n",
    "elif WB < 1500:\n",
    "    print(\"Low Balance\")\n",
    "elif WB < 2000:\n",
    "    print(\"Medium Balance\")\n",
    "elif WB < 3000:\n",
    "    print(\"High Balance\")\n",
    "else:\n",
    "    print(\"Very High Balance\")\n"
   ]
  },
  {
   "cell_type": "markdown",
   "id": "c2d8b1aa",
   "metadata": {},
   "source": [
    "#### Logical Operators combine or invert Conditions.\n",
    "\n"
   ]
  },
  {
   "cell_type": "code",
   "execution_count": 6,
   "id": "36819b71",
   "metadata": {},
   "outputs": [
    {
     "name": "stdout",
     "output_type": "stream",
     "text": [
      "High Balance and Verified\n"
     ]
    }
   ],
   "source": [
    "# AND Operator returns True if both conditions are met\n",
    "Wallet = 5000\n",
    "Verified = True\n",
    "\n",
    "if Wallet > 4000 and Verified:\n",
    "    print('High Balance and Verified')\n"
   ]
  },
  {
   "cell_type": "code",
   "execution_count": 7,
   "id": "5b8b3730",
   "metadata": {},
   "outputs": [
    {
     "name": "stdout",
     "output_type": "stream",
     "text": [
      "Passes atleast one check\n"
     ]
    }
   ],
   "source": [
    "# OR Operator returns true if either condition is true\n",
    "Wallet = 5000\n",
    "Verified = False\n",
    "\n",
    "if Wallet == 5000 or Verified:\n",
    "    print('Passes atleast one check')\n",
    "else:\n",
    "    print( 'Fails both check')\n"
   ]
  },
  {
   "cell_type": "code",
   "execution_count": 8,
   "id": "3a2b7f43",
   "metadata": {},
   "outputs": [
    {
     "name": "stdout",
     "output_type": "stream",
     "text": [
      "Fails both check\n"
     ]
    }
   ],
   "source": [
    "# More example\n",
    "Wallet = 5000\n",
    "Verified = False\n",
    "\n",
    "if Wallet < 5000 or Verified:\n",
    "    print('Passes atleast one check')\n",
    "else:\n",
    "    print( 'Fails both check')\n"
   ]
  },
  {
   "cell_type": "code",
   "execution_count": 2,
   "id": "e35db8c3",
   "metadata": {},
   "outputs": [
    {
     "name": "stdout",
     "output_type": "stream",
     "text": [
      "x is within range\n"
     ]
    }
   ],
   "source": [
    "# More example\n",
    "x = 1000\n",
    "if x > 0 and x < 200:\n",
    "    print(\" x is grether than 0 and less than 200\")\n",
    "elif x > 0 and x == 1000:\n",
    "    print('x is within range')\n",
    "elif x > 0 or x < 200:\n",
    "    print(' x is either great than 0 or less than 200')\n",
    "else:\n",
    "    print('x is not within the range')"
   ]
  },
  {
   "cell_type": "code",
   "execution_count": 10,
   "id": "787dfcf7",
   "metadata": {},
   "outputs": [
    {
     "name": "stdout",
     "output_type": "stream",
     "text": [
      "Wallet is Verified\n"
     ]
    }
   ],
   "source": [
    "#### NOT operator reverse the condition\n",
    "is_blacklisted = False\n",
    "if not is_blacklisted:\n",
    "    print('Wallet is Verified')\n",
    "\n",
    "\n"
   ]
  },
  {
   "cell_type": "markdown",
   "id": "14114192",
   "metadata": {},
   "source": [
    "### Practice examples:\n",
    "#### 1-Check if a user is over 18 and verified to proceed.\n",
    "#### 2-Print 'Access granted' if age is over 18 and has parent permission.\n",
    "#### 3-Use not to check if a wallet is not blackliested.\n"
   ]
  },
  {
   "cell_type": "code",
   "execution_count": 4,
   "id": "8993c034",
   "metadata": {},
   "outputs": [
    {
     "name": "stdout",
     "output_type": "stream",
     "text": [
      "Proceed\n"
     ]
    }
   ],
   "source": [
    "# Check if a user is over 18 and verified to proceed\n",
    "Age = 30\n",
    "Verified = False\n",
    "if Age > 18 and not Verified:\n",
    "    print('Proceed')\n",
    "else:\n",
    "    print('Denied')\n"
   ]
  },
  {
   "cell_type": "code",
   "execution_count": 12,
   "id": "f04d3469",
   "metadata": {},
   "outputs": [
    {
     "name": "stdout",
     "output_type": "stream",
     "text": [
      "Access Granted\n"
     ]
    }
   ],
   "source": [
    "# Print 'Access granted' if age is over 18 and has parent permission\n",
    "Age = 20\n",
    "Parents_Permission = True\n",
    "if Age > 18 or Age == 20 and Parents_Permission:\n",
    "    print('Access Granted')\n",
    "else:\n",
    "    print('Access Denied')\n",
    "\n"
   ]
  },
  {
   "cell_type": "code",
   "execution_count": 13,
   "id": "443e945c",
   "metadata": {},
   "outputs": [
    {
     "name": "stdout",
     "output_type": "stream",
     "text": [
      "Wallet is not blacklisted\n"
     ]
    }
   ],
   "source": [
    "# Use not to check if a wallet is not blackliested.\n",
    "Is_Blacklisted_Wallet = False\n",
    "if not Is_Blacklisted_Wallet:\n",
    "    print('Wallet is not blacklisted')\n",
    "else:\n",
    "    print('wallet is Blacklisted')\n"
   ]
  },
  {
   "cell_type": "code",
   "execution_count": 14,
   "id": "24a94365",
   "metadata": {},
   "outputs": [
    {
     "name": "stdout",
     "output_type": "stream",
     "text": [
      "Access fully granted\n"
     ]
    }
   ],
   "source": [
    "#Combined Example\n",
    "age = 30\n",
    "parent_permission = True\n",
    "is_blacklisted = False\n",
    "if age > 18 and parent_permission == True and not is_blacklisted == False:\n",
    "   print('Access granted but wallet blacklisted')\n",
    "elif age > 18 and parent_permission == True and not is_blacklisted == True:\n",
    "    print('Access fully granted')\n",
    "elif age > 18 and parent_permission == False and not is_blacklisted == True:\n",
    "    print('Access denied but Wallet not blacklisted')\n",
    "else:\n",
    "    print('Access Denied')"
   ]
  },
  {
   "cell_type": "markdown",
   "id": "1d655b6c",
   "metadata": {},
   "source": [
    "#### For Loop and While Loop\n",
    "##### A for loop is used when you want to iterate over a sequence (like a list, string, or range) — when you know how many times you want to run the loop.\n",
    "##### A while loop keeps running as long as a condition is True. You use it when you don’t know ahead of time how many times you'll loop."
   ]
  },
  {
   "cell_type": "markdown",
   "id": "17e8fd08",
   "metadata": {},
   "source": [
    "#### For Loop"
   ]
  },
  {
   "cell_type": "code",
   "execution_count": 15,
   "id": "18e7c5a0",
   "metadata": {},
   "outputs": [
    {
     "name": "stdout",
     "output_type": "stream",
     "text": [
      "BTC\n",
      "ETH\n",
      "SOL\n"
     ]
    }
   ],
   "source": [
    "\n",
    "Assets = ['BTC','ETH', 'SOL']\n",
    "for Asset in Assets:\n",
    "    print(Asset)"
   ]
  },
  {
   "cell_type": "code",
   "execution_count": 16,
   "id": "5a95bdd4",
   "metadata": {},
   "outputs": [
    {
     "name": "stdout",
     "output_type": "stream",
     "text": [
      "Alice\n",
      "Bob\n",
      "Lisa\n"
     ]
    }
   ],
   "source": [
    "Names = {'Alice','Bob','Lisa'}\n",
    "for Name in Names:\n",
    "    print(Name)"
   ]
  },
  {
   "cell_type": "code",
   "execution_count": 17,
   "id": "7adb3bf3",
   "metadata": {},
   "outputs": [
    {
     "name": "stdout",
     "output_type": "stream",
     "text": [
      "330\n"
     ]
    }
   ],
   "source": [
    "#### More examples\n",
    "L1 = [44,55,66,77,88]\n",
    "total = 0\n",
    "for i in L1:\n",
    "    total = total+i\n",
    "print(total)"
   ]
  },
  {
   "cell_type": "code",
   "execution_count": 18,
   "id": "4a99ced0",
   "metadata": {},
   "outputs": [
    {
     "name": "stdout",
     "output_type": "stream",
     "text": [
      "Average of Total is 66.0\n",
      "Average of Total is 66.0\n"
     ]
    }
   ],
   "source": [
    "Number = len(L1)\n",
    "average = total/Number\n",
    "print(f'Average of Total is {average}')\n",
    "print('Average of Total is', average)"
   ]
  },
  {
   "cell_type": "code",
   "execution_count": 19,
   "id": "8a39e2d1",
   "metadata": {},
   "outputs": [
    {
     "name": "stdout",
     "output_type": "stream",
     "text": [
      "0\n",
      "1\n",
      "2\n",
      "3\n",
      "4\n",
      "5\n",
      "6\n",
      "7\n",
      "8\n",
      "9\n",
      "10\n"
     ]
    }
   ],
   "source": [
    "# for loop in range \n",
    "# type 2 loop\n",
    "for i in range(11):\n",
    "    print(i)"
   ]
  },
  {
   "cell_type": "code",
   "execution_count": 20,
   "id": "60ad94fa",
   "metadata": {},
   "outputs": [
    {
     "name": "stdout",
     "output_type": "stream",
     "text": [
      "2\n",
      "3\n",
      "4\n",
      "5\n",
      "6\n",
      "7\n",
      "8\n",
      "9\n",
      "10\n"
     ]
    }
   ],
   "source": [
    "# for loop in range \n",
    "for i in range(2,11):\n",
    "    print(i)"
   ]
  },
  {
   "cell_type": "code",
   "execution_count": 21,
   "id": "a7944d28",
   "metadata": {},
   "outputs": [
    {
     "name": "stdout",
     "output_type": "stream",
     "text": [
      "2\n",
      "4\n",
      "6\n",
      "8\n",
      "10\n"
     ]
    }
   ],
   "source": [
    "# for loop in range \n",
    "for i in range(2,11,2):\n",
    "    print(i)"
   ]
  },
  {
   "cell_type": "code",
   "execution_count": 22,
   "id": "eacc21fe",
   "metadata": {},
   "outputs": [
    {
     "name": "stdout",
     "output_type": "stream",
     "text": [
      "1\n",
      "3\n",
      "5\n",
      "7\n",
      "9\n"
     ]
    }
   ],
   "source": [
    "# for loop in range \n",
    "for i in range(1,11,2):\n",
    "    print(i)"
   ]
  },
  {
   "cell_type": "code",
   "execution_count": 23,
   "id": "270f351a",
   "metadata": {},
   "outputs": [
    {
     "name": "stdout",
     "output_type": "stream",
     "text": [
      "[0, 2, 4, 6, 8, 10, 12, 14, 16, 18, 20, 22, 24, 26, 28, 30, 32, 34, 36, 38, 40, 42, 44, 46, 48, 50, 52, 54, 56, 58, 60, 62, 64, 66, 68, 70, 72, 74, 76, 78, 80, 82, 84, 86, 88, 90, 92, 94, 96, 98]\n"
     ]
    }
   ],
   "source": [
    "L2 = []\n",
    "for i in range(100):\n",
    "    if i%2 == 0:\n",
    "        L2.append(i)\n",
    "print(L2)\n",
    "\n",
    "    \n"
   ]
  },
  {
   "cell_type": "code",
   "execution_count": 24,
   "id": "c119396a",
   "metadata": {},
   "outputs": [
    {
     "name": "stdout",
     "output_type": "stream",
     "text": [
      "22\n",
      "33\n",
      "44\n",
      "55\n",
      "66\n"
     ]
    }
   ],
   "source": [
    "# type  3 loop\n",
    "L3 = [22,33,44,55,66]\n",
    "for i in range(len(L3)):\n",
    "    #print(i)\n",
    "    print(L3[i])"
   ]
  },
  {
   "cell_type": "code",
   "execution_count": 25,
   "id": "692014e6",
   "metadata": {},
   "outputs": [
    {
     "name": "stdout",
     "output_type": "stream",
     "text": [
      "BTC 120000\n",
      "ETH 2300\n",
      "SOL 166\n"
     ]
    }
   ],
   "source": [
    "# Type 4 Loop\n",
    "Crypto_Prices = {'BTC': 120000,'ETH':2300,'SOL':166}\n",
    "for i in Crypto_Prices:\n",
    "    print(i,Crypto_Prices.get(i))"
   ]
  },
  {
   "cell_type": "code",
   "execution_count": 26,
   "id": "90f1901a",
   "metadata": {},
   "outputs": [
    {
     "name": "stdout",
     "output_type": "stream",
     "text": [
      "BTC\n",
      "ETH\n",
      "SOL\n"
     ]
    }
   ],
   "source": [
    "# Type 4 Loop\n",
    "for i in Crypto_Prices.keys():\n",
    "    print(i)"
   ]
  },
  {
   "cell_type": "code",
   "execution_count": 27,
   "id": "788c9599",
   "metadata": {},
   "outputs": [
    {
     "name": "stdout",
     "output_type": "stream",
     "text": [
      "120000\n",
      "2300\n",
      "166\n"
     ]
    }
   ],
   "source": [
    "# Type 4 Loop\n",
    "for i in Crypto_Prices.values():\n",
    "    print(i)"
   ]
  },
  {
   "cell_type": "code",
   "execution_count": 28,
   "id": "0f9c3383",
   "metadata": {},
   "outputs": [
    {
     "name": "stdout",
     "output_type": "stream",
     "text": [
      "('BTC', 120000)\n",
      "('ETH', 2300)\n",
      "('SOL', 166)\n"
     ]
    }
   ],
   "source": [
    "# Type 4 Loop\n",
    "for i in Crypto_Prices.items():\n",
    "    print(i)"
   ]
  },
  {
   "cell_type": "markdown",
   "id": "6f749e05",
   "metadata": {},
   "source": [
    "#### while Loops\n",
    "##### while loop keeps running as long as condition is true\n"
   ]
  },
  {
   "cell_type": "code",
   "execution_count": 29,
   "id": "6eaff0d3",
   "metadata": {},
   "outputs": [],
   "source": [
    "# i = 0\n",
    "#while i < 3:\n",
    "    #  print('counting', i)\n",
    "    # i = +1\n",
    "# while True:\n",
    "#        print('this will keep running unless you stop it')\n",
    "\n",
    "    \n"
   ]
  },
  {
   "cell_type": "code",
   "execution_count": 30,
   "id": "ac77d165",
   "metadata": {},
   "outputs": [
    {
     "name": "stdout",
     "output_type": "stream",
     "text": [
      "10\n",
      "11\n",
      "12\n",
      "13\n",
      "14\n",
      "15\n",
      "16\n",
      "17\n",
      "18\n",
      "19\n"
     ]
    }
   ],
   "source": [
    "i = 10\n",
    "while True:\n",
    "    if i == 20:\n",
    "        break\n",
    "    print(i)\n",
    "    i = i+1\n"
   ]
  },
  {
   "cell_type": "code",
   "execution_count": 31,
   "id": "af46b80d",
   "metadata": {},
   "outputs": [
    {
     "name": "stdout",
     "output_type": "stream",
     "text": [
      "[2, 4, 6, 8, 10, 12, 14, 16, 18, 20, 22, 24, 26, 28, 30, 32, 34, 36, 38, 40, 42, 44, 46, 48, 50, 52, 54, 56, 58, 60, 62, 64, 66, 68, 70, 72, 74, 76, 78, 80, 82, 84, 86, 88, 90, 92, 94, 96, 98, 100]\n"
     ]
    }
   ],
   "source": [
    "# Let get even number between 1 and 100\n",
    "even = []\n",
    "i = 1\n",
    "\n",
    "while True:\n",
    "    if i > 100:\n",
    "        break\n",
    "    if i % 2 == 0:\n",
    "        even.append(i)\n",
    "    i += 1\n",
    "\n",
    "print(even)\n"
   ]
  },
  {
   "cell_type": "code",
   "execution_count": 35,
   "id": "43f86788",
   "metadata": {},
   "outputs": [],
   "source": [
    "# Let get even number between 1 and 100\n",
    "even = []\n",
    "while True:\n",
    "    if i>100:\n",
    "        break\n",
    "    if i%2 == 0:\n",
    "        i+=1\n",
    "    even.append(i)\n",
    "    print(1)"
   ]
  },
  {
   "cell_type": "code",
   "execution_count": 40,
   "id": "2ad14bcf",
   "metadata": {},
   "outputs": [
    {
     "name": "stdout",
     "output_type": "stream",
     "text": [
      "3 x 1 = 3\n",
      "3 x 2 = 6\n",
      "3 x 3 = 9\n",
      "3 x 4 = 12\n",
      "3 x 5 = 15\n",
      "3 x 6 = 18\n",
      "3 x 7 = 21\n",
      "3 x 8 = 24\n",
      "3 x 9 = 27\n",
      "3 x 10 = 30\n"
     ]
    }
   ],
   "source": [
    "# Multiplication Table\n",
    "num1 = 3\n",
    "num2 = 1\n",
    "while True:\n",
    "    if num2 == 11:\n",
    "        break \n",
    "    print(num1,'x',num2,'=', num1 * num2)\n",
    "    num2 += 1"
   ]
  },
  {
   "cell_type": "code",
   "execution_count": 43,
   "id": "2bd0431e",
   "metadata": {},
   "outputs": [
    {
     "name": "stdout",
     "output_type": "stream",
     "text": [
      "0\n",
      "1\n",
      "3\n",
      "4\n"
     ]
    }
   ],
   "source": [
    "# continue skips to the next iteration\n",
    "for i in range(5):\n",
    "    if i == 2:\n",
    "        continue\n",
    "    print(i)\n",
    "\n"
   ]
  }
 ],
 "metadata": {
  "kernelspec": {
   "display_name": "PythonTut",
   "language": "python",
   "name": "python3"
  },
  "language_info": {
   "codemirror_mode": {
    "name": "ipython",
    "version": 3
   },
   "file_extension": ".py",
   "mimetype": "text/x-python",
   "name": "python",
   "nbconvert_exporter": "python",
   "pygments_lexer": "ipython3",
   "version": "3.13.1"
  }
 },
 "nbformat": 4,
 "nbformat_minor": 5
}
