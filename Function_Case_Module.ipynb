{
 "cells": [
  {
   "cell_type": "markdown",
   "id": "565f976b",
   "metadata": {},
   "source": [
    "#### Function, Case and Module"
   ]
  },
  {
   "cell_type": "markdown",
   "id": "c4001ff6",
   "metadata": {},
   "source": [
    "### 1. Function\n",
    "#### A function is a resusabe block of code that perform a specific task. function helps reduce repetition and improve orgainsation of code."
   ]
  },
  {
   "cell_type": "code",
   "execution_count": 1,
   "id": "3e5c939f",
   "metadata": {},
   "outputs": [
    {
     "data": {
      "text/plain": [
       "5"
      ]
     },
     "execution_count": 1,
     "metadata": {},
     "output_type": "execute_result"
    }
   ],
   "source": [
    "# These and among others are basic function which the are in-bult function or already existing.\n",
    "x = [1,2,3,4,5]\n",
    "len(x)\n"
   ]
  },
  {
   "cell_type": "markdown",
   "id": "fbb00bb8",
   "metadata": {},
   "source": [
    "#### Creating Functions "
   ]
  },
  {
   "cell_type": "code",
   "execution_count": 2,
   "id": "228be98f",
   "metadata": {},
   "outputs": [
    {
     "name": "stdout",
     "output_type": "stream",
     "text": [
      "The sum is 11\n"
     ]
    }
   ],
   "source": [
    "def add():\n",
    "    sum = 5 + 6 \n",
    "    print('The sum is', sum)\n",
    "add()"
   ]
  },
  {
   "cell_type": "markdown",
   "id": "17a6c96e",
   "metadata": {},
   "source": [
    "### Function Argument and Parenthesis\n",
    "### Types of Argument\n",
    "#### 1. Positional Argument. Matched by orders\n",
    "#### 2. Keywork Agrument: Matched by name. E.g function(Name:'Alice')\n",
    "#### *args: Accepts extra positional argument as a tuple\n",
    "#### **Kwargs: Accepts extra keyword argument as a dictionary"
   ]
  },
  {
   "cell_type": "markdown",
   "id": "28034fb6",
   "metadata": {},
   "source": [
    "### Positional Argument"
   ]
  },
  {
   "cell_type": "code",
   "execution_count": 3,
   "id": "4c14e367",
   "metadata": {},
   "outputs": [
    {
     "name": "stdout",
     "output_type": "stream",
     "text": [
      "6\n"
     ]
    }
   ],
   "source": [
    "def add_positional(a,b,c):\n",
    "    sum = a+b+c\n",
    "    return sum\n",
    "result = add_positional(1,2,3)\n",
    "print(result)"
   ]
  },
  {
   "cell_type": "code",
   "execution_count": 4,
   "id": "77b947c8",
   "metadata": {},
   "outputs": [
    {
     "name": "stdout",
     "output_type": "stream",
     "text": [
      "6\n"
     ]
    }
   ],
   "source": [
    "# More example\n",
    "def add_positional(a,b,c) -> int:\n",
    "    sum = a+b+c\n",
    "    return sum\n",
    "result = add_positional(1,2,3)\n",
    "print(result)"
   ]
  },
  {
   "cell_type": "markdown",
   "id": "ad10ad14",
   "metadata": {},
   "source": [
    "### Keyword Agrgument\n"
   ]
  },
  {
   "cell_type": "code",
   "execution_count": 5,
   "id": "30a6c6fa",
   "metadata": {},
   "outputs": [
    {
     "name": "stdout",
     "output_type": "stream",
     "text": [
      "Name: Bob\n",
      "Age:25\n"
     ]
    }
   ],
   "source": [
    "def Add_keyword(name ='Alice', Age = 30):\n",
    "    print(f'Name: {name}')\n",
    "    print(f'Age:{Age}')\n",
    "\n",
    "Add_keyword(name = 'Bob', Age = 25)"
   ]
  },
  {
   "cell_type": "code",
   "execution_count": 6,
   "id": "060a5118",
   "metadata": {},
   "outputs": [
    {
     "name": "stdout",
     "output_type": "stream",
     "text": [
      "Name: Alice\n",
      "Age: 33\n",
      "Gender: Female\n"
     ]
    }
   ],
   "source": [
    "# More Example\n",
    "def User_Info(Name, Age, Gender):\n",
    "    print('Name:', Name)\n",
    "    print('Age:', Age)\n",
    "    print('Gender:', Gender)\n",
    "\n",
    "# User_Info(Name = 'Alice', Age = 30, Gender ='Female') or \n",
    "User_Info('Alice', 33, 'Female')"
   ]
  },
  {
   "cell_type": "code",
   "execution_count": 7,
   "id": "e9955f61",
   "metadata": {},
   "outputs": [
    {
     "name": "stdout",
     "output_type": "stream",
     "text": [
      "Name: Alice\n",
      "Age: 33\n",
      "Gender: Female\n"
     ]
    }
   ],
   "source": [
    "# More Example with exchanging Parametre\n",
    "# More Example\n",
    "def User_Info(Name, Age, Gender):\n",
    "    print('Name:', Name)\n",
    "    print('Age:', Age)\n",
    "    print('Gender:', Gender)\n",
    "\n",
    "# User_Info(Name = 'Alice', Age = 30, Gender ='Female') or \n",
    "User_Info(Age = 33, Name = 'Alice', Gender = 'Female')"
   ]
  },
  {
   "cell_type": "markdown",
   "id": "3dd03233",
   "metadata": {},
   "source": [
    "### *arg Keyword"
   ]
  },
  {
   "cell_type": "code",
   "execution_count": 8,
   "id": "2ac30f40",
   "metadata": {},
   "outputs": [
    {
     "name": "stdout",
     "output_type": "stream",
     "text": [
      "<class 'tuple'>\n",
      "1234567"
     ]
    }
   ],
   "source": [
    "def asteric_Arg(*args):\n",
    "    print(type(args))\n",
    "    for num in args:\n",
    "            print(num, end = '')\n",
    "\n",
    "asteric_Arg(1,2,3,4,5,6,7)\n",
    "\n"
   ]
  },
  {
   "cell_type": "code",
   "execution_count": 9,
   "id": "c5fd8690",
   "metadata": {},
   "outputs": [
    {
     "name": "stdout",
     "output_type": "stream",
     "text": [
      "(1, 2, 3, 4, 5, 6) "
     ]
    }
   ],
   "source": [
    "# More example\n",
    "def asteric_Arg(*args):\n",
    "             print(args, end =' ')\n",
    "\n",
    "asteric_Arg(1,2,3,4,5,6)\n",
    "\n"
   ]
  },
  {
   "cell_type": "markdown",
   "id": "38665ecb",
   "metadata": {},
   "source": [
    "### **kwarg Arguments"
   ]
  },
  {
   "cell_type": "code",
   "execution_count": 10,
   "id": "1476818e",
   "metadata": {},
   "outputs": [
    {
     "name": "stdout",
     "output_type": "stream",
     "text": [
      "<class 'dict'>\n",
      "Type: Crypto_Asset\n",
      "Wallet: 0x123\n",
      "Balance: 4500\n"
     ]
    }
   ],
   "source": [
    "def Add_kwarg(**kwarg):\n",
    "    print(type(kwarg))\n",
    "    for key, value in kwarg.items():\n",
    "        print(f'{key}: {value}')\n",
    "\n",
    "\n",
    "Add_kwarg(Type = 'Crypto_Asset', Wallet= '0x123', Balance= 4500)"
   ]
  },
  {
   "cell_type": "markdown",
   "id": "f297e63f",
   "metadata": {},
   "source": [
    "#### More example with defining average function"
   ]
  },
  {
   "cell_type": "code",
   "execution_count": 11,
   "id": "fea0a1a0",
   "metadata": {},
   "outputs": [
    {
     "name": "stdout",
     "output_type": "stream",
     "text": [
      "33.333333333333336\n"
     ]
    }
   ],
   "source": [
    "def Average(number) -> float:\n",
    "\n",
    "    total = 0\n",
    "    for x in number:\n",
    "        total+=x\n",
    "    avg = total/len(number)\n",
    "    return avg\n",
    "# Average function has been definded. let's use the fnction to calclating average below\n",
    "price = [22,33,45]\n",
    "print(Average(price))\n",
    "\n"
   ]
  },
  {
   "cell_type": "markdown",
   "id": "7a9bcc54",
   "metadata": {},
   "source": [
    "### More example with % price changed"
   ]
  },
  {
   "cell_type": "code",
   "execution_count": 12,
   "id": "0fc9182d",
   "metadata": {},
   "outputs": [
    {
     "name": "stdout",
     "output_type": "stream",
     "text": [
      "Change in price is -53.85%\n"
     ]
    }
   ],
   "source": [
    "def Perc_change(new,old):\n",
    "    price = ((new-old)/old) * 100\n",
    "    return round(price, 2)\n",
    "\n",
    "x = Perc_change(30,65)\n",
    "print(f'Change in price is {x}%')\n",
    "\n",
    "\n"
   ]
  },
  {
   "cell_type": "code",
   "execution_count": 13,
   "id": "de90e093",
   "metadata": {},
   "outputs": [
    {
     "name": "stdout",
     "output_type": "stream",
     "text": [
      "-53.85\n"
     ]
    }
   ],
   "source": [
    "def Perc_change(prices):\n",
    "    new, old = prices\n",
    "    price = ((new - old) / old) * 100\n",
    "    return round(price, 2)\n",
    "\n",
    "X = (30, 65)\n",
    "print(Perc_change(X))\n"
   ]
  },
  {
   "cell_type": "code",
   "execution_count": 14,
   "id": "f2e66000",
   "metadata": {},
   "outputs": [
    {
     "name": "stdout",
     "output_type": "stream",
     "text": [
      "BTC price is currently trading at $118,000.00\n",
      "ETH price is currently trading at $2,400.00\n"
     ]
    }
   ],
   "source": [
    "def Format_crypto_prices(name, price, symbol = '$'):\n",
    "    return f'{name} price is currently trading at {symbol}{price:,.2f}'\n",
    "\n",
    "print(Format_crypto_prices('BTC', 118000,'$'))\n",
    "print(Format_crypto_prices('ETH',2400,'$'))"
   ]
  },
  {
   "cell_type": "code",
   "execution_count": 15,
   "id": "84c51479",
   "metadata": {},
   "outputs": [
    {
     "name": "stdout",
     "output_type": "stream",
     "text": [
      "BTC price is currently trading at $118,000.00\n",
      "ETH price is currently trading at $2,400.00\n"
     ]
    }
   ],
   "source": [
    "def Format_crypto_prices(name, price, symbol):\n",
    "    return f'{name} price is currently trading at {symbol}{price:,.2f}'\n",
    "\n",
    "print(Format_crypto_prices('BTC', 118000,'$'))\n",
    "print(Format_crypto_prices('ETH',2400,'$'))"
   ]
  },
  {
   "cell_type": "markdown",
   "id": "9ad38e20",
   "metadata": {},
   "source": [
    "### Classes in Python\n",
    "### What Are Classes?\n",
    "\n",
    "Classes are blueprints (templates) for creating objects. An object is an instance of a class that can hold data (attributes) and perform actions (methods). Classes are ideal for modeling real-world entities, like a cryptocurrency or a portfolio.\n",
    "\n",
    "### Defining a Class\n",
    "-- Use the class keyword to define a class.\n",
    "\n",
    "-- Classes typically include:\n",
    "- Attributes: Variables that store data.\n",
    "- Methods: Functions that define the behavior of the class.\n",
    "- Constructor(init): A special Method to initialise instant attribute. \n",
    "\n"
   ]
  },
  {
   "cell_type": "markdown",
   "id": "34403079",
   "metadata": {},
   "source": [
    "#### Define a class called CryptoWallet\n",
    "class CryptoWallet:\n",
    "    \n",
    "    # Constructor method that runs when a new wallet is created\n",
    "    def __init__(self, owner):\n",
    "        self.owner = owner               # Set the wallet owner\n",
    "        self.balance = {}               # Initialize an empty dictionary to hold token balances\n",
    "\n",
    "    # Method to deposit a specific amount of a token\n",
    "    def deposit(self, token, amount):\n",
    "        # Add the amount to the existing token balance, or set to amount if token not yet in balance\n",
    "        self.balance[token] = self.balance.get(token, 0) + amount\n",
    "\n",
    "    # Method to withdraw a specific amount of a token\n",
    "    def withdraw(self, token, amount):\n",
    "        # Check if the token exists and the wallet has enough balance to withdraw\n",
    "        if self.balance.get(token, 0) >= amount:\n",
    "            self.balance[token] -= amount   # Subtract the amount from the token's balance\n",
    "            return True                     # Return True to show withdrawal was successful\n",
    "        else:\n",
    "            return False                    # Return False if balance was insufficient\n",
    "\n",
    "    # Method to view current balances of all tokens\n",
    "    def view_balance(self):\n",
    "        return self.balance                 # Return the entire balance dictionary\n"
   ]
  },
  {
   "cell_type": "code",
   "execution_count": 16,
   "id": "d47efb5e",
   "metadata": {},
   "outputs": [],
   "source": [
    "class CryptoWallet:\n",
    "    # Constructor\n",
    "    def __init__(self, owner):\n",
    "        self.owner = owner\n",
    "        self.balance = {}\n",
    "\n",
    "    def deposit(self,token, amount):\n",
    "        self.balance[token] = self.balance.get(token,0) + amount\n",
    "\n",
    "    def withdraw(self, token, amount):\n",
    "        if self.balance.get(token,0) >= amount:\n",
    "            self.balance[token] -= amount\n",
    "            return True\n",
    "        else:\n",
    "            return False\n",
    "\n",
    "    def view_balance(self):\n",
    "        return self.balance"
   ]
  },
  {
   "cell_type": "code",
   "execution_count": 17,
   "id": "4b99c064",
   "metadata": {},
   "outputs": [],
   "source": [
    "Wallet = CryptoWallet('Samson')\n",
    "Wallet.deposit('BTC', 5)\n",
    "Wallet.deposit('ETH', 2.3)\n",
    "Wallet.deposit('TON', 63.7)\n",
    "Wallet.deposit('SFP', 90)\n",
    "Wallet.deposit('PI', 1500)"
   ]
  },
  {
   "cell_type": "code",
   "execution_count": 18,
   "id": "d85fab60",
   "metadata": {},
   "outputs": [
    {
     "data": {
      "text/plain": [
       "{'BTC': 5, 'ETH': 2.3, 'TON': 63.7, 'SFP': 90, 'PI': 1500}"
      ]
     },
     "execution_count": 18,
     "metadata": {},
     "output_type": "execute_result"
    }
   ],
   "source": [
    "Wallet.view_balance()"
   ]
  },
  {
   "cell_type": "code",
   "execution_count": 19,
   "id": "3f924829",
   "metadata": {},
   "outputs": [
    {
     "data": {
      "text/plain": [
       "True"
      ]
     },
     "execution_count": 19,
     "metadata": {},
     "output_type": "execute_result"
    }
   ],
   "source": [
    "Wallet.withdraw('BTC', 1.3)"
   ]
  },
  {
   "cell_type": "code",
   "execution_count": 20,
   "id": "857c52e4",
   "metadata": {},
   "outputs": [
    {
     "data": {
      "text/plain": [
       "{'BTC': 3.7, 'ETH': 2.3, 'TON': 63.7, 'SFP': 90, 'PI': 1500}"
      ]
     },
     "execution_count": 20,
     "metadata": {},
     "output_type": "execute_result"
    }
   ],
   "source": [
    "Wallet.view_balance()"
   ]
  },
  {
   "cell_type": "code",
   "execution_count": null,
   "id": "8e928b6f",
   "metadata": {},
   "outputs": [],
   "source": [
    "class cryptoCurrency:\n",
    "    def __init__(self, name, price, symbol, quantity):\n",
    "        self.name = name # name of the asset\n",
    "        self.price = price # price of the asset in USD\n",
    "        self.symbol = symbol # e.g 'BTC'\n",
    "        self.quantity = quantity # amount held\n",
    "\n",
    "    # claculate the current price\n",
    "    def get_value(self):\n",
    "        return self.price * self.quantity\n",
    "    \n",
    "    # update the current price\n",
    "\n",
    "    def update_price(self, new_price):\n",
    "        self.price = new_price\n",
    "\n",
    "\n",
    "class Portfolio:\n",
    "    # class to manage the cryptocurrency portfolio\n",
    "    def __init__(self):\n",
    "        self.holdings = {} # dictionary to hold cryptocurrencies\n",
    "\n",
    "    def add_crypto(self, crypto):\n",
    "        # Adding cryptocurrency to the portfolio\n",
    "        self.holdings[crypto.symbol] = crypto\n",
    "    \n",
    "    def Get_Total_Value(self):\n",
    "        # Calculate the total value of the portfolio\n",
    "        total = sum(crypto.get_value() for crypto in self.holdings.values())\n",
    "        return total\n",
    "    \n",
    "    def Get_Holdings(self, symbol):\n",
    "        # Retreives cryptocurrency by it's symbol\n",
    "        return self.holdings.get(symbol, None)\n",
    "\n",
    "    def Withdrawal(self, symbol, quantity):\n",
    "        # withdraw specified quantity of cryptocurrency\n",
    "        crypto = self.holdings[symbol]\n",
    "\n",
    "        # check if cryptocurrency exist\n",
    "        if not crypto:\n",
    "            print(f'Error: {symbol} is not available in portfolio')\n",
    "            return False\n",
    "\n",
    "        # check for withdrawal quantity\n",
    "        if quantity <= 0:\n",
    "            print(f'Error: Withral quantity nmust be positive')\n",
    "            return False\n",
    "        \n",
    "                # check for asset quanity \n",
    "        if  quantity > crypto.quantity:\n",
    "            print(f'Error: Issuficent {symbol}. Avalible quantity:{crypto.quantity}. Request {quantity}')\n",
    "            return False\n",
    "\n",
    "        # update quantity\n",
    "        crypto.quantity -= quantity\n",
    "        print(f'Withdrew {quantity}{symbol}. Remaining {crypto.quantity}{symbol}')\n",
    "\n",
    "        # remove asset if quantity is 0\n",
    "        if quantity == 0:\n",
    "            del self.holdngs[symbol]\n",
    "            print(f'{symbol} removed from portfolio')\n",
    "            \n",
    "            return True     \n",
    "        \n",
    "    def Deposit(self, symbol, quantity):\n",
    "        self.holdings[symbol]  = self.holdings.get(symbol, 0) =+ quantity\n",
    "        print(f' Deposit of {quantity}{symbol} was successful. Current portfolio{self.holdings.get()}')\n",
    "        return True"
   ]
  },
  {
   "cell_type": "code",
   "execution_count": 64,
   "id": "e2e05422",
   "metadata": {},
   "outputs": [
    {
     "name": "stdout",
     "output_type": "stream",
     "text": [
      "Total Portfolio Value: $416000.00\n"
     ]
    }
   ],
   "source": [
    "# Create Cryptocurrency objects\n",
    "bitcoin = cryptoCurrency('Bitcoin', 192000, 'BTC', 2)\n",
    "ethereum = cryptoCurrency('Ethereum', 3200, 'ETH', 10)\n",
    "\n",
    "# Create Portfolio objects\n",
    "My_Portfolio = Portfolio()\n",
    "My_Portfolio.add_crypto(bitcoin)\n",
    "My_Portfolio.add_crypto(ethereum)\n",
    "\n",
    "# Calculate total portfolio value\n",
    "Total_Value = My_Portfolio.Get_Total_Value()\n",
    "print(f'Total Portfolio Value: ${Total_Value:.2f}')\n"
   ]
  },
  {
   "cell_type": "code",
   "execution_count": 65,
   "id": "ab570d9d",
   "metadata": {},
   "outputs": [
    {
     "name": "stdout",
     "output_type": "stream",
     "text": [
      "new Bitcoin price is $200,000.00\n",
      "Updated portfollio:432,000.00\n"
     ]
    }
   ],
   "source": [
    "# update bictoin price\n",
    "bitcoin.update_price(200000)\n",
    "print(f'new Bitcoin price is ${bitcoin.price:,.2f}')\n",
    "print(f'Updated portfollio:{My_Portfolio.Get_Total_Value():,.2f}')\n"
   ]
  },
  {
   "cell_type": "code",
   "execution_count": 61,
   "id": "7bf67f6c",
   "metadata": {},
   "outputs": [
    {
     "name": "stdout",
     "output_type": "stream",
     "text": [
      "Withdrew 2ETH. Remaining 8ETH\n"
     ]
    }
   ],
   "source": [
    "My_Portfolio.Withdrawal('ETH', 2)\n"
   ]
  },
  {
   "cell_type": "code",
   "execution_count": 66,
   "id": "c1d4077e",
   "metadata": {},
   "outputs": [
    {
     "ename": "TypeError",
     "evalue": "'builtin_function_or_method' object does not support item assignment",
     "output_type": "error",
     "traceback": [
      "\u001b[31m---------------------------------------------------------------------------\u001b[39m",
      "\u001b[31mTypeError\u001b[39m                                 Traceback (most recent call last)",
      "\u001b[36mCell\u001b[39m\u001b[36m \u001b[39m\u001b[32mIn[66]\u001b[39m\u001b[32m, line 1\u001b[39m\n\u001b[32m----> \u001b[39m\u001b[32m1\u001b[39m \u001b[43mMy_Portfolio\u001b[49m\u001b[43m.\u001b[49m\u001b[43mDeposit\u001b[49m\u001b[43m(\u001b[49m\u001b[33;43m'\u001b[39;49m\u001b[33;43mETH\u001b[39;49m\u001b[33;43m'\u001b[39;49m\u001b[43m,\u001b[49m\u001b[43m \u001b[49m\u001b[32;43m2.5\u001b[39;49m\u001b[43m)\u001b[49m\n",
      "\u001b[36mCell\u001b[39m\u001b[36m \u001b[39m\u001b[32mIn[63]\u001b[39m\u001b[32m, line 67\u001b[39m, in \u001b[36mPortfolio.Deposit\u001b[39m\u001b[34m(self, symbol, quantity)\u001b[39m\n\u001b[32m     66\u001b[39m \u001b[38;5;28;01mdef\u001b[39;00m\u001b[38;5;250m \u001b[39m\u001b[34mDeposit\u001b[39m(\u001b[38;5;28mself\u001b[39m, symbol, quantity):\n\u001b[32m---> \u001b[39m\u001b[32m67\u001b[39m     \u001b[38;5;28mself\u001b[39m.holdings[symbol]  = \u001b[38;5;28;43mself\u001b[39;49m\u001b[43m.\u001b[49m\u001b[43mholdings\u001b[49m\u001b[43m.\u001b[49m\u001b[43mget\u001b[49m\u001b[43m[\u001b[49m\u001b[43msymbol\u001b[49m\u001b[43m,\u001b[49m\u001b[43m \u001b[49m\u001b[32;43m0\u001b[39;49m\u001b[43m]\u001b[49m =+ quantity\n\u001b[32m     68\u001b[39m     \u001b[38;5;28mprint\u001b[39m(\u001b[33mf\u001b[39m\u001b[33m'\u001b[39m\u001b[33m Deposit of \u001b[39m\u001b[38;5;132;01m{\u001b[39;00mquantity\u001b[38;5;132;01m}\u001b[39;00m\u001b[38;5;132;01m{\u001b[39;00msymbol\u001b[38;5;132;01m}\u001b[39;00m\u001b[33m was successful. Current portfolio\u001b[39m\u001b[38;5;132;01m{\u001b[39;00m\u001b[38;5;28mself\u001b[39m.holdings.get()\u001b[38;5;132;01m}\u001b[39;00m\u001b[33m'\u001b[39m)\n",
      "\u001b[31mTypeError\u001b[39m: 'builtin_function_or_method' object does not support item assignment"
     ]
    }
   ],
   "source": [
    "My_Portfolio.Deposit('ETH', 2.5)"
   ]
  },
  {
   "cell_type": "markdown",
   "id": "b5c7d7f6",
   "metadata": {},
   "source": [
    "##### Customer Purchases Example for class"
   ]
  },
  {
   "cell_type": "markdown",
   "id": "b72d3b58",
   "metadata": {},
   "source": [
    "# Define a class to represent a store customer\n",
    "class StoreCustomer():\n",
    "    \n",
    "    # Constructor method to initialize a new customer object\n",
    "    def __init__(self, name, email):\n",
    "        self.name = name              # Store the customer's name\n",
    "        self.email = email            # Store the customer's email\n",
    "        self.purchases = []           # Create an empty list to store all purchases as dictionaries\n",
    "\n",
    "    # Method to add a purchase to the customer's purchase history\n",
    "    def Make_Purchase(self, item_name, price):\n",
    "        # Append a dictionary with item name and price to the purchases list\n",
    "        self.purchases.append({'Item': item_name, 'Price': price})\n",
    "\n",
    "    # Method to calculate and return the total amount spent by the customer\n",
    "    def View_Purchases(self):\n",
    "        # Loop through each purchase dictionary and sum the values associated with the 'Price' key\n",
    "        Total = sum(purchase['Price'] for purchase in self.purchases)\n",
    "        return Total  # Return the total sum of prices\n",
    "\n",
    "    # Method to print out the full history of purchases\n",
    "    def View_Purchase_History(self):\n",
    "        # Loop through each purchase and print the item name and price\n",
    "        for purchase in self.purchases:\n",
    "            print(f\"Item: {purchase['Item']}, Price: {purchase['Price']}\")\n"
   ]
  },
  {
   "cell_type": "code",
   "execution_count": 26,
   "id": "738de71b",
   "metadata": {},
   "outputs": [],
   "source": [
    "class StoreCustomer():\n",
    "    def __init__(self, name, email):\n",
    "        self.name = name\n",
    "        self.email = email\n",
    "        self.purchases = []\n",
    "    \n",
    "    def Make_Purchase(self, item_name, price):\n",
    "        self.purchases.append({'Item':item_name, 'Price':price})\n",
    "    \n",
    "    def View_Purchases(self):\n",
    "        Total = sum(purchase[price] for purchase in self.purchases)\n",
    "        return Total\n",
    "\n",
    "    def View_Purchase_History(self):\n",
    "        for purchase in self.purchases:\n",
    "            print(f'Item: {purchase['Item']}, Price: {purchase['Price']}')\n",
    " "
   ]
  },
  {
   "cell_type": "code",
   "execution_count": null,
   "id": "27c1bd52",
   "metadata": {},
   "outputs": [],
   "source": [
    "Customer = StoreCustomer('Mr Ben', 'ben@gmail.com')\n",
    "Customer.Make_Purchase( 'Laptop', 2300)\n",
    "Customer.Make_Purchase('HeadSet', 400)\n",
    "Customer.Make_Purchase('Iphone 15x', 1400)\n",
    "Customer.Make_Purchase('Power Station', 2400)"
   ]
  },
  {
   "cell_type": "code",
   "execution_count": null,
   "id": "5d1b2c6c",
   "metadata": {},
   "outputs": [
    {
     "name": "stdout",
     "output_type": "stream",
     "text": [
      "Item: Laptop, Price: 2300\n",
      "Item: HeadSet, Price: 400\n",
      "Item: Iphone 15x, Price: 1400\n",
      "Item: Power Station, Price: 2400\n",
      "None\n"
     ]
    }
   ],
   "source": [
    "print(Customer.View_Purchase_History())"
   ]
  },
  {
   "cell_type": "code",
   "execution_count": null,
   "id": "8a2ffbc4",
   "metadata": {},
   "outputs": [],
   "source": [
    "class CryptoWallet1:\n",
    "    # Constructor\n",
    "    def __init__(self, owner):\n",
    "        self.owner = owner\n",
    "        self.balance = {}\n",
    "\n",
    "    def deposit(self,token, amount):\n",
    "        self.balance[token] = self.balance.get(token,0) + amount\n",
    "\n",
    "    def withdraw(self, token, amount):\n",
    "        if self.balance.get(token,0) >= amount:\n",
    "            self.balance[token] -= amount\n",
    "            return True, f'Withdrawal Successful, remaining balance: {self.balance[token]}'\n",
    "        else:\n",
    "            return False\n",
    "\n",
    "    def view_balance(self):\n",
    "        return self.balance"
   ]
  },
  {
   "cell_type": "code",
   "execution_count": null,
   "id": "40e91b38",
   "metadata": {},
   "outputs": [],
   "source": [
    "Wallet1 = CryptoWallet1('Khalled')\n",
    "Wallet1.deposit('BTC', 10)\n",
    "Wallet1.deposit('ETH', 23)\n",
    "Wallet1.deposit('TON', 70)\n",
    "Wallet1.deposit('SFP', 100)\n",
    "Wallet1.deposit('PI', 15000000)"
   ]
  },
  {
   "cell_type": "code",
   "execution_count": null,
   "id": "7ce02709",
   "metadata": {},
   "outputs": [
    {
     "data": {
      "text/plain": [
       "{'BTC': 10, 'ETH': 23, 'TON': 70, 'SFP': 100, 'PI': 15000000}"
      ]
     },
     "execution_count": 28,
     "metadata": {},
     "output_type": "execute_result"
    }
   ],
   "source": [
    "Wallet1.view_balance()"
   ]
  },
  {
   "cell_type": "code",
   "execution_count": null,
   "id": "20f1ed91",
   "metadata": {},
   "outputs": [
    {
     "data": {
      "text/plain": [
       "(True, 'Withdrawal Successful, remaining balance: 14999900')"
      ]
     },
     "execution_count": 29,
     "metadata": {},
     "output_type": "execute_result"
    }
   ],
   "source": [
    "Wallet1.withdraw('PI',100)"
   ]
  },
  {
   "cell_type": "markdown",
   "id": "aefb9ae3",
   "metadata": {},
   "source": [
    "#### A basic system of banlk accouint type example"
   ]
  },
  {
   "cell_type": "code",
   "execution_count": null,
   "id": "698262ff",
   "metadata": {},
   "outputs": [],
   "source": [
    "# Build the parent Parent class first.\n",
    "class BankAccount:\n",
    "    def __init__(self, owner, balance=0):\n",
    "        self.owner = owner\n",
    "        self.balance = balance\n",
    "\n",
    "    def deposit(self, amount):\n",
    "        self.balance += amount\n",
    "        print(f\"{self.owner} deposited {amount}. New balance: {self.balance}\")\n",
    "\n",
    "    def withdraw(self, amount):\n",
    "        if amount <= self.balance:\n",
    "            self.balance -= amount\n",
    "            print(f\"{self.owner} withdrew {amount}. New balance: {self.balance}\")\n",
    "        else:\n",
    "            print(\"Insufficient balance\")\n",
    "\n",
    "# Create the First Child Class (SavingsAccount)\n",
    "class SavingsAccount(BankAccount):\n",
    "    def __init__(self, owner, balance=0, interest_rate=0.05):\n",
    "        super().__init__(owner, balance)\n",
    "        self.interest_rate = interest_rate\n",
    "\n",
    "    def apply_interest(self):\n",
    "        interest = self.balance * self.interest_rate\n",
    "        self.balance += interest\n",
    "        print(f\"Interest of {interest} applied. New balance: {self.balance}\")\n",
    "\n",
    "\n",
    "# Create the Second Child Class (CurrentAccount)\n",
    "class CurrentAccount(BankAccount):\n",
    "    def issue_cheque(self, amount, payee):\n",
    "        if amount <= self.balance:\n",
    "            self.balance -= amount\n",
    "            print(f\"Cheque of {amount} issued to {payee}. Remaining balance: {self.balance}\")\n",
    "        else:\n",
    "            print(\"Cannot issue cheque, insufficient funds.\")\n"
   ]
  },
  {
   "cell_type": "code",
   "execution_count": null,
   "id": "24633f1b",
   "metadata": {},
   "outputs": [
    {
     "name": "stdout",
     "output_type": "stream",
     "text": [
      "Aisha deposited 200. New balance: 1200\n",
      "Interest of 60.0 applied. New balance: 1260.0\n"
     ]
    }
   ],
   "source": [
    "# Create a Savings Account\n",
    "savings = SavingsAccount(\"Aisha\", 1000)\n",
    "savings.deposit(200)\n",
    "savings.apply_interest()"
   ]
  },
  {
   "cell_type": "code",
   "execution_count": null,
   "id": "763e1cb0",
   "metadata": {},
   "outputs": [
    {
     "name": "stdout",
     "output_type": "stream",
     "text": [
      "Emeka withdrew 100. New balance: 400\n",
      "Cheque of 300 issued to TechStore. Remaining balance: 100\n"
     ]
    }
   ],
   "source": [
    "# Create a Current Account\n",
    "current = CurrentAccount(\"Emeka\", 500)\n",
    "current.withdraw(100)\n",
    "current.issue_cheque(300, \"TechStore\")\n"
   ]
  }
 ],
 "metadata": {
  "kernelspec": {
   "display_name": "PythonTut",
   "language": "python",
   "name": "python3"
  },
  "language_info": {
   "codemirror_mode": {
    "name": "ipython",
    "version": 3
   },
   "file_extension": ".py",
   "mimetype": "text/x-python",
   "name": "python",
   "nbconvert_exporter": "python",
   "pygments_lexer": "ipython3",
   "version": "3.13.1"
  }
 },
 "nbformat": 4,
 "nbformat_minor": 5
}
