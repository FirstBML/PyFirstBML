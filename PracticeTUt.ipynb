{
 "cells": [
  {
   "cell_type": "markdown",
   "id": "e2f91a0a",
   "metadata": {},
   "source": [
    "#### Comments (#) –  Comments are like sticky notes in your code. They start with # and are ignored by Python, so they’re just for you or others to understand what the code does.<br>\n",
    "#### Example: # This calculates your age<br>\n",
    "#### Indentation (Spaces/Tabs) – Python uses them to group code (like paragraphs in a book).<br>\n",
    "#### Code Blocks – Sections of code that belong together (e.g., inside loops or functions).<br>\n",
    "#### Keywords – Special words Python reserves (e.g., if, for, while). Don’t use these as variable names!\n"
   ]
  },
  {
   "cell_type": "markdown",
   "id": "bafe84f6",
   "metadata": {},
   "source": [
    "### comments"
   ]
  },
  {
   "cell_type": "code",
   "execution_count": null,
   "id": "3e54b7bf",
   "metadata": {},
   "outputs": [
    {
     "name": "stdout",
     "output_type": "stream",
     "text": [
      "{4500}\n"
     ]
    }
   ],
   "source": [
    "a = 50 # define the first varriable 'a'\n",
    "b = 90 # define the second Varriable 'b'\n",
    "c = a * b # multiplyng the first and second varribles\n",
    "print({c}) # bringing out the result of the calculation"
   ]
  },
  {
   "cell_type": "markdown",
   "id": "d7c02534",
   "metadata": {},
   "source": [
    "### Indentation"
   ]
  },
  {
   "cell_type": "code",
   "execution_count": null,
   "id": "b8b9021c",
   "metadata": {},
   "outputs": [
    {
     "name": "stdout",
     "output_type": "stream",
     "text": [
      "Buy Opportunity\n"
     ]
    }
   ],
   "source": [
    "ALU = 0.5700\n",
    "if ALU < 0.6450:\n",
    "    print(\"Buy Opportunity\") # Indentation indicates using spaces or a tab\n"
   ]
  },
  {
   "cell_type": "code",
   "execution_count": 17,
   "id": "6e21e05e",
   "metadata": {},
   "outputs": [
    {
     "name": "stdout",
     "output_type": "stream",
     "text": [
      "5 is greater than 1\n"
     ]
    }
   ],
   "source": [
    "Number = 5\n",
    "if Number > 1:\n",
    "    print(f\"{Number} is greater than 1\") # Another Indentation"
   ]
  },
  {
   "cell_type": "markdown",
   "id": "08f6c596",
   "metadata": {},
   "source": [
    "### f-string (short for formatted string literal) is a way to embed expressions (like variables or calculations) directly inside a string using a concise and readable syntax. it make and expressiion or varriable to stay alive and dinamic. example below"
   ]
  },
  {
   "cell_type": "code",
   "execution_count": 19,
   "id": "856927f6",
   "metadata": {},
   "outputs": [
    {
     "name": "stdout",
     "output_type": "stream",
     "text": [
      "Time to review related portfolio as BTC is 98000\n"
     ]
    }
   ],
   "source": [
    "BTC = 98000\n",
    "if BTC < 99000:\n",
    "    print(f\"Time to review related portfolio as BTC is {BTC}\")"
   ]
  },
  {
   "cell_type": "markdown",
   "id": "b96d654f",
   "metadata": {},
   "source": [
    "### Input \n",
    "##### used to enable users oppotunity to enter data response(s). See example below"
   ]
  },
  {
   "cell_type": "code",
   "execution_count": 2,
   "id": "5bc9453c",
   "metadata": {},
   "outputs": [
    {
     "name": "stdout",
     "output_type": "stream",
     "text": [
      "My favourite crypto asset is: sol\n"
     ]
    }
   ],
   "source": [
    "asset = input(\"Enter your favourite Crypto Asset: \")\n",
    "print(\"My favourite crypto asset is: \" + asset )\n"
   ]
  },
  {
   "cell_type": "markdown",
   "id": "16726924",
   "metadata": {},
   "source": [
    "### Varriable"
   ]
  },
  {
   "cell_type": "markdown",
   "id": "6a7018a9",
   "metadata": {},
   "source": [
    "#### Varriables are named container that stores data. \n",
    "#### for example score = 100. the varriable is the \"score\"\n",
    "#### Rules of using Varriables\n",
    "####    1 Start with a letter or _ (not a number)\n",
    "####    2 It can Contain Number, Letter or underscore(_) (no space or symbol)\n",
    "####    3 Can be Case sensitive (Name =! name)\n",
    "####    4 Avoid Python Keywords (eg print, if, etc)\n",
    "\n",
    "#### Assignment (=). This must be present\n",
    "#####   fruit = 'Apple'. this put apple into the varrible apple.\n",
    "#####   Can be updated later as fruit = 'Banana'\n",
    "\n"
   ]
  },
  {
   "cell_type": "markdown",
   "id": "9983878b",
   "metadata": {},
   "source": [
    "### Varriables\n",
    "\n",
    "\n"
   ]
  },
  {
   "cell_type": "code",
   "execution_count": null,
   "id": "a76ee26c",
   "metadata": {},
   "outputs": [],
   "source": [
    "Name = \"John\" #### this a string varriable\n",
    "Height = 4.5 #### this is a float varriable\n",
    "Age = 5 #### this integer varriable\n",
    "_is_valid = True #### this is a boolen varible"
   ]
  },
  {
   "cell_type": "markdown",
   "id": "37f5edb2",
   "metadata": {},
   "source": []
  },
  {
   "cell_type": "markdown",
   "id": "4d41320a",
   "metadata": {},
   "source": [
    "### Varriables Case Sensitivity"
   ]
  },
  {
   "cell_type": "code",
   "execution_count": 7,
   "id": "dcfb0421",
   "metadata": {},
   "outputs": [],
   "source": [
    "#### Varriable are case Sensitive\n",
    "Name = \"John\"\n",
    "Name = \"john\""
   ]
  },
  {
   "cell_type": "markdown",
   "id": "fa09e006",
   "metadata": {},
   "source": [
    "### Varriable Assignment"
   ]
  },
  {
   "cell_type": "code",
   "execution_count": 10,
   "id": "027be608",
   "metadata": {},
   "outputs": [],
   "source": [
    "#### Assignment\n",
    "x = 12 #### Assigning value 12 to the varriable x\n",
    "y = 25 #### Assigning value 25 to the varriable y\n",
    "\n",
    "#### Multiple Assignment\n",
    "x, y = 5, 9 #### Assign 5 to x and 9 to y in a single line"
   ]
  },
  {
   "cell_type": "markdown",
   "id": "e35efc87",
   "metadata": {},
   "source": [
    "### Data Type"
   ]
  },
  {
   "cell_type": "markdown",
   "id": "1160defa",
   "metadata": {},
   "source": [
    "##### Data types categorise different data base on how they behave and allowed operation\n"
   ]
  },
  {
   "cell_type": "markdown",
   "id": "12e604d9",
   "metadata": {},
   "source": [
    "### Common Data Type\n"
   ]
  },
  {
   "cell_type": "markdown",
   "id": "2c304206",
   "metadata": {},
   "source": [
    "##### Text Data Type"
   ]
  },
  {
   "cell_type": "markdown",
   "id": "0a55e69b",
   "metadata": {},
   "source": [
    "##### String\n"
   ]
  },
  {
   "cell_type": "code",
   "execution_count": null,
   "id": "0ecaa6ce",
   "metadata": {},
   "outputs": [],
   "source": [
    "##### String Data type also know as string data type\n",
    "State = \"Lagos\" ##### String Data type\n",
    "Country = \"Nigeria\"  ##### Another string Data type``"
   ]
  },
  {
   "cell_type": "markdown",
   "id": "35e9a8cd",
   "metadata": {},
   "source": [
    "### Numberic Data Type\n",
    "####  This data type store numerical values such as 1, 2, or 3.2, etc"
   ]
  },
  {
   "cell_type": "markdown",
   "id": "17329314",
   "metadata": {},
   "source": [
    "###  Common Numeric Data type\n",
    "##### - Integer    "
   ]
  },
  {
   "cell_type": "code",
   "execution_count": null,
   "id": "203feef7",
   "metadata": {},
   "outputs": [],
   "source": [
    "### Integer stores whole numbers\n",
    "ETH = 2305 "
   ]
  },
  {
   "cell_type": "markdown",
   "id": "c2389c1f",
   "metadata": {},
   "source": [
    "##### -Float"
   ]
  },
  {
   "cell_type": "code",
   "execution_count": null,
   "id": "460afdc2",
   "metadata": {},
   "outputs": [],
   "source": [
    "### Float Stores decimal numbers. E.g\n",
    "Assets = 23.50\n"
   ]
  },
  {
   "cell_type": "markdown",
   "id": "0b41a4a8",
   "metadata": {},
   "source": [
    "##### -Boolean"
   ]
  },
  {
   "cell_type": "code",
   "execution_count": null,
   "id": "145e108e",
   "metadata": {},
   "outputs": [],
   "source": [
    "##### Boolen data type stores condition value such as true, false, or yes, etc\n",
    "_is_valid = False\n",
    "invalid = True"
   ]
  },
  {
   "cell_type": "markdown",
   "id": "59237095",
   "metadata": {},
   "source": [
    "### Sequence Data Type\n",
    "##### This store series of values or data\n",
    "#### Common Data type"
   ]
  },
  {
   "cell_type": "markdown",
   "id": "4becd425",
   "metadata": {},
   "source": [
    "#### - List"
   ]
  },
  {
   "cell_type": "code",
   "execution_count": null,
   "id": "abb5e45f",
   "metadata": {},
   "outputs": [
    {
     "name": "stdout",
     "output_type": "stream",
     "text": [
      "{'BTC', 'SOL', 'ETH'}\n"
     ]
    }
   ],
   "source": [
    "##### A list data type is an ordered collection of items \n",
    "CrptoAssets = {'BTC', 'ETH', 'SOL'}\n",
    "print(CrptoAssets)"
   ]
  },
  {
   "cell_type": "code",
   "execution_count": 15,
   "id": "743b1871",
   "metadata": {},
   "outputs": [
    {
     "data": {
      "text/plain": [
       "{'22', '3.4', '50'}"
      ]
     },
     "execution_count": 15,
     "metadata": {},
     "output_type": "execute_result"
    }
   ],
   "source": [
    "CrptoAssets1 = {'50','22','3.4',}\n",
    "CrptoAssets1"
   ]
  },
  {
   "cell_type": "markdown",
   "id": "bf475c92",
   "metadata": {},
   "source": [
    "#### - Tuple"
   ]
  },
  {
   "cell_type": "code",
   "execution_count": 14,
   "id": "e2c5b606",
   "metadata": {},
   "outputs": [
    {
     "name": "stdout",
     "output_type": "stream",
     "text": [
      "(23, 32, 45)\n"
     ]
    }
   ],
   "source": [
    "##### Tuple data type used parenthesis and the data stored are immutable\n",
    "AgeRange = (23,32,45)\n",
    "print(AgeRange)"
   ]
  },
  {
   "cell_type": "code",
   "execution_count": 16,
   "id": "b13fcce6",
   "metadata": {},
   "outputs": [
    {
     "data": {
      "text/plain": [
       "('four', 'three', 'seven')"
      ]
     },
     "execution_count": 16,
     "metadata": {},
     "output_type": "execute_result"
    }
   ],
   "source": [
    "AgeRange1 = ('four','three','seven')\n",
    "AgeRange1"
   ]
  },
  {
   "cell_type": "markdown",
   "id": "643d9737",
   "metadata": {},
   "source": [
    "##### - Dictionary Data type"
   ]
  },
  {
   "cell_type": "code",
   "execution_count": null,
   "id": "c29c6914",
   "metadata": {},
   "outputs": [
    {
     "name": "stdout",
     "output_type": "stream",
     "text": [
      "{'BTC': 98000, 'ETH': 2300, 'SOL': 160}\n"
     ]
    }
   ],
   "source": [
    "#### Dictionary stores information that goes together covered with coily braces{}\n",
    "CryptoPrices = {'BTC': 98000,'ETH':2300,'SOL':160}\n",
    "print(CryptoPrices)\n"
   ]
  },
  {
   "cell_type": "markdown",
   "id": "67d3c4eb",
   "metadata": {},
   "source": [
    "#### - Set"
   ]
  },
  {
   "cell_type": "code",
   "execution_count": 3,
   "id": "bb2b3ce0",
   "metadata": {},
   "outputs": [
    {
     "name": "stdout",
     "output_type": "stream",
     "text": [
      "{1, 2, 3}\n"
     ]
    }
   ],
   "source": [
    "#### Set data type stores an ordered collection of unique items. A value does not apear twice. \n",
    "SetDataType = {1,2,3}\n",
    "print(SetDataType)\n"
   ]
  },
  {
   "cell_type": "markdown",
   "id": "7b2bbafa",
   "metadata": {},
   "source": [
    "#### - None\n",
    "##### None data type stores empty values like Null, Blank, etc\n"
   ]
  },
  {
   "cell_type": "markdown",
   "id": "ab93b588",
   "metadata": {},
   "source": [
    "### Checking Data Type"
   ]
  },
  {
   "cell_type": "code",
   "execution_count": 5,
   "id": "76daba50",
   "metadata": {},
   "outputs": [
    {
     "name": "stdout",
     "output_type": "stream",
     "text": [
      "<class 'int'>\n"
     ]
    }
   ],
   "source": [
    "age = 39\n",
    "# print(f'My age is {age}')\n",
    "print(type(age))"
   ]
  },
  {
   "cell_type": "markdown",
   "id": "4cfa2739",
   "metadata": {},
   "source": [
    "### Coverting Data Types"
   ]
  },
  {
   "cell_type": "code",
   "execution_count": 7,
   "id": "4b0e636e",
   "metadata": {},
   "outputs": [
    {
     "name": "stdout",
     "output_type": "stream",
     "text": [
      "My age is 39\n"
     ]
    }
   ],
   "source": [
    "age = '39'\n",
    "int(age)\n",
    "print(f'My age is {age}')\n"
   ]
  },
  {
   "cell_type": "code",
   "execution_count": 9,
   "id": "44c0f9c9",
   "metadata": {},
   "outputs": [
    {
     "name": "stdout",
     "output_type": "stream",
     "text": [
      "Seventy-Thousand\n"
     ]
    }
   ],
   "source": [
    "Salary = 'Seventy-Thousand'\n",
    "str(Salary)\n",
    "print(Salary)"
   ]
  },
  {
   "cell_type": "markdown",
   "id": "dff1a239",
   "metadata": {},
   "source": [
    "#### (1)Common Method and Function in String"
   ]
  },
  {
   "cell_type": "code",
   "execution_count": 5,
   "id": "2ca76f1a",
   "metadata": {},
   "outputs": [
    {
     "data": {
      "text/plain": [
       "10"
      ]
     },
     "execution_count": 5,
     "metadata": {},
     "output_type": "execute_result"
    }
   ],
   "source": [
    "Name = 'BloCKchaIn'\n",
    "len(Name) # Returns the number of characters in a string\n"
   ]
  },
  {
   "cell_type": "code",
   "execution_count": 4,
   "id": "3e02fbc7",
   "metadata": {},
   "outputs": [
    {
     "data": {
      "text/plain": [
       "'blockchain'"
      ]
     },
     "execution_count": 4,
     "metadata": {},
     "output_type": "execute_result"
    }
   ],
   "source": [
    "Name = 'BloCKchaIn'\n",
    "Name.lower() # Convert Upper case to Lower Case in a string"
   ]
  },
  {
   "cell_type": "code",
   "execution_count": 6,
   "id": "e0b47bdf",
   "metadata": {},
   "outputs": [
    {
     "data": {
      "text/plain": [
       "'BLOCKCHAIN'"
      ]
     },
     "execution_count": 6,
     "metadata": {},
     "output_type": "execute_result"
    }
   ],
   "source": [
    "Name = 'BloCKchaIn'\n",
    "Name.upper() # Convert Lower case to Upper Case in a string"
   ]
  },
  {
   "cell_type": "code",
   "execution_count": 12,
   "id": "d2bedff3",
   "metadata": {},
   "outputs": [
    {
     "data": {
      "text/plain": [
       "'Blockchain'"
      ]
     },
     "execution_count": 12,
     "metadata": {},
     "output_type": "execute_result"
    }
   ],
   "source": [
    "Name = \" Blockchain\"\n",
    "Name.strip() # Remove whitespace or specifit character from the beggining and end of a string"
   ]
  },
  {
   "cell_type": "code",
   "execution_count": null,
   "id": "3c47ec74",
   "metadata": {},
   "outputs": [
    {
     "data": {
      "text/plain": [
       "'Crypto'"
      ]
     },
     "execution_count": 16,
     "metadata": {},
     "output_type": "execute_result"
    }
   ],
   "source": [
    "y = 'BlockchaIn'\n",
    "y=y.replace('BlockchaIn','Crypto') # Replace a string with another string\n",
    "y"
   ]
  },
  {
   "cell_type": "code",
   "execution_count": null,
   "id": "e8e5db77",
   "metadata": {},
   "outputs": [
    {
     "data": {
      "text/plain": [
       "['BloCKchaIn', ' cryptos', ' asset', ' price']"
      ]
     },
     "execution_count": 20,
     "metadata": {},
     "output_type": "execute_result"
    }
   ],
   "source": [
    "x = 'BloCKchaIn, cryptos, asset, price'\n",
    "x = x.split(',') # split different string into seperate column\n",
    "x "
   ]
  },
  {
   "cell_type": "code",
   "execution_count": null,
   "id": "4271a6c9",
   "metadata": {},
   "outputs": [
    {
     "data": {
      "text/plain": [
       "True"
      ]
     },
     "execution_count": 22,
     "metadata": {},
     "output_type": "execute_result"
    }
   ],
   "source": [
    "P = 'CryptoAsset'\n",
    "'Asset' in P # check if a set of character is inside a string"
   ]
  },
  {
   "cell_type": "markdown",
   "id": "e9f5ec41",
   "metadata": {},
   "source": [
    "#### 2 List[]: Ordered, mutable, and indexsble set of elements"
   ]
  },
  {
   "cell_type": "code",
   "execution_count": 25,
   "id": "f7a90039",
   "metadata": {},
   "outputs": [
    {
     "data": {
      "text/plain": [
       "list"
      ]
     },
     "execution_count": 25,
     "metadata": {},
     "output_type": "execute_result"
    }
   ],
   "source": [
    "Tokens = ['BTC', 'ALU','HBAR','SOL']\n",
    "type(Tokens)"
   ]
  },
  {
   "cell_type": "markdown",
   "id": "38fabcd4",
   "metadata": {},
   "source": [
    "#### Common Method of List[]"
   ]
  },
  {
   "cell_type": "code",
   "execution_count": 55,
   "id": "47d704a1",
   "metadata": {},
   "outputs": [
    {
     "data": {
      "text/plain": [
       "4"
      ]
     },
     "execution_count": 55,
     "metadata": {},
     "output_type": "execute_result"
    }
   ],
   "source": [
    "Tokens = ['BTC', 'ALU','HBAR','SOL']\n",
    "len(Tokens) # lenght of list"
   ]
  },
  {
   "cell_type": "code",
   "execution_count": 56,
   "id": "0022d503",
   "metadata": {},
   "outputs": [
    {
     "name": "stdout",
     "output_type": "stream",
     "text": [
      "['BTC', 'ALU', 'HBAR', 'SOL', 'TIA']\n"
     ]
    }
   ],
   "source": [
    "Tokens = ['BTC', 'ALU','HBAR','SOL']\n",
    "Tokens.append ('TIA') # Add to the end of list\n",
    "print(Tokens)"
   ]
  },
  {
   "cell_type": "code",
   "execution_count": null,
   "id": "8ed33ac0",
   "metadata": {},
   "outputs": [
    {
     "data": {
      "text/plain": [
       "['BTC', 'ALU', 'ADA', 'HBAR', 'SOL']"
      ]
     },
     "execution_count": 38,
     "metadata": {},
     "output_type": "execute_result"
    }
   ],
   "source": [
    "Tokens = ['BTC', 'ALU','HBAR','SOL']\n",
    "Tokens.insert(2,'ADA') # Add to the list\n",
    "Tokens"
   ]
  },
  {
   "cell_type": "code",
   "execution_count": 57,
   "id": "8fff6c18",
   "metadata": {},
   "outputs": [
    {
     "data": {
      "text/plain": [
       "['BTC', 'HBAR', 'SOL', 'TIA']"
      ]
     },
     "execution_count": 57,
     "metadata": {},
     "output_type": "execute_result"
    }
   ],
   "source": [
    "Tokens.remove('ALU') # remove from list using string\n",
    "Tokens"
   ]
  },
  {
   "cell_type": "code",
   "execution_count": 77,
   "id": "a98d3754",
   "metadata": {},
   "outputs": [
    {
     "data": {
      "text/plain": [
       "['BTC', 'TIA', 'ETH', 'ADA', 'ALU']"
      ]
     },
     "execution_count": 77,
     "metadata": {},
     "output_type": "execute_result"
    }
   ],
   "source": [
    "Token= ['BTC','TIA', 'SOL','ETH','ADA', 'ALU']\n",
    "Token.pop(2) # remove from list using index\n",
    "Token"
   ]
  },
  {
   "cell_type": "code",
   "execution_count": 78,
   "id": "196e5cb2",
   "metadata": {},
   "outputs": [
    {
     "data": {
      "text/plain": [
       "['ADA', 'ALU', 'BTC', 'ETH', 'TIA']"
      ]
     },
     "execution_count": 78,
     "metadata": {},
     "output_type": "execute_result"
    }
   ],
   "source": [
    "Token.sort() # Sort elements in a list\n",
    "Token"
   ]
  },
  {
   "cell_type": "code",
   "execution_count": 80,
   "id": "bdd6f636",
   "metadata": {},
   "outputs": [
    {
     "data": {
      "text/plain": [
       "['TIA', 'ETH', 'BTC', 'ALU', 'ADA']"
      ]
     },
     "execution_count": 80,
     "metadata": {},
     "output_type": "execute_result"
    }
   ],
   "source": [
    "Token.reverse() # Return a list to its previous state\n",
    "Token"
   ]
  },
  {
   "cell_type": "markdown",
   "id": "bd04f1bc",
   "metadata": {},
   "source": [
    "#### Index and Slicing"
   ]
  },
  {
   "cell_type": "code",
   "execution_count": null,
   "id": "ed351ac0",
   "metadata": {},
   "outputs": [
    {
     "data": {
      "text/plain": [
       "'SOL'"
      ]
     },
     "execution_count": 81,
     "metadata": {},
     "output_type": "execute_result"
    }
   ],
   "source": [
    "z = ['BTC','TIA', 'SOL','ETH','ADA', 'ALU']\n",
    "z[2] # to fetch out element in list by index\n"
   ]
  },
  {
   "cell_type": "code",
   "execution_count": 82,
   "id": "d25ca924",
   "metadata": {},
   "outputs": [
    {
     "data": {
      "text/plain": [
       "['SOL', 'ETH']"
      ]
     },
     "execution_count": 82,
     "metadata": {},
     "output_type": "execute_result"
    }
   ],
   "source": [
    "z = ['BTC','TIA', 'SOL','ETH','ADA', 'ALU']\n",
    "z[2:4] # extracts a portion of a string (or list) starting at index 2 up to but not including index 4"
   ]
  },
  {
   "cell_type": "code",
   "execution_count": null,
   "id": "22554750",
   "metadata": {},
   "outputs": [
    {
     "data": {
      "text/plain": [
       "['SOL', 'ETH', 'ADA', 'ALU']"
      ]
     },
     "execution_count": 83,
     "metadata": {},
     "output_type": "execute_result"
    }
   ],
   "source": [
    "z = ['BTC','TIA', 'SOL','ETH','ADA', 'ALU']\n",
    "z[2:] # extracts a portion of a string (or list) starting at index 2 up to the end"
   ]
  },
  {
   "cell_type": "code",
   "execution_count": 92,
   "id": "7ee92be9",
   "metadata": {},
   "outputs": [
    {
     "name": "stdout",
     "output_type": "stream",
     "text": [
      "('BTC', 'ADA')\n"
     ]
    }
   ],
   "source": [
    "z = ['BTC','TIA', 'SOL','ETH','ADA', 'ALU']\n",
    "r = z[0], z[4]\n",
    "print(r)"
   ]
  },
  {
   "cell_type": "markdown",
   "id": "4520c62a",
   "metadata": {},
   "source": [
    "#### 3 Dictionary:\n",
    "##### It is unordered and mutable collection of key:value Pair"
   ]
  },
  {
   "cell_type": "code",
   "execution_count": 94,
   "id": "53bd5afd",
   "metadata": {},
   "outputs": [
    {
     "name": "stdout",
     "output_type": "stream",
     "text": [
      "{'Address': '0xABC', 'Balance': 5.4, 'is_active': 'True'}\n"
     ]
    }
   ],
   "source": [
    "Wallet = {\n",
    "    'Address':'0xABC',\n",
    "    'Balance': 5.4,\n",
    "    'is_active': 'True'\n",
    "\n",
    "}\n",
    "print(Wallet)"
   ]
  },
  {
   "cell_type": "markdown",
   "id": "d7056fe7",
   "metadata": {},
   "source": [
    "##### Common Method in Dictionary"
   ]
  },
  {
   "cell_type": "code",
   "execution_count": null,
   "id": "fe4aad1d",
   "metadata": {},
   "outputs": [
    {
     "data": {
      "text/plain": [
       "5.4"
      ]
     },
     "execution_count": 98,
     "metadata": {},
     "output_type": "execute_result"
    }
   ],
   "source": [
    "Wallet['Balance'] # dic('key') to get value by key in the dictionary"
   ]
  },
  {
   "cell_type": "code",
   "execution_count": 99,
   "id": "c3c77e4b",
   "metadata": {},
   "outputs": [
    {
     "data": {
      "text/plain": [
       "'0xABC'"
      ]
     },
     "execution_count": 99,
     "metadata": {},
     "output_type": "execute_result"
    }
   ],
   "source": [
    "Wallet.get('Address') # .get(Key) gives us assess to the value in the dictionary"
   ]
  },
  {
   "cell_type": "code",
   "execution_count": null,
   "id": "3718cafe",
   "metadata": {},
   "outputs": [
    {
     "data": {
      "text/plain": [
       "dict_keys(['Address', 'Balance', 'is_active'])"
      ]
     },
     "execution_count": 101,
     "metadata": {},
     "output_type": "execute_result"
    }
   ],
   "source": [
    "Wallet.keys() #.keys() gives us all the keys"
   ]
  },
  {
   "cell_type": "code",
   "execution_count": 102,
   "id": "97368751",
   "metadata": {},
   "outputs": [
    {
     "data": {
      "text/plain": [
       "dict_values(['0xABC', 5.4, 'True'])"
      ]
     },
     "execution_count": 102,
     "metadata": {},
     "output_type": "execute_result"
    }
   ],
   "source": [
    "Wallet.values() # .values() gives us all the values"
   ]
  },
  {
   "cell_type": "code",
   "execution_count": 104,
   "id": "522292ef",
   "metadata": {},
   "outputs": [
    {
     "data": {
      "text/plain": [
       "dict_items([('Address', '0xABC'), ('Balance', 5.4), ('is_active', 'True')])"
      ]
     },
     "execution_count": 104,
     "metadata": {},
     "output_type": "execute_result"
    }
   ],
   "source": [
    "Wallet.items() # .items gives us all the key and the values"
   ]
  },
  {
   "cell_type": "code",
   "execution_count": 115,
   "id": "bd6bbc49",
   "metadata": {},
   "outputs": [
    {
     "name": "stdout",
     "output_type": "stream",
     "text": [
      "{'Address': '0xABC', 'Balance': 5.4, 'is_active': 'False', 'balance': 700}\n"
     ]
    }
   ],
   "source": [
    "Wallet.update({'balance':700}) # .update({\"key\":value}) allows to update a value in a wallet\n",
    "print(Wallet)\n"
   ]
  },
  {
   "cell_type": "code",
   "execution_count": 116,
   "id": "5ac45b7e",
   "metadata": {},
   "outputs": [
    {
     "data": {
      "text/plain": [
       "{'Address': '0xABC', 'Balance': 5.4, 'is_active': 'True', 'balance': 700}"
      ]
     },
     "execution_count": 116,
     "metadata": {},
     "output_type": "execute_result"
    }
   ],
   "source": [
    "Wallet.update({'is_active':'True'})\n",
    "Wallet"
   ]
  },
  {
   "cell_type": "code",
   "execution_count": 117,
   "id": "87d86762",
   "metadata": {},
   "outputs": [
    {
     "data": {
      "text/plain": [
       "{'Address': '0xABC', 'Balance': 5.4, 'balance': 700}"
      ]
     },
     "execution_count": 117,
     "metadata": {},
     "output_type": "execute_result"
    }
   ],
   "source": [
    "Wallet.pop('is_active') # .pop is used to remove by key\n",
    "Wallet"
   ]
  }
 ],
 "metadata": {
  "kernelspec": {
   "display_name": "PythonTut",
   "language": "python",
   "name": "python3"
  },
  "language_info": {
   "codemirror_mode": {
    "name": "ipython",
    "version": 3
   },
   "file_extension": ".py",
   "mimetype": "text/x-python",
   "name": "python",
   "nbconvert_exporter": "python",
   "pygments_lexer": "ipython3",
   "version": "3.13.1"
  }
 },
 "nbformat": 4,
 "nbformat_minor": 5
}
