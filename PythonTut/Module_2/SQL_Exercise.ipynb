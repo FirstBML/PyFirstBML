{
 "cells": [
  {
   "cell_type": "markdown",
   "id": "76d25b13",
   "metadata": {},
   "source": [
    "### SQL in Python Excercise"
   ]
  },
  {
   "cell_type": "code",
   "execution_count": 3,
   "id": "1d19d034",
   "metadata": {},
   "outputs": [],
   "source": [
    "# <!-- \n",
    "# - \n",
    "#     - Create a notebook which does following:\n",
    "#         - Insert at least **3 different coins** into the `coins` table.\n",
    "#         - Insert **5 daily price records** for each coin into the `prices` table.\n",
    "#         - Create a business question (what is the average price for each coin? what is the highest price for each coin?)\n",
    "#         - Write an SQL query to solve the business question -->"
   ]
  },
  {
   "cell_type": "markdown",
   "id": "07ef659e",
   "metadata": {},
   "source": [
    "### Create new Database and Tables"
   ]
  },
  {
   "cell_type": "code",
   "execution_count": 4,
   "id": "ea19014f",
   "metadata": {},
   "outputs": [],
   "source": [
    "import sqlite3\n",
    "# create a new database\n",
    "with sqlite3.connect(\"crypto2.db\") as conn:\n",
    "    cursor = conn.cursor()\n",
    "# create a new table named coins\n",
    "    cursor.execute(\"\"\"\n",
    "    CREATE TABLE IF NOT EXISTS coins (\n",
    "        Coin_id INTEGER PRIMARY KEY AUTOINCREMENT,\n",
    "        name TEXT NOT NULL,\n",
    "        symbol TEXT NOT NULL UNIQUE\n",
    "    )\n",
    "    \"\"\")\n",
    "\n",
    "    # create a new table named prices\n",
    "    cursor.execute(\"\"\"\n",
    "    CREATE TABLE IF NOT EXISTS prices (\n",
    "        Price_id INTEGER PRIMARY KEY AUTOINCREMENT,\n",
    "        coin_id INTEGER,\n",
    "        price REAL,\n",
    "        date DATE,\n",
    "        FOREIGN KEY (coin_id) REFERENCES coins (Coin_id)\n",
    "    )\n",
    "    \"\"\")"
   ]
  },
  {
   "cell_type": "markdown",
   "id": "d4c9fb9a",
   "metadata": {},
   "source": [
    "### Insert at least **3 different coins** into the `coins` table."
   ]
  },
  {
   "cell_type": "code",
   "execution_count": 5,
   "id": "f63b5e92",
   "metadata": {},
   "outputs": [
    {
     "name": "stdout",
     "output_type": "stream",
     "text": [
      "   Coin_id      Name Symbol\n",
      "0        1   Bitcoin    BTC\n",
      "1        2  Ethereum    ETH\n",
      "2        3    Ripple    XRP\n"
     ]
    }
   ],
   "source": [
    "# Insert at least **3 different coins** into the `coins` table.\n",
    "data_coins = [\n",
    "    ('Bitcoin', 'BTC'),\n",
    "    ('Ethereum', 'ETH'),\n",
    "    ('Ripple', 'XRP')\n",
    "]\n",
    "with sqlite3.connect(\"crypto2.db\") as conn:\n",
    "    cursor = conn.cursor()\n",
    "\n",
    "# Insert coins into the coins table\n",
    "    cursor.executemany(\"INSERT OR IGNORE INTO coins (name, symbol) VALUES (?, ?)\", data_coins)\n",
    "\n",
    "# select all coins\n",
    "    cursor.execute(\"SELECT * FROM coins\")\n",
    "    coins = cursor.fetchall()\n",
    "\n",
    "# convert to pandas dataframe\n",
    "import pandas as pd\n",
    "df_coins = pd.DataFrame(coins, columns=['Coin_id', 'Name', 'Symbol'])\n",
    "print(df_coins)"
   ]
  },
  {
   "cell_type": "markdown",
   "id": "01a0c721",
   "metadata": {},
   "source": [
    "### Insert **5 daily price records** for each coin into the `prices` table."
   ]
  },
  {
   "cell_type": "code",
   "execution_count": 6,
   "id": "03f46200",
   "metadata": {},
   "outputs": [
    {
     "name": "stdout",
     "output_type": "stream",
     "text": [
      "   Price_id  Coin_id    Price        Date\n",
      "0         1        1  50000.0  2023-10-01\n",
      "1         2        1  51000.0  2023-10-02\n",
      "2         3        1  52000.0  2023-10-03\n",
      "3         4        1  53000.0  2023-10-04\n",
      "4         5        1  54000.0  2023-10-05\n"
     ]
    }
   ],
   "source": [
    "# Insert **5 daily price records** for each coin into the `prices` table.\n",
    "data_prices = [\n",
    "    (1, 50000.0, '2023-10-01'),\n",
    "    (1, 51000.0, '2023-10-02'),\n",
    "    (1, 52000.0, '2023-10-03'),\n",
    "    (1, 53000.0, '2023-10-04'),\n",
    "    (1, 54000.0, '2023-10-05'),\n",
    "    (2, 3000.0, '2023-10-01'),\n",
    "    (2, 3100.0, '2023-10-02'),\n",
    "    (2, 3200.0, '2023-10-03'),\n",
    "    (2, 3300.0, '2023-10-04'),\n",
    "    (2, 3400.0, '2023-10-05'),\n",
    "    (3, 1.0, '2023-10-01'),\n",
    "    (3, 1.1, '2023-10-02'),\n",
    "    (3, 1.2, '2023-10-03'),\n",
    "    (3, 1.3, '2023-10-04'),\n",
    "    (3, 1.4, '2023-10-05')\n",
    "]\n",
    "with sqlite3.connect(\"crypto2.db\") as conn:\n",
    "    cursor = conn.cursor()\n",
    "    cursor.executemany(\"INSERT INTO prices (coin_id, price, date) VALUES (?, ?, ?)\", data_prices)\n",
    "\n",
    "# select all prices\n",
    "    cursor.execute(\"SELECT * FROM prices\")\n",
    "    prices = cursor.fetchall()\n",
    "   \n",
    "# convert to pandas dataframe\n",
    "df_prices = pd.DataFrame(prices, columns=['Price_id', 'Coin_id', 'Price', 'Date'])\n",
    "print(df_prices.head())\n"
   ]
  },
  {
   "cell_type": "markdown",
   "id": "4fff1497",
   "metadata": {},
   "source": [
    "### Join the coins and prices tables"
   ]
  },
  {
   "cell_type": "code",
   "execution_count": null,
   "id": "2eaab9ea",
   "metadata": {},
   "outputs": [
    {
     "name": "stdout",
     "output_type": "stream",
     "text": [
      "       Coin  Average Price\n",
      "0   Bitcoin        52000.0\n",
      "1  Ethereum         3200.0\n",
      "2    Ripple            1.2\n"
     ]
    }
   ],
   "source": [
    "# Join the coins and prices tables\n",
    "\n",
    "merged_df = pd.merge(df_coins, df_prices, on='Coin_id')\n",
    "\n",
    "# Business Question: What is the average price for each coin?\n",
    "\n",
    "cursor.execute(\"\"\"\n",
    "SELECT c.name, AVG(p.price) as average_price\n",
    "FROM coins c\n",
    "JOIN prices p ON c.coin_id = p.coin_id\n",
    "GROUP BY c.name\n",
    "\"\"\")\n",
    "\n",
    "average_prices = cursor.fetchall()\n",
    "# convert to pandas dataframe\n",
    "df_average = pd.DataFrame(average_prices, columns=['Coin', 'Average Price'])\n",
    "print(df_average)"
   ]
  },
  {
   "cell_type": "markdown",
   "id": "a0127a7c",
   "metadata": {},
   "source": [
    "### What is the highest price for each coin"
   ]
  },
  {
   "cell_type": "code",
   "execution_count": 12,
   "id": "c5997352",
   "metadata": {},
   "outputs": [
    {
     "name": "stdout",
     "output_type": "stream",
     "text": [
      "       Coin  Highest Price\n",
      "0   Bitcoin        54000.0\n",
      "1  Ethereum         3400.0\n",
      "2    Ripple            1.4\n"
     ]
    }
   ],
   "source": [
    "# what is the highest price for each coin\n",
    "\n",
    "cursor.execute(\"\"\"\n",
    "SELECT c.name, MAX(p.price) as highest_price\n",
    "FROM coins c\n",
    "JOIN prices p ON c.coin_id = p.coin_id\n",
    "GROUP BY c.name\n",
    "\"\"\")\n",
    "\n",
    "highest_prices = cursor.fetchall()\n",
    "# convert to pandas dataframe\n",
    "df_highest = pd.DataFrame(highest_prices, columns=['Coin', 'Highest Price'])\n",
    "print(df_highest)"
   ]
  }
 ],
 "metadata": {
  "kernelspec": {
   "display_name": "Python 3",
   "language": "python",
   "name": "python3"
  },
  "language_info": {
   "codemirror_mode": {
    "name": "ipython",
    "version": 3
   },
   "file_extension": ".py",
   "mimetype": "text/x-python",
   "name": "python",
   "nbconvert_exporter": "python",
   "pygments_lexer": "ipython3",
   "version": "3.13.1"
  }
 },
 "nbformat": 4,
 "nbformat_minor": 5
}
