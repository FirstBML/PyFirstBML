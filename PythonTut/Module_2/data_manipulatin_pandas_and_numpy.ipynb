{
 "cells": [
  {
   "cell_type": "markdown",
   "id": "4ed378c3",
   "metadata": {},
   "source": [
    "### Data Manipulation with Pandas and NumPy\n",
    "#### Data manipulation is the process of changing, organizing, or transforming data to make it more useful, readable, or suitable for analysis. It involves tasks like cleaning, filtering, sorting, grouping, or calculating new values from existing data.\n",
    "\n",
    "#### Tools like Pandas and NumPy, popular Python libraries, are often used to streamline these tasks. Pandas excels at handling structured data, like tables of crypto trades, for filtering or grouping, while NumPy supports fast numerical computations, such as calculating average prices or returns.\n",
    "\n",
    "#### For instance, a crypto investor might manipulate data by filtering trades to show only Bitcoin transactions over $5,000, sorting them by timestamp to track price movements, and aggregating daily totals to assess trading volume. This helps uncover trends, optimize strategies, and ensure data accuracy, ultimately supporting better decisions in the fast-paced crypto market.\n",
    "\n",
    "### Pandas\n",
    "#### Pandas is a popular Python library used for working with data. It helps you load, clean, analyze, and manipulate data easily. Think of it like an Excel spreadsheet in Python! It’s great for handling tables of data.\n",
    "\n",
    "### Key Concepts\n",
    "#### Series: A single column of data (like a list with labels).\n",
    "\n",
    "#### Index: Labels for rows, helping you identify and access data.\n",
    "\n",
    "#### You can load data from files (CSV, Excel, etc.), manipulate it, and save it back.\n",
    "\n"
   ]
  },
  {
   "cell_type": "markdown",
   "id": "69a9aaf6",
   "metadata": {},
   "source": [
    "#### Installing / Importing Pandas"
   ]
  },
  {
   "cell_type": "code",
   "execution_count": 1,
   "id": "570ef9ad",
   "metadata": {},
   "outputs": [],
   "source": [
    "import pandas as pd"
   ]
  },
  {
   "cell_type": "code",
   "execution_count": 2,
   "id": "7b4eb94a",
   "metadata": {},
   "outputs": [
    {
     "name": "stdout",
     "output_type": "stream",
     "text": [
      "c:\\Users\\g\\OneDrive\\Documents\\OxPython\\Module\\PythonTut\\Scripts\\python.exe\n",
      "C:\\Users\\g\\AppData\\Local\\Programs\\Python\\Python313\\python.exe\n",
      "C:\\Users\\g\\AppData\\Local\\Microsoft\\WindowsApps\\python.exe\n"
     ]
    },
    {
     "name": "stderr",
     "output_type": "stream",
     "text": [
      "INFO: Could not find \"#\".\n",
      "INFO: Could not find \"Windows\".\n"
     ]
    }
   ],
   "source": [
    "!where python  # Windows\n"
   ]
  },
  {
   "cell_type": "code",
   "execution_count": 2,
   "id": "68c0293b",
   "metadata": {},
   "outputs": [
    {
     "name": "stderr",
     "output_type": "stream",
     "text": [
      "The system cannot find the path specified.\n"
     ]
    }
   ],
   "source": [
    "!c:\\Users\\g\\Desktop\\OxPython\\Module_1\\PythonTut\\Scripts\\python.exe -m pip install pandas\n"
   ]
  },
  {
   "cell_type": "code",
   "execution_count": 1,
   "id": "0008e3bd",
   "metadata": {},
   "outputs": [
    {
     "name": "stdout",
     "output_type": "stream",
     "text": [
      "2.3.1\n"
     ]
    }
   ],
   "source": [
    "import pandas as pd\n",
    "print(pd.__version__)\n"
   ]
  },
  {
   "cell_type": "markdown",
   "id": "761e4563",
   "metadata": {},
   "source": [
    "### Create a DataFrame\n",
    "#### A DataFrame is like a table with rows and columns. Let’s create one with sample cryptocurrency data (e.g., coin names, prices, and trade volumes).\n"
   ]
  },
  {
   "cell_type": "code",
   "execution_count": 5,
   "id": "aae879c6",
   "metadata": {},
   "outputs": [
    {
     "name": "stdout",
     "output_type": "stream",
     "text": [
      "       Coin     Price  Volume\n",
      "0   Bitcoin  45000.00   15000\n",
      "1  Ethereum   3000.00        \n",
      "2    Ripple      0.85  200000\n",
      "3  Litecoin    120.00   50000\n"
     ]
    }
   ],
   "source": [
    "# Create a dictionary with crypto data\n",
    "\n",
    "data = {\n",
    "    'Coin': ['Bitcoin', 'Ethereum', 'Ripple', 'Litecoin'],\n",
    "    'Price': [45000,3000, 0.85, 120],\n",
    "    'Volume': [15000, ' ', 200000, 50000]\n",
    "}\n",
    "\n",
    "df = pd.DataFrame(data)\n",
    "\n",
    "print(df)"
   ]
  },
  {
   "cell_type": "code",
   "execution_count": 6,
   "id": "3a7fcfac",
   "metadata": {},
   "outputs": [
    {
     "name": "stdout",
     "output_type": "stream",
     "text": [
      "       Coin    Price Volume\n",
      "0   Bitcoin  45000.0  15000\n",
      "1  Ethereum   3000.0       \n"
     ]
    }
   ],
   "source": [
    "print(df.head(2))"
   ]
  },
  {
   "cell_type": "code",
   "execution_count": 7,
   "id": "744a2f20",
   "metadata": {},
   "outputs": [
    {
     "name": "stdout",
     "output_type": "stream",
     "text": [
      "       Coin    Price  Volume\n",
      "1  Ethereum  3000.00        \n",
      "2    Ripple     0.85  200000\n",
      "3  Litecoin   120.00   50000\n"
     ]
    }
   ],
   "source": [
    "print(df.tail(3))"
   ]
  },
  {
   "cell_type": "code",
   "execution_count": 8,
   "id": "29e1ece7",
   "metadata": {},
   "outputs": [
    {
     "name": "stdout",
     "output_type": "stream",
     "text": [
      "<class 'pandas.core.frame.DataFrame'>\n",
      "RangeIndex: 4 entries, 0 to 3\n",
      "Data columns (total 3 columns):\n",
      " #   Column  Non-Null Count  Dtype  \n",
      "---  ------  --------------  -----  \n",
      " 0   Coin    4 non-null      object \n",
      " 1   Price   4 non-null      float64\n",
      " 2   Volume  4 non-null      object \n",
      "dtypes: float64(1), object(2)\n",
      "memory usage: 228.0+ bytes\n",
      "None\n"
     ]
    }
   ],
   "source": [
    "# get info\n",
    "print(df.info()) "
   ]
  },
  {
   "cell_type": "markdown",
   "id": "ee77f02b",
   "metadata": {},
   "source": [
    "### Basic Data Manipulation"
   ]
  },
  {
   "cell_type": "code",
   "execution_count": 9,
   "id": "84c7cc9f",
   "metadata": {},
   "outputs": [
    {
     "name": "stdout",
     "output_type": "stream",
     "text": [
      "       Coin     Price\n",
      "0   Bitcoin  45000.00\n",
      "1  Ethereum   3000.00\n",
      "2    Ripple      0.85\n",
      "3  Litecoin    120.00\n"
     ]
    }
   ],
   "source": [
    "\n",
    "# select a specific column\n",
    "\n",
    "print(df[['Coin', 'Price']])"
   ]
  },
  {
   "cell_type": "markdown",
   "id": "9d230043",
   "metadata": {},
   "source": [
    "### Filter Rows"
   ]
  },
  {
   "cell_type": "code",
   "execution_count": 10,
   "id": "0db5a4a0",
   "metadata": {},
   "outputs": [
    {
     "name": "stdout",
     "output_type": "stream",
     "text": [
      "       Coin    Price Volume\n",
      "0   Bitcoin  45000.0  15000\n",
      "1  Ethereum   3000.0       \n",
      "3  Litecoin    120.0  50000\n"
     ]
    }
   ],
   "source": [
    "# filter out coin information where price is greater than 100\n",
    "print(df[df['Price']>100])"
   ]
  },
  {
   "cell_type": "markdown",
   "id": "da375c9d",
   "metadata": {},
   "source": [
    "### Sort Data\n",
    "#### Sort by a column like price in ascending or descending order"
   ]
  },
  {
   "cell_type": "code",
   "execution_count": 11,
   "id": "f2a1cc50",
   "metadata": {},
   "outputs": [
    {
     "name": "stdout",
     "output_type": "stream",
     "text": [
      "       Coin     Price  Volume\n",
      "2    Ripple      0.85  200000\n",
      "3  Litecoin    120.00   50000\n",
      "1  Ethereum   3000.00        \n",
      "0   Bitcoin  45000.00   15000\n"
     ]
    }
   ],
   "source": [
    "# Sort coin info by price's ascending order\n",
    "print(df.sort_values('Price'))"
   ]
  },
  {
   "cell_type": "code",
   "execution_count": 12,
   "id": "fef2404b",
   "metadata": {},
   "outputs": [
    {
     "name": "stdout",
     "output_type": "stream",
     "text": [
      "       Coin     Price  Volume\n",
      "0   Bitcoin  45000.00   15000\n",
      "1  Ethereum   3000.00        \n",
      "3  Litecoin    120.00   50000\n",
      "2    Ripple      0.85  200000\n"
     ]
    }
   ],
   "source": [
    "# Sort coin info by price's descending order\n",
    "print(df.sort_values('Price', ascending = False))"
   ]
  },
  {
   "cell_type": "markdown",
   "id": "4de2d38a",
   "metadata": {},
   "source": [
    "### Add new column"
   ]
  },
  {
   "cell_type": "code",
   "execution_count": 13,
   "id": "3072f11f",
   "metadata": {},
   "outputs": [
    {
     "name": "stdout",
     "output_type": "stream",
     "text": [
      "       Coin     Price  Volume  price_after_2%\n",
      "0   Bitcoin  45000.00   15000       45900.000\n",
      "1  Ethereum   3000.00                3060.000\n",
      "2    Ripple      0.85  200000           0.867\n",
      "3  Litecoin    120.00   50000         122.400\n"
     ]
    }
   ],
   "source": [
    "df['price_after_2%'] = df['Price'] * 1.02\n",
    "print(df)"
   ]
  },
  {
   "cell_type": "code",
   "execution_count": 14,
   "id": "2ebdadd2",
   "metadata": {},
   "outputs": [
    {
     "data": {
      "text/plain": [
       "<bound method NDFrame.describe of        Coin     Price  Volume  price_after_2%\n",
       "0   Bitcoin  45000.00   15000       45900.000\n",
       "1  Ethereum   3000.00                3060.000\n",
       "2    Ripple      0.85  200000           0.867\n",
       "3  Litecoin    120.00   50000         122.400>"
      ]
     },
     "execution_count": 14,
     "metadata": {},
     "output_type": "execute_result"
    }
   ],
   "source": [
    "df.describe"
   ]
  },
  {
   "cell_type": "code",
   "execution_count": 15,
   "id": "8dbf9fc6",
   "metadata": {},
   "outputs": [
    {
     "data": {
      "text/html": [
       "<div>\n",
       "<style scoped>\n",
       "    .dataframe tbody tr th:only-of-type {\n",
       "        vertical-align: middle;\n",
       "    }\n",
       "\n",
       "    .dataframe tbody tr th {\n",
       "        vertical-align: top;\n",
       "    }\n",
       "\n",
       "    .dataframe thead th {\n",
       "        text-align: right;\n",
       "    }\n",
       "</style>\n",
       "<table border=\"1\" class=\"dataframe\">\n",
       "  <thead>\n",
       "    <tr style=\"text-align: right;\">\n",
       "      <th></th>\n",
       "      <th>Price</th>\n",
       "      <th>price_after_2%</th>\n",
       "    </tr>\n",
       "  </thead>\n",
       "  <tbody>\n",
       "    <tr>\n",
       "      <th>count</th>\n",
       "      <td>4.000000</td>\n",
       "      <td>4.000000</td>\n",
       "    </tr>\n",
       "    <tr>\n",
       "      <th>mean</th>\n",
       "      <td>12030.212500</td>\n",
       "      <td>12270.816750</td>\n",
       "    </tr>\n",
       "    <tr>\n",
       "      <th>std</th>\n",
       "      <td>22023.550649</td>\n",
       "      <td>22464.021662</td>\n",
       "    </tr>\n",
       "    <tr>\n",
       "      <th>min</th>\n",
       "      <td>0.850000</td>\n",
       "      <td>0.867000</td>\n",
       "    </tr>\n",
       "    <tr>\n",
       "      <th>25%</th>\n",
       "      <td>90.212500</td>\n",
       "      <td>92.016750</td>\n",
       "    </tr>\n",
       "    <tr>\n",
       "      <th>50%</th>\n",
       "      <td>1560.000000</td>\n",
       "      <td>1591.200000</td>\n",
       "    </tr>\n",
       "    <tr>\n",
       "      <th>75%</th>\n",
       "      <td>13500.000000</td>\n",
       "      <td>13770.000000</td>\n",
       "    </tr>\n",
       "    <tr>\n",
       "      <th>max</th>\n",
       "      <td>45000.000000</td>\n",
       "      <td>45900.000000</td>\n",
       "    </tr>\n",
       "  </tbody>\n",
       "</table>\n",
       "</div>"
      ],
      "text/plain": [
       "              Price  price_after_2%\n",
       "count      4.000000        4.000000\n",
       "mean   12030.212500    12270.816750\n",
       "std    22023.550649    22464.021662\n",
       "min        0.850000        0.867000\n",
       "25%       90.212500       92.016750\n",
       "50%     1560.000000     1591.200000\n",
       "75%    13500.000000    13770.000000\n",
       "max    45000.000000    45900.000000"
      ]
     },
     "execution_count": 15,
     "metadata": {},
     "output_type": "execute_result"
    }
   ],
   "source": [
    "df.describe()"
   ]
  },
  {
   "cell_type": "code",
   "execution_count": 16,
   "id": "8b0085f9",
   "metadata": {},
   "outputs": [],
   "source": [
    "df.to_csv('CryptoData.csv', index=False)"
   ]
  },
  {
   "cell_type": "markdown",
   "id": "c0d8762d",
   "metadata": {},
   "source": [
    "### Numpy\n",
    "####  NumPy is a powerful Python library for numerical computations, especially useful for working with arrays (lists of numbers) and performing fast mathematical operations. It’s a foundation for data manipulation, often used alongside Pandas, and is great for tasks like calculations, statistics, and handling crypto-related data. Below, I’ll walk you through the basics step by step—installing NumPy, creating arrays, and performing common operations with simple code. This is beginner-friendly and straightforward.\n",
    "\n",
    "#### Installing and Importing Numpy"
   ]
  },
  {
   "cell_type": "code",
   "execution_count": null,
   "id": "e55b9627",
   "metadata": {},
   "outputs": [],
   "source": [
    "import numpy as np"
   ]
  },
  {
   "cell_type": "markdown",
   "id": "956f1ffa",
   "metadata": {},
   "source": [
    "### Create a Numpy Array\n",
    "#### A NumPy array is like a list but optimized for math and faster operations. Let’s create arrays with sample cryptocurrency data (e.g., coin prices and trade volumes)."
   ]
  },
  {
   "cell_type": "code",
   "execution_count": 18,
   "id": "10343441",
   "metadata": {},
   "outputs": [
    {
     "name": "stdout",
     "output_type": "stream",
     "text": [
      "[ 4000 23000 42990 90200]\n"
     ]
    }
   ],
   "source": [
    "prices = np.array([ 4000, 23000, 42990, 90200])\n",
    "print(prices)"
   ]
  },
  {
   "cell_type": "code",
   "execution_count": 19,
   "id": "8d64046d",
   "metadata": {},
   "outputs": [
    {
     "name": "stdout",
     "output_type": "stream",
     "text": [
      "(4,)\n"
     ]
    }
   ],
   "source": [
    "# prints the shape (i.e., number of rows and columns) of a pandas DataFrame or a NumPy array.\n",
    "print(prices.shape)"
   ]
  },
  {
   "cell_type": "code",
   "execution_count": 20,
   "id": "bfb9a1fe",
   "metadata": {},
   "outputs": [
    {
     "name": "stdout",
     "output_type": "stream",
     "text": [
      "int64\n"
     ]
    }
   ],
   "source": [
    "print(prices.dtype)\n",
    "\n"
   ]
  },
  {
   "cell_type": "code",
   "execution_count": 28,
   "id": "9387ce3e",
   "metadata": {},
   "outputs": [
    {
     "name": "stdout",
     "output_type": "stream",
     "text": [
      "[ 4000 23000 42990 90200]\n"
     ]
    }
   ],
   "source": [
    "print(prices)"
   ]
  },
  {
   "cell_type": "markdown",
   "id": "c6af9e90",
   "metadata": {},
   "source": [
    "### Basic Data Manipulation"
   ]
  },
  {
   "cell_type": "code",
   "execution_count": 21,
   "id": "73b68dd2",
   "metadata": {},
   "outputs": [
    {
     "name": "stdout",
     "output_type": "stream",
     "text": [
      "[ 5000 24000 43990 91200]\n"
     ]
    }
   ],
   "source": [
    "# Add 1000 to all prices\n",
    "price_plus_100 = prices + 1000\n",
    "print(price_plus_100)"
   ]
  },
  {
   "cell_type": "code",
   "execution_count": 22,
   "id": "2cba84a1",
   "metadata": {},
   "outputs": [
    {
     "name": "stdout",
     "output_type": "stream",
     "text": [
      "[  7500.  36000.  65985. 136800.]\n"
     ]
    }
   ],
   "source": [
    "pricesS = np.array([ 5000, 24000, 43990, 91200])\n",
    "PricesS_Multi = pricesS + (pricesS*(50)/100)\n",
    "print(PricesS_Multi)"
   ]
  },
  {
   "cell_type": "code",
   "execution_count": 23,
   "id": "5f34f68e",
   "metadata": {},
   "outputs": [
    {
     "name": "stdout",
     "output_type": "stream",
     "text": [
      "[ 36000.  65985. 136800.]\n"
     ]
    }
   ],
   "source": [
    "# Filter data\n",
    "Prices_Higher = PricesS_Multi[PricesS_Multi > 30000]\n",
    "print(Prices_Higher)"
   ]
  },
  {
   "cell_type": "markdown",
   "id": "140c72c8",
   "metadata": {},
   "source": [
    "### Basic Statistical Functions"
   ]
  },
  {
   "cell_type": "code",
   "execution_count": 24,
   "id": "42651b6c",
   "metadata": {},
   "outputs": [
    {
     "name": "stdout",
     "output_type": "stream",
     "text": [
      "\n",
      "Statisctic Summary\n",
      "Mean: 56250.0\n",
      "Maximum: 70000\n",
      "Mininum: 40000\n",
      "Total: 225000\n",
      "volatility: 11924.24001771182\n"
     ]
    }
   ],
   "source": [
    "volume = np.array([40000,70000,50000,65000])\n",
    "print('\\nStatisctic Summary')\n",
    "print('Mean:', np.mean(volume))\n",
    "print('Maximum:', np.max(volume))\n",
    "print('Mininum:', np.min(volume))\n",
    "print('Total:', np.sum(volume))\n",
    "print('volatility:', np.std(volume))"
   ]
  },
  {
   "cell_type": "markdown",
   "id": "6f088b08",
   "metadata": {},
   "source": [
    "### Work with 2D Arrays\n",
    "#### NumPy can handle multi-dimensional arrays. Let’s combine our data into a 2D array (like a table)."
   ]
  },
  {
   "cell_type": "code",
   "execution_count": 25,
   "id": "b52fa4f9",
   "metadata": {},
   "outputs": [
    {
     "name": "stdout",
     "output_type": "stream",
     "text": [
      "[[ 60000  30000]\n",
      " [ 40000  10000]\n",
      " [ 70000 340000]]\n"
     ]
    }
   ],
   "source": [
    "# create 2D array\n",
    "crypto_data = np.array ([\n",
    "    [60000, 30000],\n",
    "    [40000, 10000],\n",
    "    [70000, 340000]\n",
    "])\n",
    "print(crypto_data)"
   ]
  },
  {
   "cell_type": "code",
   "execution_count": 26,
   "id": "7ede194f",
   "metadata": {},
   "outputs": [
    {
     "data": {
      "text/plain": [
       "array([ 70000, 340000])"
      ]
     },
     "execution_count": 26,
     "metadata": {},
     "output_type": "execute_result"
    }
   ],
   "source": [
    "# Access row\n",
    "crypto_data[2]"
   ]
  },
  {
   "cell_type": "code",
   "execution_count": 27,
   "id": "481f6567",
   "metadata": {},
   "outputs": [
    {
     "data": {
      "text/plain": [
       "array([ 30000,  10000, 340000])"
      ]
     },
     "execution_count": 27,
     "metadata": {},
     "output_type": "execute_result"
    }
   ],
   "source": [
    "# Access column\n",
    "crypto_data[:,1]"
   ]
  },
  {
   "cell_type": "markdown",
   "id": "8b97bb84",
   "metadata": {},
   "source": []
  }
 ],
 "metadata": {
  "kernelspec": {
   "display_name": "PythonTut",
   "language": "python",
   "name": "python3"
  },
  "language_info": {
   "codemirror_mode": {
    "name": "ipython",
    "version": 3
   },
   "file_extension": ".py",
   "mimetype": "text/x-python",
   "name": "python",
   "nbconvert_exporter": "python",
   "pygments_lexer": "ipython3",
   "version": "3.13.1"
  }
 },
 "nbformat": 4,
 "nbformat_minor": 5
}
