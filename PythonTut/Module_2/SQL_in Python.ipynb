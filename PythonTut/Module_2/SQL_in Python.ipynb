{
 "cells": [
  {
   "cell_type": "code",
   "execution_count": 3,
   "id": "0adfce2c",
   "metadata": {},
   "outputs": [
    {
     "name": "stdout",
     "output_type": "stream",
     "text": [
      "Database file deleted.\n"
     ]
    }
   ],
   "source": [
    "\n",
    "import sqlite3\n",
    "import os\n",
    "\n",
    "db_path = \"crypto.db\"\n",
    "\n",
    "if os.path.exists(db_path):\n",
    "    os.remove(db_path)\n",
    "    print(\"Database file deleted.\")\n",
    "else:\n",
    "    print(\"Database file does not exist.\")\n",
    "# Create or connect to a database file\n",
    "conn = sqlite3.connect(db_path)\n",
    "\n",
    "# Create a cursor object to execute SQL commands\n",
    "cursor = conn.cursor()"
   ]
  },
  {
   "cell_type": "code",
   "execution_count": 4,
   "id": "3adfbe55",
   "metadata": {},
   "outputs": [
    {
     "name": "stdout",
     "output_type": "stream",
     "text": [
      "Table 'coins' created successfully.\n"
     ]
    }
   ],
   "source": [
    "# Create a table\n",
    "cursor.execute(\"\"\"\n",
    "CREATE TABLE IF NOT EXISTS coins (\n",
    "    id INTEGER PRIMARY KEY AUTOINCREMENT,\n",
    "    name TEXT NOT NULL,\n",
    "    symbol TEXT NOT NULL,\n",
    "    price REAL,\n",
    "    market_cap REAL,\n",
    "    last_updated TIMESTAMP DEFAULT CURRENT_TIMESTAMP\n",
    ")\n",
    "\"\"\")\n",
    "\n",
    "# Save (commit) the changes\n",
    "conn.commit()\n",
    "print(\"Table 'coins' created successfully.\")"
   ]
  },
  {
   "cell_type": "code",
   "execution_count": 5,
   "id": "cb354a4f",
   "metadata": {},
   "outputs": [],
   "source": [
    "# inserting single record\n",
    "cursor.execute(\"\"\"\n",
    "INSERT INTO coins (name, symbol, price, market_cap)\n",
    "VALUES ('Bitcoin', 'BTC', 50000, 1000000000)\n",
    "\"\"\")\n",
    "\n",
    "# insert multiple records\n",
    "cursor.executemany(\"\"\"\n",
    "INSERT INTO coins (name, symbol, price, market_cap)\n",
    "VALUES (?, ?, ?, ?)\n",
    "\"\"\", [\n",
    "    ('Ethereum', 'ETH', 4000, 500000000),\n",
    "    ('Ripple', 'XRP', 1, 50000000),\n",
    "    ('Litecoin', 'LTC', 200, 100000000)\n",
    "])\n",
    "conn.commit()\n",
    "\n"
   ]
  },
  {
   "cell_type": "code",
   "execution_count": 6,
   "id": "52793076",
   "metadata": {},
   "outputs": [
    {
     "name": "stdout",
     "output_type": "stream",
     "text": [
      "All coins: [(1, 'Bitcoin', 'BTC', 50000.0, 1000000000.0, '2025-08-13 18:59:00'), (2, 'Ethereum', 'ETH', 4000.0, 500000000.0, '2025-08-13 18:59:00'), (3, 'Ripple', 'XRP', 1.0, 50000000.0, '2025-08-13 18:59:00'), (4, 'Litecoin', 'LTC', 200.0, 100000000.0, '2025-08-13 18:59:00')]\n",
      "Bitcoin data: (1, 'Bitcoin', 'BTC', 50000.0, 1000000000.0, '2025-08-13 18:59:00')\n",
      "Expensive coins: [('Bitcoin', 50000.0), ('Ethereum', 4000.0), ('Litecoin', 200.0)]\n"
     ]
    }
   ],
   "source": [
    "# Get all coins\n",
    "cursor.execute(\"SELECT * FROM coins\")\n",
    "all_coins = cursor.fetchall()  # Get all results as a list of tuples\n",
    "print(\"All coins:\", all_coins)\n",
    "\n",
    "# Get one coin\n",
    "cursor.execute(\"SELECT * FROM coins WHERE symbol = 'BTC'\")\n",
    "bitcoin = cursor.fetchone()  # Get just the first result\n",
    "print(\"Bitcoin data:\", bitcoin)\n",
    "\n",
    "# get a specific column with a condition\n",
    "cursor.execute(\"SELECT name, price FROM coins WHERE price > 100\")\n",
    "expensive_coins = cursor.fetchall()\n",
    "print(\"Expensive coins:\", expensive_coins)\n"
   ]
  },
  {
   "cell_type": "code",
   "execution_count": 7,
   "id": "093a90af",
   "metadata": {},
   "outputs": [
    {
     "name": "stdout",
     "output_type": "stream",
     "text": [
      "Expensive coins: [('Bitcoin', 50000.0), ('Ethereum', 4000.0), ('Litecoin', 200.0)]\n"
     ]
    }
   ],
   "source": [
    "# Get specific columns with a condition\n",
    "cursor.execute(\"SELECT name, price FROM coins WHERE price > 100\")\n",
    "expensive_coins = cursor.fetchall()\n",
    "print(\"Expensive coins:\", expensive_coins)\n"
   ]
  },
  {
   "cell_type": "code",
   "execution_count": 8,
   "id": "d11b2d6a",
   "metadata": {},
   "outputs": [],
   "source": [
    "# Update bitcoin price\n",
    "cursor.execute(\"UPDATE coins SET price = 51000 WHERE symbol = 'BTC'\")\n",
    "conn.commit()\n",
    "\n",
    "\n",
    "# Delete cheap coins\n",
    "cursor.execute(\"DELETE FROM coins WHERE price < 2\")\n",
    "conn.commit()"
   ]
  },
  {
   "cell_type": "markdown",
   "id": "7f6bb5be",
   "metadata": {},
   "source": [
    "### Using Context Manager (Best Pratice)"
   ]
  },
  {
   "cell_type": "code",
   "execution_count": 9,
   "id": "4e5c20f9",
   "metadata": {},
   "outputs": [
    {
     "name": "stdout",
     "output_type": "stream",
     "text": [
      "[(1, 'Bitcoin', 'BTC', 51000.0, 1000000000.0, '2025-08-13 18:59:00'), (2, 'Ethereum', 'ETH', 4000.0, 500000000.0, '2025-08-13 18:59:00'), (4, 'Litecoin', 'LTC', 200.0, 100000000.0, '2025-08-13 18:59:00')]\n"
     ]
    }
   ],
   "source": [
    "# This automatically handles opening and closing the connection\n",
    "with sqlite3.connect(db_path) as conn:\n",
    "    cursor = conn.cursor()\n",
    "    cursor.execute(\"SELECT * FROM coins\")\n",
    "    print(cursor.fetchall())\n",
    "    # No need to manually close - it's handled by the 'with' block"
   ]
  },
  {
   "cell_type": "code",
   "execution_count": 10,
   "id": "5fc3604c",
   "metadata": {},
   "outputs": [
    {
     "name": "stdout",
     "output_type": "stream",
     "text": [
      "DataFrame from SQL:\n",
      "   id      name symbol    price    market_cap         last_updated\n",
      "0   1   Bitcoin    BTC  51000.0  1.000000e+09  2025-08-13 18:59:00\n",
      "1   2  Ethereum    ETH   4000.0  5.000000e+08  2025-08-13 18:59:00\n",
      "2   4  Litecoin    LTC    200.0  1.000000e+08  2025-08-13 18:59:00\n"
     ]
    }
   ],
   "source": [
    "import pandas as pd\n",
    "\n",
    "with sqlite3.connect(db_path) as conn:\n",
    "    # Read SQL query directly into a DataFrame\n",
    "    df = pd.read_sql(\"SELECT * FROM coins\", conn)\n",
    "    \n",
    "print(\"DataFrame from SQL:\")\n",
    "print(df.head())"
   ]
  },
  {
   "cell_type": "code",
   "execution_count": 11,
   "id": "652b3887",
   "metadata": {},
   "outputs": [
    {
     "name": "stdout",
     "output_type": "stream",
     "text": [
      "\n",
      "New coins table:\n",
      "       name symbol  price  market_cap\n",
      "0  Polkadot    DOT   7.50  7500000000\n",
      "1   Polygon  MATIC   0.75  5000000000\n"
     ]
    }
   ],
   "source": [
    "# Create a new DataFrame\n",
    "new_coins = pd.DataFrame({\n",
    "    'name': ['Polkadot', 'Polygon'],\n",
    "    'symbol': ['DOT', 'MATIC'],\n",
    "    'price': [7.5, 0.75],\n",
    "    'market_cap': [7500000000, 5000000000]\n",
    "})\n",
    "\n",
    "with sqlite3.connect(db_path) as conn:\n",
    "    # Write the DataFrame to a new SQL table\n",
    "    new_coins.to_sql(\"new_coins\", conn, index=False, if_exists='replace')\n",
    "    \n",
    "    # Verify it worked\n",
    "    df_new = pd.read_sql(\"SELECT * FROM new_coins\", conn)\n",
    "    print(\"\\nNew coins table:\")\n",
    "    print(df_new)"
   ]
  },
  {
   "cell_type": "code",
   "execution_count": 12,
   "id": "743dda52",
   "metadata": {},
   "outputs": [
    {
     "name": "stdout",
     "output_type": "stream",
     "text": [
      "\n",
      "Basic statistics:\n",
      "             id         price    market_cap\n",
      "count  3.000000      3.000000  3.000000e+00\n",
      "mean   2.333333  18400.000000  5.333333e+08\n",
      "std    1.527525  28296.289509  4.509250e+08\n",
      "min    1.000000    200.000000  1.000000e+08\n",
      "25%    1.500000   2100.000000  3.000000e+08\n",
      "50%    2.000000   4000.000000  5.000000e+08\n",
      "75%    3.000000  27500.000000  7.500000e+08\n",
      "max    4.000000  51000.000000  1.000000e+09\n",
      "\n",
      "Average price: 18400.0\n",
      "Total market cap: 1600000000.0\n",
      "\n",
      "Expensive coins:\n",
      "       name    price\n",
      "0   Bitcoin  51000.0\n",
      "1  Ethereum   4000.0\n",
      "2  Litecoin    200.0\n"
     ]
    }
   ],
   "source": [
    "with sqlite3.connect(db_path) as conn:\n",
    "    df = pd.read_sql(\"SELECT * FROM coins\", conn)\n",
    "\n",
    "# Now you can use all pandas operations\n",
    "print(\"\\nBasic statistics:\")\n",
    "print(df.describe())\n",
    "\n",
    "print(\"\\nAverage price:\", df['price'].mean())\n",
    "print(\"Total market cap:\", df['market_cap'].sum())\n",
    "\n",
    "# Filter with pandas\n",
    "expensive = df[df['price'] > 100]\n",
    "print(\"\\nExpensive coins:\")\n",
    "print(expensive[['name', 'price']])"
   ]
  },
  {
   "cell_type": "code",
   "execution_count": 14,
   "id": "0630106f",
   "metadata": {},
   "outputs": [],
   "source": [
    "with sqlite3.connect(db_path) as conn:\n",
    "    cursor = conn.cursor()\n",
    "# Create coins table\n",
    "    cursor.execute(\"DROP TABLE IF EXISTS coins\")\n",
    "    cursor.execute(\"\"\"\n",
    "    CREATE TABLE coins (\n",
    "        coin_id INTEGER PRIMARY KEY AUTOINCREMENT,\n",
    "        name TEXT NOT NULL,\n",
    "        symbol TEXT NOT NULL UNIQUE\n",
    "    )\n",
    "    \"\"\")\n",
    "\n",
    "\n",
    "# Create prices table with foreign key\n",
    "    cursor.execute(\"\"\"\n",
    "    CREATE TABLE IF NOT EXISTS prices (\n",
    "        price_id INTEGER PRIMARY KEY AUTOINCREMENT,\n",
    "        coin_id INTEGER NOT NULL,\n",
    "        price REAL NOT NULL,\n",
    "        date TIMESTAMP DEFAULT CURRENT_TIMESTAMP,\n",
    "        FOREIGN KEY (coin_id) REFERENCES coins (coin_id)\n",
    "    )\n",
    "    \"\"\")\n",
    "# Insert some data\n",
    "    cursor.execute(\"INSERT INTO coins (name, symbol) VALUES ('Bitcoin', 'BTC')\")\n",
    "    cursor.execute(\"INSERT INTO coins (name, symbol) VALUES ('Ethereum', 'ETH')\")\n",
    "# Get the auto-generated IDs\n",
    "    eth_id = cursor.lastrowid  # This would actually get ETH's ID - in real code you'd need to query for BTC's ID\n",
    "    btc_id = eth_id - 1\n",
    "\n",
    "# Insert price history\n",
    "    cursor.executemany(\"\"\"\n",
    "    INSERT INTO prices (coin_id, price)\n",
    "    VALUES (?, ?)\n",
    "    \"\"\", [\n",
    "        (btc_id, 50000),\n",
    "        (btc_id, 51000),\n",
    "        (eth_id, 3000),\n",
    "        (eth_id, 3100)\n",
    "    ])\n",
    "    \n",
    "    conn.commit()"
   ]
  },
  {
   "cell_type": "markdown",
   "id": "f7bbe343",
   "metadata": {},
   "source": [
    "#### - Inner join - keeps only rows that match in both tables\n",
    "#### - Left Join - **Keeps all rows from the left table**, and matches from the right table if available.\n",
    "#### - Right Join - **Keeps all rows from the right table**, matches from the left if available.\n",
    "#### - Full Outer Join - **Keeps all rows from both tables**, matching where possible."
   ]
  },
  {
   "cell_type": "code",
   "execution_count": 10,
   "id": "a89e48a2",
   "metadata": {},
   "outputs": [
    {
     "name": "stdout",
     "output_type": "stream",
     "text": [
      "\n",
      "Coin prices with join:\n",
      "       name symbol    price                 date\n",
      "0   Bitcoin    BTC  50000.0  2025-08-11 18:14:34\n",
      "1   Bitcoin    BTC  51000.0  2025-08-11 18:14:34\n",
      "2  Ethereum    ETH   3000.0  2025-08-11 18:14:34\n",
      "3  Ethereum    ETH   3100.0  2025-08-11 18:14:34\n"
     ]
    }
   ],
   "source": [
    "with sqlite3.connect(db_path) as conn:\n",
    "    # Simple inner join\n",
    "    df = pd.read_sql(\"\"\"\n",
    "    SELECT c.name, c.symbol, p.price, p.date\n",
    "    FROM coins c\n",
    "    INNER JOIN prices p ON c.coin_id = p.coin_id\n",
    "    ORDER BY p.date DESC\n",
    "    \"\"\", conn)\n",
    "    \n",
    "print(\"\\nCoin prices with join:\")\n",
    "print(df)"
   ]
  },
  {
   "cell_type": "code",
   "execution_count": 11,
   "id": "8e1584ed",
   "metadata": {},
   "outputs": [
    {
     "name": "stdout",
     "output_type": "stream",
     "text": [
      "\n",
      "All coins with prices (if available):\n",
      "       name symbol    price                 date\n",
      "0   Bitcoin    BTC  50000.0  2025-08-11 18:14:34\n",
      "1   Bitcoin    BTC  51000.0  2025-08-11 18:14:34\n",
      "2  Ethereum    ETH   3000.0  2025-08-11 18:14:34\n",
      "3  Ethereum    ETH   3100.0  2025-08-11 18:14:34\n"
     ]
    }
   ],
   "source": [
    "# Example of LEFT JOIN (get all coins even if they have no prices)\n",
    "with sqlite3.connect(db_path) as conn:\n",
    "    df = pd.read_sql(\"\"\"\n",
    "    SELECT c.name, c.symbol, p.price, p.date\n",
    "    FROM coins c\n",
    "    LEFT JOIN prices p ON c.coin_id = p.coin_id\n",
    "    \"\"\", conn)\n",
    "    \n",
    "print(\"\\nAll coins with prices (if available):\")\n",
    "print(df)"
   ]
  },
  {
   "cell_type": "markdown",
   "id": "58ee88fc",
   "metadata": {},
   "source": [
    "### Best Practices"
   ]
  },
  {
   "cell_type": "code",
   "execution_count": 12,
   "id": "b5ce7ec0",
   "metadata": {},
   "outputs": [
    {
     "name": "stdout",
     "output_type": "stream",
     "text": [
      "Indexes created.\n"
     ]
    }
   ],
   "source": [
    "# Index Frequent Columns to Improve Query Performance\n",
    "# Lets say you are frequently searching by \"symbol\" or \"name\" in the db\n",
    "\n",
    "conn = sqlite3.connect(db_path)\n",
    "cursor = conn.cursor()\n",
    "\n",
    "# Create an index on symbol\n",
    "cursor.execute(\"\"\"\n",
    "CREATE INDEX IF NOT EXISTS idx_coins_symbol ON coins(symbol);\n",
    "\"\"\")\n",
    "\n",
    "# Create an index on name\n",
    "cursor.execute(\"\"\"\n",
    "CREATE INDEX IF NOT EXISTS idx_coins_name ON coins(name);\n",
    "\"\"\")\n",
    "\n",
    "conn.commit()\n",
    "conn.close()\n",
    "print(\"Indexes created.\")"
   ]
  },
  {
   "cell_type": "code",
   "execution_count": null,
   "id": "01194706",
   "metadata": {},
   "outputs": [],
   "source": [
    "# Use context managers (with statement)\n",
    "\n",
    "with sqlite3.connect(db_path) as conn:\n",
    "    df = pd.read_sql(\"\"\"\n",
    "    SELECT *\n",
    "    FROM coins c\n",
    "    \"\"\", conn)\n",
    "\n",
    "    \n",
    "# Close connection with commit (if not using context manager)\n",
    "\n",
    "conn = sqlite3.connect(db_path)\n",
    "df = pd.read_sql(\"\"\"\n",
    "SELECT *\n",
    "FROM coins\n",
    "\"\"\", conn)\n",
    "conn.commit() # saving\n",
    "conn.close() # closing the database connection\n"
   ]
  },
  {
   "cell_type": "code",
   "execution_count": 15,
   "id": "fb90e4ab",
   "metadata": {},
   "outputs": [
    {
     "name": "stdout",
     "output_type": "stream",
     "text": [
      "   coin_id     name symbol\n",
      "0        1  Bitcoin    BTC\n"
     ]
    }
   ],
   "source": [
    "with sqlite3.connect(db_path) as conn:\n",
    "    df = pd.read_sql(\"\"\"\n",
    "        SELECT *\n",
    "        FROM coins\n",
    "        WHERE symbol = 'BTC'\n",
    "    \"\"\", conn)\n",
    "\n",
    "print(df)\n",
    "\n",
    "\n"
   ]
  },
  {
   "cell_type": "markdown",
   "id": "7d664f43",
   "metadata": {},
   "source": [
    "<!-- \n",
    "- \n",
    "    - Create a notebook which does following:\n",
    "        - Insert at least **3 different coins** into the `coins` table.\n",
    "        - Insert **5 daily price records** for each coin into the `prices` table.\n",
    "        - Create a business question (what is the average price for each coin? what is the highest price for each coin?)\n",
    "        - Write an SQL query to solve the business question -->"
   ]
  },
  {
   "cell_type": "markdown",
   "id": "1a430857",
   "metadata": {},
   "source": [
    "### Homework Example"
   ]
  },
  {
   "cell_type": "code",
   "execution_count": 1,
   "id": "9d7e105c",
   "metadata": {},
   "outputs": [
    {
     "ename": "NameError",
     "evalue": "name 'sqlite3' is not defined",
     "output_type": "error",
     "traceback": [
      "\u001b[31m---------------------------------------------------------------------------\u001b[39m",
      "\u001b[31mNameError\u001b[39m                                 Traceback (most recent call last)",
      "\u001b[36mCell\u001b[39m\u001b[36m \u001b[39m\u001b[32mIn[1]\u001b[39m\u001b[32m, line 2\u001b[39m\n\u001b[32m      1\u001b[39m \u001b[38;5;66;03m# Step 1: Connect (will create DB file if it doesn't exist)\u001b[39;00m\n\u001b[32m----> \u001b[39m\u001b[32m2\u001b[39m conn = \u001b[43msqlite3\u001b[49m.connect(\u001b[33m\"\u001b[39m\u001b[33mcrypto1.db\u001b[39m\u001b[33m\"\u001b[39m)\n\u001b[32m      3\u001b[39m cursor = conn.cursor()\n\u001b[32m      4\u001b[39m \u001b[38;5;66;03m# Step 2: Create tables\u001b[39;00m\n",
      "\u001b[31mNameError\u001b[39m: name 'sqlite3' is not defined"
     ]
    }
   ],
   "source": [
    "\n",
    "# Step 1: Connect (will create DB file if it doesn't exist)\n",
    "conn = sqlite3.connect(\"crypto1.db\")\n",
    "cursor = conn.cursor()\n",
    "# Step 2: Create tables\n",
    "cursor.execute(\"\"\"\n",
    "CREATE TABLE IF NOT EXISTS coins (\n",
    "    coin_id INTEGER PRIMARY KEY,\n",
    "    name TEXT,\n",
    "    symbol TEXT\n",
    ")\n",
    "\"\"\")\n",
    "\n",
    "cursor.execute(\"\"\"\n",
    "CREATE TABLE IF NOT EXISTS prices (\n",
    "    price_id INTEGER PRIMARY KEY,\n",
    "    coin_id INTEGER,\n",
    "    price REAL,\n",
    "    date TEXT,\n",
    "    FOREIGN KEY (coin_id) REFERENCES coins (coin_id)\n",
    ")\n",
    "\"\"\")\n",
    "conn.commit()  # Commit table creation\n",
    "\n",
    "\n",
    "# Step 3: Insert data \n",
    "coins_data = [\n",
    "    (1, \"Bitcoin\", \"BTC\"),\n",
    "    (2, \"Ethereum\", \"ETH\"),\n",
    "    (3, \"Litecoin\", \"LTC\")  # Will have no price\n",
    "]\n",
    "cursor.executemany(\"INSERT OR IGNORE INTO coins1 VALUES (?, ?, ?)\", coins_data)\n",
    "prices_data = [\n",
    "    (1, 1, 29123.50, \"2025-08-10\"),\n",
    "    (2, 2, 1834.75, \"2025-08-10\")\n",
    "]\n",
    "cursor.executemany(\"INSERT OR IGNORE INTO prices VALUES (?, ?, ?, ?)\", prices_data)\n",
    "\n",
    "conn.commit()  # Commit data inserts\n",
    "# Step 4: Run LEFT JOIN query\n",
    "df = pd.read_sql(\"\"\"\n",
    "SELECT c.name, c.symbol, p.price, p.date\n",
    "FROM coins1 c\n",
    "LEFT JOIN prices p ON c.coin_id = p.coin_id\n",
    "\"\"\", conn)\n",
    "\n",
    "print(\"\\nAll coins with prices (if available):\")\n",
    "print(df)\n",
    "\n",
    "\n",
    "# Step 5: Close connection\n",
    "conn.close()"
   ]
  },
  {
   "cell_type": "code",
   "execution_count": null,
   "id": "22b17ee0",
   "metadata": {},
   "outputs": [],
   "source": []
  }
 ],
 "metadata": {
  "kernelspec": {
   "display_name": "Python 3",
   "language": "python",
   "name": "python3"
  },
  "language_info": {
   "codemirror_mode": {
    "name": "ipython",
    "version": 3
   },
   "file_extension": ".py",
   "mimetype": "text/x-python",
   "name": "python",
   "nbconvert_exporter": "python",
   "pygments_lexer": "ipython3",
   "version": "3.13.1"
  }
 },
 "nbformat": 4,
 "nbformat_minor": 5
}
