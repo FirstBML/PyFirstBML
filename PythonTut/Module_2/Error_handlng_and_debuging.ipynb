{
 "cells": [
  {
   "cell_type": "markdown",
   "id": "1f7b289c",
   "metadata": {},
   "source": [
    "### Error Handling and Debugging\n",
    "#### Error Handling:\n",
    "#### A Python mechanism to manage and respond to errors (exceptions) that occur during program execution, preventing crashes. Purpose: Ensures programs handle unexpected issues (e.g., invalid input, file not found) gracefully, improving reliability and user experience."
   ]
  },
  {
   "cell_type": "markdown",
   "id": "d785d047",
   "metadata": {},
   "source": [
    "### Exception (Try/Except)\n",
    "#### try: Run the code\n",
    "\n",
    "#### except: if it crashes , ignore error silently or do something else\n",
    "\n",
    "#### finally: Clean up no matter what happens"
   ]
  },
  {
   "cell_type": "markdown",
   "id": "9e70bb7e",
   "metadata": {},
   "source": [
    "### Error Handling"
   ]
  },
  {
   "cell_type": "code",
   "execution_count": 3,
   "id": "f6950b48",
   "metadata": {},
   "outputs": [
    {
     "name": "stdout",
     "output_type": "stream",
     "text": [
      "This will always execute, regardless of error\n"
     ]
    }
   ],
   "source": [
    "try:\n",
    "    with open('read this file', 'r') as file:\n",
    "        content = file\n",
    "except:\n",
    "    pass\n",
    "\n",
    "finally:\n",
    "    print('This will always execute, regardless of error')\n"
   ]
  },
  {
   "cell_type": "markdown",
   "id": "21ba5ecf",
   "metadata": {},
   "source": [
    "### The Common Errors\n",
    "\n",
    "#### ValueError: When you give the right type of data but it doesn't make sense (like asking for a negative age).\n",
    "#### TypeError: Mixing incompatible things (like adding text to a number).\n",
    "#### FileNotFound: Trying to open a file that doesn't exist.\n",
    "#### KeyError: Looking for a non-existent dictionary key.\n"
   ]
  },
  {
   "cell_type": "markdown",
   "id": "b162b322",
   "metadata": {},
   "source": [
    "#### Value Error Handling"
   ]
  },
  {
   "cell_type": "code",
   "execution_count": 14,
   "id": "02968056",
   "metadata": {},
   "outputs": [
    {
     "ename": "ValueError",
     "evalue": "invalid literal for int() with base 10: 'ten'",
     "output_type": "error",
     "traceback": [
      "\u001b[31m---------------------------------------------------------------------------\u001b[39m",
      "\u001b[31mValueError\u001b[39m                                Traceback (most recent call last)",
      "\u001b[36mCell\u001b[39m\u001b[36m \u001b[39m\u001b[32mIn[14]\u001b[39m\u001b[32m, line 5\u001b[39m\n\u001b[32m      3\u001b[39m number = \u001b[33m'\u001b[39m\u001b[33mten\u001b[39m\u001b[33m'\u001b[39m\n\u001b[32m      4\u001b[39m \u001b[38;5;66;03m#try:\u001b[39;00m\n\u001b[32m----> \u001b[39m\u001b[32m5\u001b[39m value = \u001b[38;5;28;43mint\u001b[39;49m\u001b[43m(\u001b[49m\u001b[43mnumber\u001b[49m\u001b[43m)\u001b[49m\n\u001b[32m      7\u001b[39m \u001b[38;5;66;03m#except:\u001b[39;00m\n\u001b[32m      8\u001b[39m \u001b[38;5;66;03m#    ValueError\u001b[39;00m\n\u001b[32m      9\u001b[39m \n\u001b[32m     10\u001b[39m \u001b[38;5;66;03m#finally:\u001b[39;00m\n\u001b[32m     11\u001b[39m \u001b[38;5;28mprint\u001b[39m(\u001b[33m'\u001b[39m\u001b[33mCaught value error: Cannot add String and Integer.\u001b[39m\u001b[33m'\u001b[39m)\n",
      "\u001b[31mValueError\u001b[39m: invalid literal for int() with base 10: 'ten'"
     ]
    }
   ],
   "source": [
    "# Without using Value Error.\n",
    "\n",
    "number = 'ten'\n",
    "#try:\n",
    "value = int(number)\n",
    "\n",
    "#except:\n",
    "#    ValueError\n",
    "\n",
    "#finally:\n",
    "print('Caught value error: Cannot add String and Integer.')\n",
    "\n",
    "# this will be corrected by inserting integer like 10 instead of ten"
   ]
  },
  {
   "cell_type": "code",
   "execution_count": 18,
   "id": "f7f6bc09",
   "metadata": {},
   "outputs": [
    {
     "name": "stdout",
     "output_type": "stream",
     "text": [
      "Caught a value error: Cannot add String and Integer\n"
     ]
    }
   ],
   "source": [
    "# With Value Error Handling\n",
    "\n",
    "number = 'ten'\n",
    "try:\n",
    "    value  = int(number)\n",
    "\n",
    "except: \n",
    "    ValueError\n",
    "    print('Caught a value error: Cannot add String and Integer')\n"
   ]
  },
  {
   "cell_type": "markdown",
   "id": "5fcaafab",
   "metadata": {},
   "source": [
    "#### Type Error handling"
   ]
  },
  {
   "cell_type": "code",
   "execution_count": null,
   "id": "a6a266a6",
   "metadata": {},
   "outputs": [
    {
     "ename": "TypeError",
     "evalue": "unsupported operand type(s) for +: 'int' and 'str'",
     "output_type": "error",
     "traceback": [
      "\u001b[31m---------------------------------------------------------------------------\u001b[39m",
      "\u001b[31mTypeError\u001b[39m                                 Traceback (most recent call last)",
      "\u001b[36mCell\u001b[39m\u001b[36m \u001b[39m\u001b[32mIn[19]\u001b[39m\u001b[32m, line 1\u001b[39m\n\u001b[32m----> \u001b[39m\u001b[32m1\u001b[39m result = \u001b[32;43m5\u001b[39;49m\u001b[43m \u001b[49m\u001b[43m+\u001b[49m\u001b[43m \u001b[49m\u001b[33;43m'\u001b[39;49m\u001b[33;43m5\u001b[39;49m\u001b[33;43m'\u001b[39;49m\n\u001b[32m      2\u001b[39m \u001b[38;5;28mprint\u001b[39m(result)\n",
      "\u001b[31mTypeError\u001b[39m: unsupported operand type(s) for +: 'int' and 'str'"
     ]
    }
   ],
   "source": [
    "# without using TypeErro\n",
    "\n",
    "result = 5 + '5'\n",
    "print(result)\n",
    "\n",
    "# this can only be solved using by the user inputting 5 instead of '5'\n"
   ]
  },
  {
   "cell_type": "code",
   "execution_count": 20,
   "id": "2409333b",
   "metadata": {},
   "outputs": [
    {
     "name": "stdout",
     "output_type": "stream",
     "text": [
      "Caught a TypeError: Cannot add String and Integer\n"
     ]
    }
   ],
   "source": [
    "# Using TypeError\n",
    "\n",
    "try:\n",
    "    result = 5 + '5'\n",
    "\n",
    "except: TypeError\n",
    "print('Caught a TypeError: Cannot add String and Integer')\n",
    "\n",
    "# this can only be solved using by the user inputting 5 instead of '5'\n",
    "\n",
    "\n"
   ]
  },
  {
   "cell_type": "markdown",
   "id": "b91b5a84",
   "metadata": {},
   "source": [
    "#### File not found Error Handling"
   ]
  },
  {
   "cell_type": "code",
   "execution_count": 25,
   "id": "00a21cab",
   "metadata": {},
   "outputs": [
    {
     "ename": "FileNotFoundError",
     "evalue": "[Errno 2] No such file or directory: 'yet_another_non_existent_file.txt'",
     "output_type": "error",
     "traceback": [
      "\u001b[31m---------------------------------------------------------------------------\u001b[39m",
      "\u001b[31mFileNotFoundError\u001b[39m                         Traceback (most recent call last)",
      "\u001b[36mCell\u001b[39m\u001b[36m \u001b[39m\u001b[32mIn[25]\u001b[39m\u001b[32m, line 3\u001b[39m\n\u001b[32m      1\u001b[39m \u001b[38;5;66;03m# without using FileNotFoundError\u001b[39;00m\n\u001b[32m----> \u001b[39m\u001b[32m3\u001b[39m \u001b[38;5;28;01mwith\u001b[39;00m \u001b[38;5;28;43mopen\u001b[39;49m\u001b[43m(\u001b[49m\u001b[33;43m'\u001b[39;49m\u001b[33;43myet_another_non_existent_file.txt\u001b[39;49m\u001b[33;43m'\u001b[39;49m\u001b[43m,\u001b[49m\u001b[43m \u001b[49m\u001b[33;43m'\u001b[39;49m\u001b[33;43mr\u001b[39;49m\u001b[33;43m'\u001b[39;49m\u001b[43m)\u001b[49m \u001b[38;5;28;01mas\u001b[39;00m file:\n\u001b[32m      4\u001b[39m         content = file.read()\n\u001b[32m      6\u001b[39m \u001b[38;5;28mprint\u001b[39m(\u001b[33m\"\u001b[39m\u001b[33mCaught a FileNotFoundError: The file does not exist\u001b[39m\u001b[33m\"\u001b[39m)\n",
      "\u001b[36mFile \u001b[39m\u001b[32mc:\\Users\\g\\OneDrive\\Documents\\OxPython\\Module\\PythonTut\\Lib\\site-packages\\IPython\\core\\interactiveshell.py:343\u001b[39m, in \u001b[36m_modified_open\u001b[39m\u001b[34m(file, *args, **kwargs)\u001b[39m\n\u001b[32m    336\u001b[39m \u001b[38;5;28;01mif\u001b[39;00m file \u001b[38;5;129;01min\u001b[39;00m {\u001b[32m0\u001b[39m, \u001b[32m1\u001b[39m, \u001b[32m2\u001b[39m}:\n\u001b[32m    337\u001b[39m     \u001b[38;5;28;01mraise\u001b[39;00m \u001b[38;5;167;01mValueError\u001b[39;00m(\n\u001b[32m    338\u001b[39m         \u001b[33mf\u001b[39m\u001b[33m\"\u001b[39m\u001b[33mIPython won\u001b[39m\u001b[33m'\u001b[39m\u001b[33mt let you open fd=\u001b[39m\u001b[38;5;132;01m{\u001b[39;00mfile\u001b[38;5;132;01m}\u001b[39;00m\u001b[33m by default \u001b[39m\u001b[33m\"\u001b[39m\n\u001b[32m    339\u001b[39m         \u001b[33m\"\u001b[39m\u001b[33mas it is likely to crash IPython. If you know what you are doing, \u001b[39m\u001b[33m\"\u001b[39m\n\u001b[32m    340\u001b[39m         \u001b[33m\"\u001b[39m\u001b[33myou can use builtins\u001b[39m\u001b[33m'\u001b[39m\u001b[33m open.\u001b[39m\u001b[33m\"\u001b[39m\n\u001b[32m    341\u001b[39m     )\n\u001b[32m--> \u001b[39m\u001b[32m343\u001b[39m \u001b[38;5;28;01mreturn\u001b[39;00m \u001b[43mio_open\u001b[49m\u001b[43m(\u001b[49m\u001b[43mfile\u001b[49m\u001b[43m,\u001b[49m\u001b[43m \u001b[49m\u001b[43m*\u001b[49m\u001b[43margs\u001b[49m\u001b[43m,\u001b[49m\u001b[43m \u001b[49m\u001b[43m*\u001b[49m\u001b[43m*\u001b[49m\u001b[43mkwargs\u001b[49m\u001b[43m)\u001b[49m\n",
      "\u001b[31mFileNotFoundError\u001b[39m: [Errno 2] No such file or directory: 'yet_another_non_existent_file.txt'"
     ]
    }
   ],
   "source": [
    "# without using FileNotFoundError\n",
    "\n",
    "with open('yet_another_non_existent_file.txt', 'r') as file:\n",
    "        content = file.read()\n",
    "\n",
    "print(\"Caught a FileNotFoundError: The file does not exist\")\n",
    "result = 5 + '5'\n",
    "print(result)\n",
    "\n",
    "# This can only be solved using by the user uploading the right file'\n"
   ]
  },
  {
   "cell_type": "code",
   "execution_count": 24,
   "id": "f28c5fbc",
   "metadata": {},
   "outputs": [
    {
     "name": "stdout",
     "output_type": "stream",
     "text": [
      "Caught a FileNotFoundError: The file does not exist\n"
     ]
    }
   ],
   "source": [
    "# using FileNotFoundError\n",
    "\n",
    "try:\n",
    "    with open('yet_another_non_existent_file.txt', 'r') as file:\n",
    "        content = file.read()\n",
    "except FileNotFoundError:\n",
    "    print(\"Caught a FileNotFoundError: The file does not exist\")"
   ]
  },
  {
   "cell_type": "markdown",
   "id": "55c4154d",
   "metadata": {},
   "source": [
    "#### KeyError Handling "
   ]
  },
  {
   "cell_type": "code",
   "execution_count": 27,
   "id": "1ee865c8",
   "metadata": {},
   "outputs": [
    {
     "name": "stdout",
     "output_type": "stream",
     "text": [
      "Caught a KeyError: The key does not exist in the dictionary\n"
     ]
    }
   ],
   "source": [
    "# KeyError Handling \n",
    "\n",
    "my_dict = {'a':1, 'b':2}\n",
    "try:\n",
    "    value = my_dict['c']\n",
    "except KeyError:\n",
    "    print('Caught a KeyError: The key does not exist in the dictionary')"
   ]
  },
  {
   "cell_type": "markdown",
   "id": "37958549",
   "metadata": {},
   "source": [
    "#### IndexError Handling "
   ]
  },
  {
   "cell_type": "code",
   "execution_count": 28,
   "id": "99ae0e93",
   "metadata": {},
   "outputs": [
    {
     "name": "stdout",
     "output_type": "stream",
     "text": [
      "Caught an IndexError: The index is out of range. \n"
     ]
    }
   ],
   "source": [
    "\n",
    "my_list = [1,2,3]\n",
    "\n",
    "try:\n",
    "    value = my_list[5]\n",
    "except IndexError:\n",
    "    print(\"Caught an IndexError: The index is out of range. \")"
   ]
  },
  {
   "cell_type": "markdown",
   "id": "16b22ab1",
   "metadata": {},
   "source": [
    "### Debugging Techniques"
   ]
  },
  {
   "cell_type": "code",
   "execution_count": 29,
   "id": "0960a4db",
   "metadata": {},
   "outputs": [
    {
     "ename": "ZeroDivisionError",
     "evalue": "division by zero",
     "output_type": "error",
     "traceback": [
      "\u001b[31m---------------------------------------------------------------------------\u001b[39m",
      "\u001b[31mZeroDivisionError\u001b[39m                         Traceback (most recent call last)",
      "\u001b[36mCell\u001b[39m\u001b[36m \u001b[39m\u001b[32mIn[29]\u001b[39m\u001b[32m, line 5\u001b[39m\n\u001b[32m      3\u001b[39m number = \u001b[32m10\u001b[39m\n\u001b[32m      4\u001b[39m divider = \u001b[32m0\u001b[39m\n\u001b[32m----> \u001b[39m\u001b[32m5\u001b[39m solve = \u001b[43mnumber\u001b[49m\u001b[43m \u001b[49m\u001b[43m/\u001b[49m\u001b[43m \u001b[49m\u001b[43mdivider\u001b[49m\n\u001b[32m      6\u001b[39m \u001b[38;5;28mprint\u001b[39m(\u001b[33m'\u001b[39m\u001b[33mChecking if this code gets to this point\u001b[39m\u001b[33m'\u001b[39m)\n",
      "\u001b[31mZeroDivisionError\u001b[39m: division by zero"
     ]
    }
   ],
   "source": [
    "# Debugging with print()\n",
    "\n",
    "number = 10\n",
    "divider = 0\n",
    "solve = number / divider\n",
    "print('Checking if this code gets to this point')"
   ]
  },
  {
   "cell_type": "code",
   "execution_count": 30,
   "id": "ef7fd217",
   "metadata": {},
   "outputs": [
    {
     "name": "stderr",
     "output_type": "stream",
     "text": [
      "DEBUG:root:This is a debug message. \n"
     ]
    }
   ],
   "source": [
    "# Debugging with IDE Tools \n",
    "\n",
    "# Debugging with logging\n",
    "\n",
    "import logging\n",
    "\n",
    "logging.basicConfig(level=logging.DEBUG)\n",
    "logging.debug('This is a debug message. ')"
   ]
  }
 ],
 "metadata": {
  "kernelspec": {
   "display_name": "PythonTut",
   "language": "python",
   "name": "python3"
  },
  "language_info": {
   "codemirror_mode": {
    "name": "ipython",
    "version": 3
   },
   "file_extension": ".py",
   "mimetype": "text/x-python",
   "name": "python",
   "nbconvert_exporter": "python",
   "pygments_lexer": "ipython3",
   "version": "3.13.1"
  }
 },
 "nbformat": 4,
 "nbformat_minor": 5
}
