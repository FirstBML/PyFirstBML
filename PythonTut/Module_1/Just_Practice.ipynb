{
 "cells": [
  {
   "cell_type": "markdown",
   "id": "aa449890",
   "metadata": {},
   "source": [
    "#### Practice for mastering the concept of defining class, method and attributes and calling them "
   ]
  },
  {
   "cell_type": "code",
   "execution_count": null,
   "id": "0618819e",
   "metadata": {},
   "outputs": [
    {
     "name": "stdout",
     "output_type": "stream",
     "text": [
      "Toyota\n",
      "2023\n"
     ]
    }
   ],
   "source": [
    "class car:\n",
    "    def __init__(self, brand, year):\n",
    "        self.brand = brand\n",
    "        self.year = year\n",
    "\n",
    "mycar = car('Toyota', 2023)\n",
    "print(mycar.brand)\n",
    "print(mycar.year)"
   ]
  },
  {
   "cell_type": "code",
   "execution_count": null,
   "id": "d06b2922",
   "metadata": {},
   "outputs": [
    {
     "name": "stdout",
     "output_type": "stream",
     "text": [
      "Toyota\n",
      "2023\n",
      "Brand:Toyota, Year:2023\n",
      "None\n"
     ]
    }
   ],
   "source": [
    "\n",
    "# defining a class\n",
    "class car:\n",
    "    def __init__(self, brand, year):\n",
    "        self.brand = brand # Attribute\n",
    "        self.year = year # Attribute\n",
    "\n",
    "    # defining a method or function\n",
    "    def info(self):\n",
    "        print(f'Brand:{self.brand}, Year:{self.year}')\n",
    "\n",
    "mycar = car('Toyota', 2023) # creating an object for the class\n",
    "\n",
    "# Calling attributes\n",
    "print(mycar.brand) # Output -> Toyota\n",
    "print(mycar.year) # Output -> 2023\n",
    "\n",
    "# Calling a method\n",
    "print(mycar.info()) # Output -> Brand:Toyota, Year:2023"
   ]
  }
 ],
 "metadata": {
  "kernelspec": {
   "display_name": "PythonTut",
   "language": "python",
   "name": "python3"
  },
  "language_info": {
   "codemirror_mode": {
    "name": "ipython",
    "version": 3
   },
   "file_extension": ".py",
   "mimetype": "text/x-python",
   "name": "python",
   "nbconvert_exporter": "python",
   "pygments_lexer": "ipython3",
   "version": "3.13.1"
  }
 },
 "nbformat": 4,
 "nbformat_minor": 5
}
