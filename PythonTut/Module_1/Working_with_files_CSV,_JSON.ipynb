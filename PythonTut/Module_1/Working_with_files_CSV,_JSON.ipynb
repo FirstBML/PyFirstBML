{
 "cells": [
  {
   "cell_type": "markdown",
   "id": "fcc20a45",
   "metadata": {},
   "source": [
    "### Working with files. files such as txt, CSV, and JSON"
   ]
  },
  {
   "cell_type": "code",
   "execution_count": null,
   "id": "9c6a5ab9",
   "metadata": {},
   "outputs": [
    {
     "name": "stdout",
     "output_type": "stream",
     "text": [
      "Quod equidem non reprehendo;\n",
      "Lorem ipsum dolor sit amet, consectetur adipiscing elit. Quibus natura iure responderit non esse verum aliunde finem beate vivendi, a se principia rei gerendae peti; Quae enim adhuc protulisti, popularia sunt, ego autem a te elegantiora desidero. Duo Reges: constructio interrete. Tum Lucius: Mihi vero ista valde probata sunt, quod item fratri puto. Bestiarum vero nullum iudicium puto. Nihil enim iam habes, quod ad corpus referas; Deinde prima illa, quae in congressu solemus: Quid tu, inquit, huc? Et homini, qui ceteris animantibus plurimum praestat, praecipue a natura nihil datum esse dicemus?\n",
      "\n",
      "Iam id ipsum absurdum, maximum malum neglegi. Quod ea non occurrentia fingunt, vincunt Aristonem; Atqui perspicuum est hominem e corpore animoque constare, cum primae sint animi partes, secundae corporis. Fieri, inquam, Triari, nullo pacto potest, ut non dicas, quid non probes eius, a quo dissentias. Equidem e Cn. An dubium est, quin virtus ita maximam partem optineat in rebus humanis, ut reliquas obruat?\n",
      "\n",
      "Quis istum dolorem timet?\n",
      "Summus dolor plures dies manere non potest? Dicet pro me ipsa virtus nec dubitabit isti vestro beato M. Tubulum fuisse, qua illum, cuius is condemnatus est rogatione, P. Quod si ita sit, cur opera philosophiae sit danda nescio.\n",
      "\n",
      "Ex eorum enim scriptis et institutis cum omnis doctrina liberalis, omnis historia.\n",
      "Quod si ita est, sequitur id ipsum, quod te velle video, omnes semper beatos esse sapientes. Cum enim fertur quasi torrens oratio, quamvis multa cuiusque modi rapiat, nihil tamen teneas, nihil apprehendas, nusquam orationem rapidam coerceas. Ita redarguitur ipse a sese, convincunturque scripta eius probitate ipsius ac moribus. At quanta conantur! Mundum hunc omnem oppidum esse nostrum! Incendi igitur eos, qui audiunt, vides. Vide, ne magis, inquam, tuum fuerit, cum re idem tibi, quod mihi, videretur, non nova te rebus nomina inponere. Qui-vere falsone, quaerere mittimus-dicitur oculis se privasse; Si ista mala sunt, in quae potest incidere sapiens, sapientem esse non esse ad beate vivendum satis. At vero si ad vitem sensus accesserit, ut appetitum quendam habeat et per se ipsa moveatur, quid facturam putas?\n",
      "\n",
      "Quem si tenueris, non modo meum Ciceronem, sed etiam me ipsum abducas licebit.\n",
      "Stulti autem malorum memoria torquentur, sapientes bona praeterita grata recordatione renovata delectant.\n",
      "Esse enim quam vellet iniquus iustus poterat inpune.\n",
      "Quae autem natura suae primae institutionis oblita est?\n",
      "Verum tamen cum de rebus grandioribus dicas, ipsae res verba rapiunt;\n",
      "Hoc est non modo cor non habere, sed ne palatum quidem.\n",
      "Voluptatem cum summum bonum diceret, primum in eo ipso parum vidit, deinde hoc quoque alienum; Sed tu istuc dixti bene Latine, parum plane. Nam haec ipsa mihi erunt in promptu, quae modo audivi, nec ante aggrediar, quam te ab istis, quos dicis, instructum videro. Fatebuntur Stoici haec omnia dicta esse praeclare, neque eam causam Zenoni desciscendi fuisse. Non autem hoc: igitur ne illud quidem. Ratio quidem vestra sic cogit. Cum audissem Antiochum, Brute, ut solebam, cum M. An quod ita callida est, ut optime possit architectari voluptates?\n",
      "\n",
      "Idemne, quod iucunde?\n",
      "Haec mihi videtur delicatior, ut ita dicam, molliorque ratio, quam virtutis vis gravitasque postulat. Sed quoniam et advesperascit et mihi ad villam revertendum est, nunc quidem hactenus; Cuius ad naturam apta ratio vera illa et summa lex a philosophis dicitur. Neque solum ea communia, verum etiam paria esse dixerunt. Sed nunc, quod agimus; A mene tu?\n"
     ]
    }
   ],
   "source": [
    "# Working with text file in python-(read mode)\n",
    "with open('sample3.txt', 'r') as file:\n",
    "    content = file.read()\n",
    "    print(content)"
   ]
  },
  {
   "cell_type": "code",
   "execution_count": 11,
   "id": "1ad66d2f",
   "metadata": {},
   "outputs": [],
   "source": [
    "# Write into the text file. this erases the current current - ( Write mode)\n",
    "with open('sample3.txt', 'w') as file:\n",
    "    file.write('hello to you this day\\n')\n",
    "    file.write('I want to write on sample.txt file\\n')\n"
   ]
  },
  {
   "cell_type": "code",
   "execution_count": 12,
   "id": "01e0c359",
   "metadata": {},
   "outputs": [],
   "source": [
    "# Append into the txt file - (Append mode)\n",
    "with open('sample3.txt', 'a') as file:\n",
    "    file.write('Append new line to the file\\n')\n",
    "    file.write('this is another append line\\n')"
   ]
  },
  {
   "cell_type": "code",
   "execution_count": 14,
   "id": "b1ac4eb5",
   "metadata": {},
   "outputs": [
    {
     "name": "stdout",
     "output_type": "stream",
     "text": [
      "current content of the file\n",
      "hello to you this day\n",
      "I want to write on sample.txt file\n",
      "Append new line to the file\n",
      "this is another append line\n",
      "Addd new line to the file\n",
      "\n"
     ]
    }
   ],
   "source": [
    "# Read and write into the txt file - (read and write mode)\n",
    "with open('sample3.txt','r+') as file:\n",
    "    content = file.read()\n",
    "    print('current content of the file')\n",
    "    file.write('Addd new line to the file\\n')\n",
    "print(content)"
   ]
  },
  {
   "cell_type": "markdown",
   "id": "da746633",
   "metadata": {},
   "source": [
    "### With CSV file\n",
    "#### CSV stands for Comma Seprated Value like simple excel file.\n",
    "#### CSV module:\n",
    "#### - CSV.writer() - write data to CSV file\n",
    "#### - CSV.reader() - read rows of CSV files as lists\n",
    "#### - CSV.dictReader() - reads CSV rows as dictionaries\n",
    "\n"
   ]
  },
  {
   "cell_type": "code",
   "execution_count": 22,
   "id": "06b77689",
   "metadata": {},
   "outputs": [],
   "source": [
    "# Working CSV file - writter mode\n",
    "\n",
    "import csv\n",
    "\n",
    "with open('industry.csv', 'w', newline=\"\") as CSVfile:\n",
    "    writer = csv.writer(CSVfile)\n",
    "    writer.writerow(['Name','Age','City'])\n",
    "    writer.writerow(['Bashiru', 30, 'Lagos'])\n",
    "    writer.writerow(['Jamiu', 28,'Abuja'])\n",
    "\n",
    "\n"
   ]
  },
  {
   "cell_type": "code",
   "execution_count": 25,
   "id": "a805ddea",
   "metadata": {},
   "outputs": [
    {
     "name": "stdout",
     "output_type": "stream",
     "text": [
      "['Name', 'Age', 'City']\n",
      "['Bashiru', '30', 'Lagos']\n",
      "['Jamiu', '28', 'Abuja']\n"
     ]
    }
   ],
   "source": [
    "import csv\n",
    "\n",
    "with open('industry.csv', 'r') as CSVfile:\n",
    "    reader = csv.reader(CSVfile)\n",
    "    for row in reader:\n",
    "        print(row)"
   ]
  },
  {
   "cell_type": "code",
   "execution_count": 28,
   "id": "72a7159b",
   "metadata": {},
   "outputs": [
    {
     "name": "stdout",
     "output_type": "stream",
     "text": [
      "{'Name': 'Bashiru', 'Age': '30', 'City': 'Lagos'}\n",
      "{'Name': 'Jamiu', 'Age': '28', 'City': 'Abuja'}\n"
     ]
    }
   ],
   "source": [
    "# DictReader for reading CSV file\n",
    "with open('industry.csv', 'r') as CSVfile:\n",
    "    reader = csv.DictReader(CSVfile)\n",
    "    for row in reader:\n",
    "        print(row)"
   ]
  },
  {
   "cell_type": "markdown",
   "id": "b2bda6b6",
   "metadata": {},
   "source": [
    "### Handling JSON Data\n",
    "\n",
    "#### JSON store and handle data in python dictionary format.\n",
    "#### * json.dump() - writes JSON data to file\n",
    "#### * json.load() - writes JSON data from file\n",
    "#### * json.loads() - reads JSON from string\n",
    "#### * json.dumps() - Converrts JSON obejects to string"
   ]
  },
  {
   "cell_type": "code",
   "execution_count": 41,
   "id": "5081f7db",
   "metadata": {},
   "outputs": [],
   "source": [
    "import json\n",
    "\n",
    "data = {\n",
    "'Name': 'ALice',\n",
    "'Age': 30,\n",
    "'Location': 'Lagos'\n",
    "}\n",
    "\n",
    "with open('data.json', 'w') as JSONfile:\n",
    "    json.dump(data, JSONfile, indent=4) # write json data to the file with indentation\n",
    "\n"
   ]
  },
  {
   "cell_type": "code",
   "execution_count": 42,
   "id": "5bf782e8",
   "metadata": {},
   "outputs": [
    {
     "name": "stdout",
     "output_type": "stream",
     "text": [
      "{'Name': 'ALice', 'Age': 30, 'Location': 'Lagos'}\n"
     ]
    }
   ],
   "source": [
    "# Reading from the json file\n",
    "with open('data.json', 'r') as JSONfile:\n",
    "    data  = json.load(JSONfile)\n",
    "    print(data)"
   ]
  },
  {
   "cell_type": "code",
   "execution_count": 48,
   "id": "fdd64099",
   "metadata": {},
   "outputs": [
    {
     "name": "stdout",
     "output_type": "stream",
     "text": [
      "{'Nam': 'ALice', 'Age': 30, 'Location': 'Lagos'}\n"
     ]
    }
   ],
   "source": [
    "json_string = '{\"Nam\":\"ALice\", \"Age\": 30, \"Location\": \"Lagos\"}'\n",
    "data = json.loads(json_string) # pass json string into python dictionary\n",
    "print(data)"
   ]
  },
  {
   "cell_type": "code",
   "execution_count": 52,
   "id": "165068ac",
   "metadata": {},
   "outputs": [
    {
     "name": "stdout",
     "output_type": "stream",
     "text": [
      "{'Name': 'ALice', 'Age': 30, 'Location': 'Lagos'}\n"
     ]
    }
   ],
   "source": [
    "data = {\n",
    "'Name': 'ALice',\n",
    "'Age': 30,\n",
    "'Location': 'Lagos'\n",
    "}\n",
    "\n",
    "json_string = json.dumps(data, indent= 4) # convert pytho object to json string with indentation\n",
    "print(data)\n"
   ]
  }
 ],
 "metadata": {
  "kernelspec": {
   "display_name": "PythonTut",
   "language": "python",
   "name": "python3"
  },
  "language_info": {
   "codemirror_mode": {
    "name": "ipython",
    "version": 3
   },
   "file_extension": ".py",
   "mimetype": "text/x-python",
   "name": "python",
   "nbconvert_exporter": "python",
   "pygments_lexer": "ipython3",
   "version": "3.13.1"
  }
 },
 "nbformat": 4,
 "nbformat_minor": 5
}
