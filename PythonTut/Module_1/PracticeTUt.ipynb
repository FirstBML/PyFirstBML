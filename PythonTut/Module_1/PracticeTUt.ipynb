{
 "cells": [
  {
   "cell_type": "markdown",
   "id": "e2f91a0a",
   "metadata": {},
   "source": [
    "#### Comments (#) –  Comments are like sticky notes in your code. They start with # and are ignored by Python, so they’re just for you or others to understand what the code does.<br>\n",
    "#### Example: # This calculates your age<br>\n",
    "#### Indentation (Spaces/Tabs) – Python uses them to group code (like paragraphs in a book).<br>\n",
    "#### Code Blocks – Sections of code that belong together (e.g., inside loops or functions).<br>\n",
    "#### Keywords – Special words Python reserves (e.g., if, for, while). Don’t use these as variable names!\n"
   ]
  },
  {
   "cell_type": "markdown",
   "id": "bafe84f6",
   "metadata": {},
   "source": [
    "### comments"
   ]
  },
  {
   "cell_type": "code",
   "execution_count": null,
   "id": "3e54b7bf",
   "metadata": {},
   "outputs": [
    {
     "name": "stdout",
     "output_type": "stream",
     "text": [
      "{4500}\n"
     ]
    }
   ],
   "source": [
    "a = 50 # define the first varriable 'a'\n",
    "b = 90 # define the second Varriable 'b'\n",
    "c = a * b # multiplyng the first and second varribles\n",
    "print({c}) # bringing out the result of the calculation"
   ]
  },
  {
   "cell_type": "markdown",
   "id": "d7c02534",
   "metadata": {},
   "source": [
    "### Indentation"
   ]
  },
  {
   "cell_type": "code",
   "execution_count": null,
   "id": "b8b9021c",
   "metadata": {},
   "outputs": [
    {
     "name": "stdout",
     "output_type": "stream",
     "text": [
      "Buy Opportunity\n"
     ]
    }
   ],
   "source": [
    "ALU = 0.5700\n",
    "if ALU < 0.6450:\n",
    "    print(\"Buy Opportunity\") # Indentation indicates using spaces or a tab\n"
   ]
  },
  {
   "cell_type": "code",
   "execution_count": 17,
   "id": "6e21e05e",
   "metadata": {},
   "outputs": [
    {
     "name": "stdout",
     "output_type": "stream",
     "text": [
      "5 is greater than 1\n"
     ]
    }
   ],
   "source": [
    "Number = 5\n",
    "if Number > 1:\n",
    "    print(f\"{Number} is greater than 1\") # Another Indentation"
   ]
  },
  {
   "cell_type": "markdown",
   "id": "08f6c596",
   "metadata": {},
   "source": [
    "### f-string (short for formatted string literal) is a way to embed expressions (like variables or calculations) directly inside a string using a concise and readable syntax. it make and expressiion or varriable to stay alive and dinamic. example below"
   ]
  },
  {
   "cell_type": "code",
   "execution_count": 19,
   "id": "856927f6",
   "metadata": {},
   "outputs": [
    {
     "name": "stdout",
     "output_type": "stream",
     "text": [
      "Time to review related portfolio as BTC is 98000\n"
     ]
    }
   ],
   "source": [
    "BTC = 98000\n",
    "if BTC < 99000:\n",
    "    print(f\"Time to review related portfolio as BTC is {BTC}\")"
   ]
  },
  {
   "cell_type": "markdown",
   "id": "b96d654f",
   "metadata": {},
   "source": [
    "### Input \n",
    "##### used to enable users oppotunity to enter data response(s). See example below"
   ]
  },
  {
   "cell_type": "code",
   "execution_count": 2,
   "id": "5bc9453c",
   "metadata": {},
   "outputs": [
    {
     "name": "stdout",
     "output_type": "stream",
     "text": [
      "My favourite crypto asset is: sol\n"
     ]
    }
   ],
   "source": [
    "asset = input(\"Enter your favourite Crypto Asset: \")\n",
    "print(\"My favourite crypto asset is: \" + asset )\n"
   ]
  },
  {
   "cell_type": "markdown",
   "id": "16726924",
   "metadata": {},
   "source": [
    "### Varriable"
   ]
  },
  {
   "cell_type": "markdown",
   "id": "6a7018a9",
   "metadata": {},
   "source": [
    "#### Varriables are named container that stores data. \n",
    "#### for example score = 100. the varriable is the \"score\"\n",
    "#### Rules of using Varriables\n",
    "####    1 Start with a letter or _ (not a number)\n",
    "####    2 It can Contain Number, Letter or underscore(_) (no space or symbol)\n",
    "####    3 Can be Case sensitive (Name =! name)\n",
    "####    4 Avoid Python Keywords (eg print, if, etc)\n",
    "\n",
    "#### Assignment (=). This must be present\n",
    "#####   fruit = 'Apple'. this put apple into the varrible apple.\n",
    "#####   Can be updated later as fruit = 'Banana'\n",
    "\n"
   ]
  },
  {
   "cell_type": "markdown",
   "id": "9983878b",
   "metadata": {},
   "source": [
    "### Varriables\n",
    "\n",
    "\n"
   ]
  },
  {
   "cell_type": "code",
   "execution_count": null,
   "id": "a76ee26c",
   "metadata": {},
   "outputs": [],
   "source": [
    "Name = \"John\" #### this a string varriable\n",
    "Height = 4.5 #### this is a float varriable\n",
    "Age = 5 #### this integer varriable\n",
    "_is_valid = True #### this is a boolen varible"
   ]
  },
  {
   "cell_type": "markdown",
   "id": "37f5edb2",
   "metadata": {},
   "source": []
  },
  {
   "cell_type": "markdown",
   "id": "4d41320a",
   "metadata": {},
   "source": [
    "### Varriables Case Sensitivity"
   ]
  },
  {
   "cell_type": "code",
   "execution_count": 7,
   "id": "dcfb0421",
   "metadata": {},
   "outputs": [],
   "source": [
    "#### Varriable are case Sensitive\n",
    "Name = \"John\"\n",
    "Name = \"john\""
   ]
  },
  {
   "cell_type": "markdown",
   "id": "fa09e006",
   "metadata": {},
   "source": [
    "### Varriable Assignment"
   ]
  },
  {
   "cell_type": "code",
   "execution_count": 10,
   "id": "027be608",
   "metadata": {},
   "outputs": [],
   "source": [
    "#### Assignment\n",
    "x = 12 #### Assigning value 12 to the varriable x\n",
    "y = 25 #### Assigning value 25 to the varriable y\n",
    "\n",
    "#### Multiple Assignment\n",
    "x, y = 5, 9 #### Assign 5 to x and 9 to y in a single line"
   ]
  },
  {
   "cell_type": "markdown",
   "id": "e35efc87",
   "metadata": {},
   "source": [
    "### Data Type"
   ]
  },
  {
   "cell_type": "markdown",
   "id": "1160defa",
   "metadata": {},
   "source": [
    "##### Data types categorise different data base on how they behave and allowed operation\n"
   ]
  },
  {
   "cell_type": "markdown",
   "id": "12e604d9",
   "metadata": {},
   "source": [
    "### Common Data Type\n"
   ]
  },
  {
   "cell_type": "markdown",
   "id": "2c304206",
   "metadata": {},
   "source": [
    "##### Text Data Type"
   ]
  },
  {
   "cell_type": "markdown",
   "id": "0a55e69b",
   "metadata": {},
   "source": [
    "##### String\n"
   ]
  },
  {
   "cell_type": "code",
   "execution_count": null,
   "id": "0ecaa6ce",
   "metadata": {},
   "outputs": [],
   "source": [
    "##### String Data type also know as string data type\n",
    "State = \"Lagos\" ##### String Data type\n",
    "Country = \"Nigeria\"  ##### Another string Data type``"
   ]
  },
  {
   "cell_type": "markdown",
   "id": "35e9a8cd",
   "metadata": {},
   "source": [
    "### Numberic Data Type\n",
    "####  This data type store numerical values such as 1, 2, or 3.2, etc"
   ]
  },
  {
   "cell_type": "markdown",
   "id": "17329314",
   "metadata": {},
   "source": [
    "###  Common Numeric Data type\n",
    "##### - Integer    "
   ]
  },
  {
   "cell_type": "code",
   "execution_count": null,
   "id": "203feef7",
   "metadata": {},
   "outputs": [],
   "source": [
    "### Integer stores whole numbers\n",
    "ETH = 2305 "
   ]
  },
  {
   "cell_type": "markdown",
   "id": "c2389c1f",
   "metadata": {},
   "source": [
    "##### -Float"
   ]
  },
  {
   "cell_type": "code",
   "execution_count": null,
   "id": "460afdc2",
   "metadata": {},
   "outputs": [],
   "source": [
    "### Float Stores decimal numbers. E.g\n",
    "Assets = 23.50\n"
   ]
  },
  {
   "cell_type": "markdown",
   "id": "0b41a4a8",
   "metadata": {},
   "source": [
    "##### -Boolean"
   ]
  },
  {
   "cell_type": "code",
   "execution_count": null,
   "id": "145e108e",
   "metadata": {},
   "outputs": [],
   "source": [
    "##### Boolen data type stores condition value such as true, false, or yes, etc\n",
    "_is_valid = False\n",
    "invalid = True"
   ]
  },
  {
   "cell_type": "markdown",
   "id": "59237095",
   "metadata": {},
   "source": [
    "### Sequence Data Type\n",
    "##### This store series of values or data\n",
    "#### Common Data type"
   ]
  },
  {
   "cell_type": "markdown",
   "id": "4becd425",
   "metadata": {},
   "source": [
    "#### - List"
   ]
  },
  {
   "cell_type": "code",
   "execution_count": null,
   "id": "abb5e45f",
   "metadata": {},
   "outputs": [
    {
     "name": "stdout",
     "output_type": "stream",
     "text": [
      "{'BTC', 'SOL', 'ETH'}\n"
     ]
    }
   ],
   "source": [
    "##### A list data type is an ordered collection of items \n",
    "CrptoAssets = {'BTC', 'ETH', 'SOL'}\n",
    "print(CrptoAssets)"
   ]
  },
  {
   "cell_type": "code",
   "execution_count": 15,
   "id": "743b1871",
   "metadata": {},
   "outputs": [
    {
     "data": {
      "text/plain": [
       "{'22', '3.4', '50'}"
      ]
     },
     "execution_count": 15,
     "metadata": {},
     "output_type": "execute_result"
    }
   ],
   "source": [
    "CrptoAssets1 = {'50','22','3.4',}\n",
    "CrptoAssets1"
   ]
  },
  {
   "cell_type": "markdown",
   "id": "bf475c92",
   "metadata": {},
   "source": [
    "#### - Tuple"
   ]
  },
  {
   "cell_type": "code",
   "execution_count": 14,
   "id": "e2c5b606",
   "metadata": {},
   "outputs": [
    {
     "name": "stdout",
     "output_type": "stream",
     "text": [
      "(23, 32, 45)\n"
     ]
    }
   ],
   "source": [
    "##### Tuple data type used parenthesis and the data stored are immutable\n",
    "AgeRange = (23,32,45)\n",
    "print(AgeRange)"
   ]
  },
  {
   "cell_type": "code",
   "execution_count": 16,
   "id": "b13fcce6",
   "metadata": {},
   "outputs": [
    {
     "data": {
      "text/plain": [
       "('four', 'three', 'seven')"
      ]
     },
     "execution_count": 16,
     "metadata": {},
     "output_type": "execute_result"
    }
   ],
   "source": [
    "AgeRange1 = ('four','three','seven')\n",
    "AgeRange1"
   ]
  },
  {
   "cell_type": "markdown",
   "id": "643d9737",
   "metadata": {},
   "source": [
    "##### - Dictionary Data type"
   ]
  },
  {
   "cell_type": "code",
   "execution_count": null,
   "id": "c29c6914",
   "metadata": {},
   "outputs": [
    {
     "name": "stdout",
     "output_type": "stream",
     "text": [
      "{'BTC': 98000, 'ETH': 2300, 'SOL': 160}\n"
     ]
    }
   ],
   "source": [
    "#### Dictionary stores information that goes together covered with coily braces{}\n",
    "CryptoPrices = {'BTC': 98000,'ETH':2300,'SOL':160}\n",
    "print(CryptoPrices)\n"
   ]
  },
  {
   "cell_type": "markdown",
   "id": "67d3c4eb",
   "metadata": {},
   "source": [
    "#### - Set"
   ]
  },
  {
   "cell_type": "code",
   "execution_count": 3,
   "id": "bb2b3ce0",
   "metadata": {},
   "outputs": [
    {
     "name": "stdout",
     "output_type": "stream",
     "text": [
      "{1, 2, 3}\n"
     ]
    }
   ],
   "source": [
    "#### Set data type stores an ordered collection of unique items. A value does not apear twice. \n",
    "SetDataType = {1,2,3}\n",
    "print(SetDataType)\n"
   ]
  },
  {
   "cell_type": "markdown",
   "id": "7b2bbafa",
   "metadata": {},
   "source": [
    "#### - None\n",
    "##### None data type stores empty values like Null, Blank, etc\n"
   ]
  },
  {
   "cell_type": "markdown",
   "id": "ab93b588",
   "metadata": {},
   "source": [
    "### Checking Data Type"
   ]
  },
  {
   "cell_type": "code",
   "execution_count": 5,
   "id": "76daba50",
   "metadata": {},
   "outputs": [
    {
     "name": "stdout",
     "output_type": "stream",
     "text": [
      "<class 'int'>\n"
     ]
    }
   ],
   "source": [
    "age = 39\n",
    "# print(f'My age is {age}')\n",
    "print(type(age))"
   ]
  },
  {
   "cell_type": "markdown",
   "id": "4cfa2739",
   "metadata": {},
   "source": [
    "### Coverting Data Types"
   ]
  },
  {
   "cell_type": "code",
   "execution_count": 7,
   "id": "4b0e636e",
   "metadata": {},
   "outputs": [
    {
     "name": "stdout",
     "output_type": "stream",
     "text": [
      "My age is 39\n"
     ]
    }
   ],
   "source": [
    "age = '39'\n",
    "int(age)\n",
    "print(f'My age is {age}')\n"
   ]
  },
  {
   "cell_type": "code",
   "execution_count": 9,
   "id": "44c0f9c9",
   "metadata": {},
   "outputs": [
    {
     "name": "stdout",
     "output_type": "stream",
     "text": [
      "Seventy-Thousand\n"
     ]
    }
   ],
   "source": [
    "Salary = 'Seventy-Thousand'\n",
    "str(Salary)\n",
    "print(Salary)"
   ]
  },
  {
   "cell_type": "markdown",
   "id": "dff1a239",
   "metadata": {},
   "source": [
    "#### (1)Common Method and Function in String"
   ]
  },
  {
   "cell_type": "code",
   "execution_count": 5,
   "id": "2ca76f1a",
   "metadata": {},
   "outputs": [
    {
     "data": {
      "text/plain": [
       "10"
      ]
     },
     "execution_count": 5,
     "metadata": {},
     "output_type": "execute_result"
    }
   ],
   "source": [
    "Name = 'BloCKchaIn'\n",
    "len(Name) # Returns the number of characters in a string\n"
   ]
  },
  {
   "cell_type": "code",
   "execution_count": 4,
   "id": "3e02fbc7",
   "metadata": {},
   "outputs": [
    {
     "data": {
      "text/plain": [
       "'blockchain'"
      ]
     },
     "execution_count": 4,
     "metadata": {},
     "output_type": "execute_result"
    }
   ],
   "source": [
    "Name = 'BloCKchaIn'\n",
    "Name.lower() # Convert Upper case to Lower Case in a string"
   ]
  },
  {
   "cell_type": "code",
   "execution_count": 6,
   "id": "e0b47bdf",
   "metadata": {},
   "outputs": [
    {
     "data": {
      "text/plain": [
       "'BLOCKCHAIN'"
      ]
     },
     "execution_count": 6,
     "metadata": {},
     "output_type": "execute_result"
    }
   ],
   "source": [
    "Name = 'BloCKchaIn'\n",
    "Name.upper() # Convert Lower case to Upper Case in a string"
   ]
  },
  {
   "cell_type": "code",
   "execution_count": 12,
   "id": "d2bedff3",
   "metadata": {},
   "outputs": [
    {
     "data": {
      "text/plain": [
       "'Blockchain'"
      ]
     },
     "execution_count": 12,
     "metadata": {},
     "output_type": "execute_result"
    }
   ],
   "source": [
    "Name = \" Blockchain\"\n",
    "Name.strip() # Remove whitespace or specifit character from the beggining and end of a string"
   ]
  },
  {
   "cell_type": "code",
   "execution_count": null,
   "id": "3c47ec74",
   "metadata": {},
   "outputs": [
    {
     "data": {
      "text/plain": [
       "'Crypto'"
      ]
     },
     "execution_count": 16,
     "metadata": {},
     "output_type": "execute_result"
    }
   ],
   "source": [
    "y = 'BlockchaIn'\n",
    "y=y.replace('BlockchaIn','Crypto') # Replace a string with another string\n",
    "y"
   ]
  },
  {
   "cell_type": "code",
   "execution_count": null,
   "id": "e8e5db77",
   "metadata": {},
   "outputs": [
    {
     "data": {
      "text/plain": [
       "['BloCKchaIn', ' cryptos', ' asset', ' price']"
      ]
     },
     "execution_count": 20,
     "metadata": {},
     "output_type": "execute_result"
    }
   ],
   "source": [
    "x = 'BloCKchaIn, cryptos, asset, price'\n",
    "x = x.split(',') # split different string into seperate column\n",
    "x "
   ]
  },
  {
   "cell_type": "code",
   "execution_count": null,
   "id": "4271a6c9",
   "metadata": {},
   "outputs": [
    {
     "data": {
      "text/plain": [
       "True"
      ]
     },
     "execution_count": 22,
     "metadata": {},
     "output_type": "execute_result"
    }
   ],
   "source": [
    "P = 'CryptoAsset'\n",
    "'Asset' in P # check if a set of character is inside a string"
   ]
  },
  {
   "cell_type": "markdown",
   "id": "e9f5ec41",
   "metadata": {},
   "source": [
    "#### 2 List[]: Ordered, mutable, and indexsble set of elements"
   ]
  },
  {
   "cell_type": "code",
   "execution_count": 25,
   "id": "f7a90039",
   "metadata": {},
   "outputs": [
    {
     "data": {
      "text/plain": [
       "list"
      ]
     },
     "execution_count": 25,
     "metadata": {},
     "output_type": "execute_result"
    }
   ],
   "source": [
    "Tokens = ['BTC', 'ALU','HBAR','SOL']\n",
    "type(Tokens)"
   ]
  },
  {
   "cell_type": "markdown",
   "id": "38fabcd4",
   "metadata": {},
   "source": [
    "#### Common Method of List[]"
   ]
  },
  {
   "cell_type": "code",
   "execution_count": 55,
   "id": "47d704a1",
   "metadata": {},
   "outputs": [
    {
     "data": {
      "text/plain": [
       "4"
      ]
     },
     "execution_count": 55,
     "metadata": {},
     "output_type": "execute_result"
    }
   ],
   "source": [
    "Tokens = ['BTC', 'ALU','HBAR','SOL']\n",
    "len(Tokens) # lenght of list"
   ]
  },
  {
   "cell_type": "code",
   "execution_count": 56,
   "id": "0022d503",
   "metadata": {},
   "outputs": [
    {
     "name": "stdout",
     "output_type": "stream",
     "text": [
      "['BTC', 'ALU', 'HBAR', 'SOL', 'TIA']\n"
     ]
    }
   ],
   "source": [
    "Tokens = ['BTC', 'ALU','HBAR','SOL']\n",
    "Tokens.append ('TIA') # Add to the end of list\n",
    "print(Tokens)"
   ]
  },
  {
   "cell_type": "code",
   "execution_count": null,
   "id": "8ed33ac0",
   "metadata": {},
   "outputs": [
    {
     "data": {
      "text/plain": [
       "['BTC', 'ALU', 'ADA', 'HBAR', 'SOL']"
      ]
     },
     "execution_count": 38,
     "metadata": {},
     "output_type": "execute_result"
    }
   ],
   "source": [
    "Tokens = ['BTC', 'ALU','HBAR','SOL']\n",
    "Tokens.insert(2,'ADA') # Add to the list\n",
    "Tokens"
   ]
  },
  {
   "cell_type": "code",
   "execution_count": 57,
   "id": "8fff6c18",
   "metadata": {},
   "outputs": [
    {
     "data": {
      "text/plain": [
       "['BTC', 'HBAR', 'SOL', 'TIA']"
      ]
     },
     "execution_count": 57,
     "metadata": {},
     "output_type": "execute_result"
    }
   ],
   "source": [
    "Tokens.remove('ALU') # remove from list using string\n",
    "Tokens"
   ]
  },
  {
   "cell_type": "code",
   "execution_count": 77,
   "id": "a98d3754",
   "metadata": {},
   "outputs": [
    {
     "data": {
      "text/plain": [
       "['BTC', 'TIA', 'ETH', 'ADA', 'ALU']"
      ]
     },
     "execution_count": 77,
     "metadata": {},
     "output_type": "execute_result"
    }
   ],
   "source": [
    "Token= ['BTC','TIA', 'SOL','ETH','ADA', 'ALU']\n",
    "Token.pop(2) # remove from list using index\n",
    "Token"
   ]
  },
  {
   "cell_type": "code",
   "execution_count": 78,
   "id": "196e5cb2",
   "metadata": {},
   "outputs": [
    {
     "data": {
      "text/plain": [
       "['ADA', 'ALU', 'BTC', 'ETH', 'TIA']"
      ]
     },
     "execution_count": 78,
     "metadata": {},
     "output_type": "execute_result"
    }
   ],
   "source": [
    "Token.sort() # Sort elements in a list\n",
    "Token"
   ]
  },
  {
   "cell_type": "code",
   "execution_count": 80,
   "id": "bdd6f636",
   "metadata": {},
   "outputs": [
    {
     "data": {
      "text/plain": [
       "['TIA', 'ETH', 'BTC', 'ALU', 'ADA']"
      ]
     },
     "execution_count": 80,
     "metadata": {},
     "output_type": "execute_result"
    }
   ],
   "source": [
    "Token.reverse() # Return a list to its previous state\n",
    "Token"
   ]
  },
  {
   "cell_type": "markdown",
   "id": "bd04f1bc",
   "metadata": {},
   "source": [
    "#### Index and Slicing"
   ]
  },
  {
   "cell_type": "code",
   "execution_count": null,
   "id": "ed351ac0",
   "metadata": {},
   "outputs": [
    {
     "data": {
      "text/plain": [
       "'SOL'"
      ]
     },
     "execution_count": 81,
     "metadata": {},
     "output_type": "execute_result"
    }
   ],
   "source": [
    "z = ['BTC','TIA', 'SOL','ETH','ADA', 'ALU']\n",
    "z[2] # to fetch out element in list by index\n"
   ]
  },
  {
   "cell_type": "code",
   "execution_count": 82,
   "id": "d25ca924",
   "metadata": {},
   "outputs": [
    {
     "data": {
      "text/plain": [
       "['SOL', 'ETH']"
      ]
     },
     "execution_count": 82,
     "metadata": {},
     "output_type": "execute_result"
    }
   ],
   "source": [
    "z = ['BTC','TIA', 'SOL','ETH','ADA', 'ALU']\n",
    "z[2:4] # extracts a portion of a string (or list) starting at index 2 up to but not including index 4"
   ]
  },
  {
   "cell_type": "code",
   "execution_count": null,
   "id": "22554750",
   "metadata": {},
   "outputs": [
    {
     "data": {
      "text/plain": [
       "['SOL', 'ETH', 'ADA', 'ALU']"
      ]
     },
     "execution_count": 83,
     "metadata": {},
     "output_type": "execute_result"
    }
   ],
   "source": [
    "z = ['BTC','TIA', 'SOL','ETH','ADA', 'ALU']\n",
    "z[2:] # extracts a portion of a string (or list) starting at index 2 up to the end"
   ]
  },
  {
   "cell_type": "code",
   "execution_count": 92,
   "id": "7ee92be9",
   "metadata": {},
   "outputs": [
    {
     "name": "stdout",
     "output_type": "stream",
     "text": [
      "('BTC', 'ADA')\n"
     ]
    }
   ],
   "source": [
    "z = ['BTC','TIA', 'SOL','ETH','ADA', 'ALU']\n",
    "r = z[0], z[4]\n",
    "print(r)"
   ]
  },
  {
   "cell_type": "markdown",
   "id": "4520c62a",
   "metadata": {},
   "source": [
    "#### 3 Dictionary:\n",
    "##### It is unordered and mutable collection of key:value Pair"
   ]
  },
  {
   "cell_type": "code",
   "execution_count": 94,
   "id": "53bd5afd",
   "metadata": {},
   "outputs": [
    {
     "name": "stdout",
     "output_type": "stream",
     "text": [
      "{'Address': '0xABC', 'Balance': 5.4, 'is_active': 'True'}\n"
     ]
    }
   ],
   "source": [
    "Wallet = {\n",
    "    'Address':'0xABC',\n",
    "    'Balance': 5.4,\n",
    "    'is_active': 'True'\n",
    "\n",
    "}\n",
    "print(Wallet)"
   ]
  },
  {
   "cell_type": "markdown",
   "id": "d7056fe7",
   "metadata": {},
   "source": [
    "##### Common Method in Dictionary"
   ]
  },
  {
   "cell_type": "code",
   "execution_count": null,
   "id": "fe4aad1d",
   "metadata": {},
   "outputs": [
    {
     "data": {
      "text/plain": [
       "5.4"
      ]
     },
     "execution_count": 98,
     "metadata": {},
     "output_type": "execute_result"
    }
   ],
   "source": [
    "Wallet['Balance'] # dic('key') to get value by key in the dictionary"
   ]
  },
  {
   "cell_type": "code",
   "execution_count": 99,
   "id": "c3c77e4b",
   "metadata": {},
   "outputs": [
    {
     "data": {
      "text/plain": [
       "'0xABC'"
      ]
     },
     "execution_count": 99,
     "metadata": {},
     "output_type": "execute_result"
    }
   ],
   "source": [
    "Wallet.get('Address') # .get(Key) gives us assess to the value in the dictionary"
   ]
  },
  {
   "cell_type": "code",
   "execution_count": null,
   "id": "3718cafe",
   "metadata": {},
   "outputs": [
    {
     "data": {
      "text/plain": [
       "dict_keys(['Address', 'Balance', 'is_active'])"
      ]
     },
     "execution_count": 101,
     "metadata": {},
     "output_type": "execute_result"
    }
   ],
   "source": [
    "Wallet.keys() #.keys() gives us all the keys"
   ]
  },
  {
   "cell_type": "code",
   "execution_count": 102,
   "id": "97368751",
   "metadata": {},
   "outputs": [
    {
     "data": {
      "text/plain": [
       "dict_values(['0xABC', 5.4, 'True'])"
      ]
     },
     "execution_count": 102,
     "metadata": {},
     "output_type": "execute_result"
    }
   ],
   "source": [
    "Wallet.values() # .values() gives us all the values"
   ]
  },
  {
   "cell_type": "code",
   "execution_count": 104,
   "id": "522292ef",
   "metadata": {},
   "outputs": [
    {
     "data": {
      "text/plain": [
       "dict_items([('Address', '0xABC'), ('Balance', 5.4), ('is_active', 'True')])"
      ]
     },
     "execution_count": 104,
     "metadata": {},
     "output_type": "execute_result"
    }
   ],
   "source": [
    "Wallet.items() # .items gives us all the key and the values"
   ]
  },
  {
   "cell_type": "code",
   "execution_count": 115,
   "id": "bd6bbc49",
   "metadata": {},
   "outputs": [
    {
     "name": "stdout",
     "output_type": "stream",
     "text": [
      "{'Address': '0xABC', 'Balance': 5.4, 'is_active': 'False', 'balance': 700}\n"
     ]
    }
   ],
   "source": [
    "Wallet.update({'balance':700}) # .update({\"key\":value}) allows to update a value in a wallet\n",
    "print(Wallet)\n"
   ]
  },
  {
   "cell_type": "code",
   "execution_count": 116,
   "id": "5ac45b7e",
   "metadata": {},
   "outputs": [
    {
     "data": {
      "text/plain": [
       "{'Address': '0xABC', 'Balance': 5.4, 'is_active': 'True', 'balance': 700}"
      ]
     },
     "execution_count": 116,
     "metadata": {},
     "output_type": "execute_result"
    }
   ],
   "source": [
    "Wallet.update({'is_active':'True'})\n",
    "Wallet"
   ]
  },
  {
   "cell_type": "code",
   "execution_count": 117,
   "id": "87d86762",
   "metadata": {},
   "outputs": [
    {
     "data": {
      "text/plain": [
       "{'Address': '0xABC', 'Balance': 5.4, 'balance': 700}"
      ]
     },
     "execution_count": 117,
     "metadata": {},
     "output_type": "execute_result"
    }
   ],
   "source": [
    "Wallet.pop('is_active') # .pop is used to remove by key\n",
    "Wallet"
   ]
  },
  {
   "cell_type": "markdown",
   "id": "169c177c",
   "metadata": {},
   "source": [
    "#### 4 Tuple() \n",
    "##### It stores a collection of items just like a list. But tuples are immutable, meaning you can’t change them after creation.\n",
    "\n"
   ]
  },
  {
   "cell_type": "code",
   "execution_count": null,
   "id": "f783a37b",
   "metadata": {},
   "outputs": [
    {
     "name": "stdout",
     "output_type": "stream",
     "text": [
      "('BTC', 2025, 'Halving')\n"
     ]
    }
   ],
   "source": [
    "Block = ('BTC', 2025, 'Halving','BTC')\n",
    "print(Block)"
   ]
  },
  {
   "cell_type": "markdown",
   "id": "869f0a1c",
   "metadata": {},
   "source": [
    "#### Common Functions and Methods in Tuble()"
   ]
  },
  {
   "cell_type": "code",
   "execution_count": null,
   "id": "73d24fec",
   "metadata": {},
   "outputs": [
    {
     "data": {
      "text/plain": [
       "4"
      ]
     },
     "execution_count": 5,
     "metadata": {},
     "output_type": "execute_result"
    }
   ],
   "source": [
    "Block = ('BTC', 2025, 'Halving','BTC')\n",
    "len(Block) # number of element in the tuple"
   ]
  },
  {
   "cell_type": "code",
   "execution_count": null,
   "id": "7c7c7dbd",
   "metadata": {},
   "outputs": [
    {
     "data": {
      "text/plain": [
       "2"
      ]
     },
     "execution_count": 6,
     "metadata": {},
     "output_type": "execute_result"
    }
   ],
   "source": [
    "Block = ('BTC', 2025, 'Halving','BTC')\n",
    "Block.count('BTC') # count number of time an element appears"
   ]
  },
  {
   "cell_type": "code",
   "execution_count": null,
   "id": "f86f6ae3",
   "metadata": {},
   "outputs": [
    {
     "data": {
      "text/plain": [
       "1"
      ]
     },
     "execution_count": 9,
     "metadata": {},
     "output_type": "execute_result"
    }
   ],
   "source": [
    "Block.index(2025) # check the index of element"
   ]
  },
  {
   "cell_type": "code",
   "execution_count": 13,
   "id": "e27f6094",
   "metadata": {},
   "outputs": [
    {
     "data": {
      "text/plain": [
       "True"
      ]
     },
     "execution_count": 13,
     "metadata": {},
     "output_type": "execute_result"
    }
   ],
   "source": [
    "'Halving' in Block # check in an element is present in a tuple\n"
   ]
  },
  {
   "cell_type": "markdown",
   "id": "64938a94",
   "metadata": {},
   "source": [
    "#### 5 Set\n",
    "##### It store a collection of unique, unordered items. It's like a bag of values where duplicates are automatically removed, and order doesn’t matter.\n",
    "\n"
   ]
  },
  {
   "cell_type": "code",
   "execution_count": 14,
   "id": "d88e1d2e",
   "metadata": {},
   "outputs": [
    {
     "name": "stdout",
     "output_type": "stream",
     "text": [
      "{'0XDEF', '0xABC', '0X123'}\n"
     ]
    }
   ],
   "source": [
    "wallet = {'0xABC','0XDEF','0X123'}\n",
    "print(wallet)"
   ]
  },
  {
   "cell_type": "markdown",
   "id": "5e1789dd",
   "metadata": {},
   "source": [
    "#### common Functions and Methods in Set()"
   ]
  },
  {
   "cell_type": "code",
   "execution_count": null,
   "id": "e3aa36aa",
   "metadata": {},
   "outputs": [
    {
     "data": {
      "text/plain": [
       "{'0X123', '0XDEF', '0x456', '0xABC'}"
      ]
     },
     "execution_count": 15,
     "metadata": {},
     "output_type": "execute_result"
    }
   ],
   "source": [
    "wallet.add('0x456') # add elment(s) to the set\n",
    "wallet"
   ]
  },
  {
   "cell_type": "code",
   "execution_count": null,
   "id": "edc6aa8b",
   "metadata": {},
   "outputs": [
    {
     "data": {
      "text/plain": [
       "{'0X123', '0XDEF', '0xABC'}"
      ]
     },
     "execution_count": 16,
     "metadata": {},
     "output_type": "execute_result"
    }
   ],
   "source": [
    "wallet.remove('0x456') # removes element. (trows error if not present)\n",
    "wallet"
   ]
  },
  {
   "cell_type": "code",
   "execution_count": null,
   "id": "aa00cf4e",
   "metadata": {},
   "outputs": [
    {
     "data": {
      "text/plain": [
       "{'0X123', '0xABC'}"
      ]
     },
     "execution_count": 17,
     "metadata": {},
     "output_type": "execute_result"
    }
   ],
   "source": [
    "wallet.discard('0XDEF') # Removes element. ( trows no error if not prsent)\n",
    "wallet"
   ]
  },
  {
   "cell_type": "code",
   "execution_count": 19,
   "id": "5b19f427",
   "metadata": {},
   "outputs": [],
   "source": [
    "wallet_a = {'0x123','0x456','0x789'}\n",
    "wallet_b = {'0xABC','0xDEF','0xGHI'}\n",
    "wallet_c = {'0x012','0xJKL','0xMNO'}\n",
    "\n"
   ]
  },
  {
   "cell_type": "code",
   "execution_count": null,
   "id": "92298039",
   "metadata": {},
   "outputs": [
    {
     "data": {
      "text/plain": [
       "{'0x123', '0x456', '0x789', '0xABC', '0xDEF', '0xGHI'}"
      ]
     },
     "execution_count": 25,
     "metadata": {},
     "output_type": "execute_result"
    }
   ],
   "source": [
    "wallet_a.union(wallet_b) # .union() combines all the elements in a group of sets"
   ]
  },
  {
   "cell_type": "code",
   "execution_count": null,
   "id": "bad6c3aa",
   "metadata": {},
   "outputs": [
    {
     "name": "stdout",
     "output_type": "stream",
     "text": [
      "{'0xGHI', '0xABC', '0xDEF', '0x123', '0x012', '0xMNO', '0x789', '0x456', '0xJKL'}\n"
     ]
    }
   ],
   "source": [
    "a = wallet_a.union(wallet_b)\n",
    "b = a.union(wallet_c)\n",
    "print(b)"
   ]
  },
  {
   "cell_type": "code",
   "execution_count": 24,
   "id": "422d33c9",
   "metadata": {},
   "outputs": [
    {
     "name": "stdout",
     "output_type": "stream",
     "text": [
      "{'0xGHI', '0xABC', '0xDEF', '0x123', '0x012', '0xMNO', '0x789', '0x456', '0xJKL'}\n"
     ]
    }
   ],
   "source": [
    "all_wallets = wallet_a.union(wallet_b, wallet_c)\n",
    "print(all_wallets)"
   ]
  },
  {
   "cell_type": "code",
   "execution_count": 42,
   "id": "87527172",
   "metadata": {},
   "outputs": [],
   "source": [
    "wallet_d = {'0x123','0x456','0xABC'}\n",
    "wallet_e = {'0xABC','0xDEF','0x123'}\n",
    "wallet_f = {'0x123','0xJKL','0xMNO'}\n",
    "\n"
   ]
  },
  {
   "cell_type": "code",
   "execution_count": null,
   "id": "149d46e9",
   "metadata": {},
   "outputs": [
    {
     "data": {
      "text/plain": [
       "{'0x123', '0xABC'}"
      ]
     },
     "execution_count": 43,
     "metadata": {},
     "output_type": "execute_result"
    }
   ],
   "source": [
    "d = wallet_d.intersection(wallet_e) # .intersection() looks for common element(s) in a group of set\n",
    "d"
   ]
  },
  {
   "cell_type": "code",
   "execution_count": 44,
   "id": "158c83d5",
   "metadata": {},
   "outputs": [
    {
     "data": {
      "text/plain": [
       "{'0x123'}"
      ]
     },
     "execution_count": 44,
     "metadata": {},
     "output_type": "execute_result"
    }
   ],
   "source": [
    "e = d.intersection(wallet_f)\n",
    "e"
   ]
  },
  {
   "cell_type": "code",
   "execution_count": null,
   "id": "96d6ab12",
   "metadata": {},
   "outputs": [
    {
     "data": {
      "text/plain": [
       "{'0x012', '0xJKL', '0xMNO'}"
      ]
     },
     "execution_count": 45,
     "metadata": {},
     "output_type": "execute_result"
    }
   ],
   "source": [
    "f = wallet_c.difference(wallet_e) # returns unique element(s) in a group of set\n",
    "f\n"
   ]
  },
  {
   "cell_type": "code",
   "execution_count": 46,
   "id": "b612683f",
   "metadata": {},
   "outputs": [
    {
     "name": "stdout",
     "output_type": "stream",
     "text": [
      "{'0x012'}\n"
     ]
    }
   ],
   "source": [
    "g = f.difference(wallet_f)\n",
    "print(g)"
   ]
  },
  {
   "cell_type": "code",
   "execution_count": 47,
   "id": "16119bbf",
   "metadata": {},
   "outputs": [
    {
     "data": {
      "text/plain": [
       "True"
      ]
     },
     "execution_count": 47,
     "metadata": {},
     "output_type": "execute_result"
    }
   ],
   "source": [
    "'0x123' in wallet_e\n"
   ]
  },
  {
   "cell_type": "markdown",
   "id": "29fd4a37",
   "metadata": {},
   "source": [
    "### Nested Data Structure\n",
    "##### This is the combination of basic data structures. Placing one data structure inside another. For example, a list inside a dictionary, a dictionary inside a list, a set of tuples, etc."
   ]
  },
  {
   "cell_type": "code",
   "execution_count": null,
   "id": "95af2ba7",
   "metadata": {},
   "outputs": [
    {
     "name": "stdout",
     "output_type": "stream",
     "text": [
      "9\n"
     ]
    }
   ],
   "source": [
    "# List of List\n",
    "Matrix = [\n",
    "            [1,2,3],\n",
    "            [4,5,6],\n",
    "            [7,8,9]\n",
    "]  \n",
    "print(Matrix[2][2])"
   ]
  },
  {
   "cell_type": "code",
   "execution_count": 57,
   "id": "2cafe358",
   "metadata": {},
   "outputs": [
    {
     "name": "stdout",
     "output_type": "stream",
     "text": [
      "Samson\n"
     ]
    }
   ],
   "source": [
    "# List of Dictionary\n",
    "user = [\n",
    "        {'Name': 'ALice','Wallet':'0x123'},\n",
    "        {'Name':'Bod','Wallet':'0x456'},\n",
    "        {'Name': 'Bashiru','Wallet':'0xABC'},\n",
    "        {'Name':'Maryam','Wallet':'0xDEF'},\n",
    "        {'Name': 'John','Wallet':'0x133'},\n",
    "        {'Name':'Samson','Wallet':'0x476'} \n",
    "       ]\n",
    "print(user[5]['Name'])"
   ]
  },
  {
   "cell_type": "code",
   "execution_count": null,
   "id": "c96b01ba",
   "metadata": {},
   "outputs": [
    {
     "name": "stdout",
     "output_type": "stream",
     "text": [
      "BTC\n"
     ]
    }
   ],
   "source": [
    "# Dictionary of List\n",
    "Wallets = {\n",
    "        '0x123': ['ALU','BTC','ETH'],\n",
    "        '0x456':['CSP','ADA','POL'],\n",
    "        '0xABC':['BTC','FEG','SOL'],\n",
    "        '0xDEF':['TON','ETH','CSP'],\n",
    "        '0x1AB': ['SOL','ADA','PI'],\n",
    "        '0x2BA':['BTC','TON','SOL'] \n",
    "}\n",
    "print(Wallets['0x123'][1])"
   ]
  },
  {
   "cell_type": "code",
   "execution_count": 62,
   "id": "93cfb461",
   "metadata": {},
   "outputs": [
    {
     "name": "stdout",
     "output_type": "stream",
     "text": [
      "23\n"
     ]
    }
   ],
   "source": [
    "# Dictionary of Dictionary\n",
    "User_Profile ={\n",
    "        '0x123': {'Name':'Alice','Balance':12},\n",
    "        '0x456':{'Name':'Ada','Balance': 23},\n",
    "        '0xABC':{'Name':'Pat','Balance':2.5},\n",
    "        '0xDEF':{'Name':'Samson','Balance':7.5},\n",
    "        '0x1AB': {'Name':'John','Balance':45},\n",
    "        '0x2BA':{'Name':'Sherif','Balance':20} \n",
    "              }\n",
    "print(User_Profile['0x456']['Balance'])"
   ]
  },
  {
   "cell_type": "code",
   "execution_count": 67,
   "id": "0dc3df2d",
   "metadata": {},
   "outputs": [
    {
     "name": "stdout",
     "output_type": "stream",
     "text": [
      "0x789\n"
     ]
    }
   ],
   "source": [
    "# Mix and Match\n",
    "transactions = [\n",
    "    {\"tx_id\": \"0xa1b2c3d4\", \"from_address\": \"0x123\", \"to_address\": \"0xABC\", \"amount\": 5.2},\n",
    "    {\"tx_id\": \"0xe5f6g7h8\", \"from_address\": \"0x456\", \"to_address\": \"0xDEF\", \"amount\": 12.0},\n",
    "    {\"tx_id\": \"0x9i0j1k2l\", \"from_address\": \"0x789\", \"to_address\": \"0xGHI\", \"amount\": 0.75},\n",
    "    {\"tx_id\": \"0xm3n4o5p\", \"from_address\": \"0xABC\", \"to_address\": \"0x1AB\", \"amount\": 3.33 },\n",
    "    {\"tx_id\": \"0xq6r7s8t\", \"from_address\": \"0x2BA\", \"to_address\": \"0x456\", \"amount\": 9.9}\n",
    "]\n",
    "print(transactions[2]['from_address'])"
   ]
  },
  {
   "cell_type": "code",
   "execution_count": null,
   "id": "cf73cb6c",
   "metadata": {},
   "outputs": [],
   "source": []
  }
 ],
 "metadata": {
  "kernelspec": {
   "display_name": "PythonTut",
   "language": "python",
   "name": "python3"
  },
  "language_info": {
   "codemirror_mode": {
    "name": "ipython",
    "version": 3
   },
   "file_extension": ".py",
   "mimetype": "text/x-python",
   "name": "python",
   "nbconvert_exporter": "python",
   "pygments_lexer": "ipython3",
   "version": "3.13.1"
  }
 },
 "nbformat": 4,
 "nbformat_minor": 5
}
